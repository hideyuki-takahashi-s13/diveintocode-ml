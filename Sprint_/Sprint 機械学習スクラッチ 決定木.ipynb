{
 "cells": [
  {
   "cell_type": "code",
   "execution_count": 1,
   "metadata": {},
   "outputs": [],
   "source": [
    "import numpy as np\n",
    "import pandas as pd\n",
    "import matplotlib.pyplot as plt\n",
    "%matplotlib inline\n",
    "\n",
    "from sklearn.model_selection import train_test_split\n",
    "from sklearn.preprocessing import StandardScaler\n",
    "from sklearn.tree import DecisionTreeClassifier\n",
    "from sklearn.metrics import accuracy_score\n",
    "from sklearn.metrics import precision_score\n",
    "from sklearn.metrics import recall_score\n",
    "from sklearn.metrics import f1_score\n",
    "from sklearn.metrics import confusion_matrix\n",
    "from sklearn.metrics import classification_report"
   ]
  },
  {
   "cell_type": "code",
   "execution_count": null,
   "metadata": {},
   "outputs": [],
   "source": []
  },
  {
   "cell_type": "markdown",
   "metadata": {},
   "source": [
    "# 【問題1】不純度を求める関数\n",
    "ノード の ジニ不純度 を計算する関数を作成してください。ノード $t$ に対するジニ不純度 $I(t)$ は以下の数式で求まります。クラスが混じり合っているほどジニ不純度は高くなります。<br>\n",
    "\n",
    "$I(t) = 1-\\sum_{i=1}^{K}P^2(C_i|t) = 1-\\sum_{i=1}^{K}(\\frac{N_{t,i}}{N_{t,all}})^{2}$\n",
    "\n",
    "$t$ : ノードのインデックス<br>\n",
    "$i$ : クラスのインデックス<br>\n",
    "$K$ : クラスの数<br>\n",
    "$C_i$ : i番目のクラス<br>\n",
    "$P(C_i|t)$ :　t番目のノードにおける$C_i$の割合<br>\n",
    "$N_{t,i}$ : t番目のノードのi番目のクラスに属するサンプル数<br>\n",
    "$N_{t,all}$ : t番目のノードのサンプルの総数<br>\n",
    "\n",
    "まずは簡単な例を作り、手計算と関数の結果を比較してください。<br>\n",
    "\n",
    "《例》<br>\n",
    "クラス1:サンプル数15, クラス2:サンプル数15 → ジニ不純度0.500<br>\n",
    "クラス1:サンプル数15, クラス2:サンプル数15, クラス3:サンプル数15 → ジニ不純度0.667<br>\n",
    "クラス1:サンプル数18, クラス2:サンプル数12 → ジニ不純度0.480<br>\n",
    "クラス1:サンプル数30, クラス2:サンプル数0 → ジニ不純度0.000<br>"
   ]
  },
  {
   "cell_type": "code",
   "execution_count": 2,
   "metadata": {},
   "outputs": [],
   "source": [
    "def gini_impurity(y):\n",
    "    K_value, K_counts = np.unique(y, return_counts=True) #K_value　＝　各クラスの値、K_counts　＝　各クラスの個数\n",
    "    \n",
    "    gini = 1 - sum((K_counts / len(y))**2)\n",
    "\n",
    "    return gini"
   ]
  },
  {
   "cell_type": "markdown",
   "metadata": {},
   "source": [
    "### 手計算"
   ]
  },
  {
   "cell_type": "code",
   "execution_count": 3,
   "metadata": {},
   "outputs": [
    {
     "data": {
      "text/plain": [
       "0.5"
      ]
     },
     "execution_count": 3,
     "metadata": {},
     "output_type": "execute_result"
    }
   ],
   "source": [
    "1- (15/30)**2 * 2"
   ]
  },
  {
   "cell_type": "code",
   "execution_count": 4,
   "metadata": {},
   "outputs": [
    {
     "data": {
      "text/plain": [
       "0.6666666666666667"
      ]
     },
     "execution_count": 4,
     "metadata": {},
     "output_type": "execute_result"
    }
   ],
   "source": [
    "1- (15/45)**2 * 3"
   ]
  },
  {
   "cell_type": "code",
   "execution_count": 5,
   "metadata": {},
   "outputs": [
    {
     "data": {
      "text/plain": [
       "0.48"
      ]
     },
     "execution_count": 5,
     "metadata": {},
     "output_type": "execute_result"
    }
   ],
   "source": [
    "1- ((18/30)**2 + (12/30)**2)"
   ]
  },
  {
   "cell_type": "code",
   "execution_count": 6,
   "metadata": {},
   "outputs": [
    {
     "data": {
      "text/plain": [
       "0.0"
      ]
     },
     "execution_count": 6,
     "metadata": {},
     "output_type": "execute_result"
    }
   ],
   "source": [
    "1- ((30/30)**2 + (0/30)**2)"
   ]
  },
  {
   "cell_type": "markdown",
   "metadata": {},
   "source": [
    "### 関数"
   ]
  },
  {
   "cell_type": "code",
   "execution_count": 7,
   "metadata": {},
   "outputs": [
    {
     "name": "stdout",
     "output_type": "stream",
     "text": [
      "0.5\n",
      "0.6666666666666667\n",
      "0.48\n",
      "0.0\n"
     ]
    }
   ],
   "source": [
    "y1 = np.hstack([np.array([1]*15), np.array([2]*15)])\n",
    "y2 = np.hstack([np.array([1]*15), np.array([2]*15), np.array([3]*15)])\n",
    "y3 = np.hstack([np.array([1]*18), np.array([2]*12)])\n",
    "y4 = np.hstack([np.array([1]*30), np.array([2]*0)])\n",
    "print(gini_impurity(y1))\n",
    "print(gini_impurity(y2))\n",
    "print(gini_impurity(y3))\n",
    "print(gini_impurity(y4))"
   ]
  },
  {
   "cell_type": "markdown",
   "metadata": {},
   "source": [
    "### 手計算と関数の結果が同じになることを確認。"
   ]
  },
  {
   "cell_type": "code",
   "execution_count": null,
   "metadata": {},
   "outputs": [],
   "source": []
  },
  {
   "cell_type": "markdown",
   "metadata": {},
   "source": [
    "# 【問題2】情報利得を求める関数\n",
    "次に、ノード間の 情報利得 を計算する関数を作成してください。問題1で作成したジニ不純度 $I(t)$ を計算する関数を呼び出して使います。情報利得$IG$は以下の数式で求まります。うまく分けられている時ほど情報利得は大きくなります。<br>\n",
    "ここで分岐は2つのみであるため、分岐先を「左側のノード・右側のノード」と呼びます。<br>\n",
    "\n",
    "$IG(p) = I(p)-\\frac{N_{left,all}}{N_{p,all}}I(left)-\\frac{N_{right,all}}{N_{p,all}}I(right)$\n",
    "\n",
    "$p$ : 親ノードを示すインデックス<br>\n",
    "$left$ : 左側のノードを示すインデックス<br>\n",
    "$right$ : 右側のノードを示すインデックス<br>\n",
    "\n",
    "まずは簡単な例を作り、手計算と関数の結果を比較してください。<br>\n",
    "\n",
    "《例》<br>\n",
    "左ノードクラス1:サンプル数10, 左ノードクラス2:サンプル数30, 右ノードクラス1:サンプル数20, 右ノードクラス2:サンプル数5 → 情報利得0.143"
   ]
  },
  {
   "cell_type": "code",
   "execution_count": 8,
   "metadata": {},
   "outputs": [],
   "source": [
    "def information_gain(y, y_left, y_right):\n",
    "    \n",
    "    gini_p = gini_impurity(y)\n",
    "    gini_left = gini_impurity(y_left)\n",
    "    gini_right = gini_impurity(y_right)\n",
    "\n",
    "    info_gain = gini_p - (len(y_left) / len(y) * gini_left ) - (len(y_right) / len(y) * gini_right)\n",
    "\n",
    "    return info_gain"
   ]
  },
  {
   "cell_type": "markdown",
   "metadata": {},
   "source": [
    "### 手計算"
   ]
  },
  {
   "cell_type": "code",
   "execution_count": 9,
   "metadata": {},
   "outputs": [
    {
     "data": {
      "text/plain": [
       "0.14319526627218937"
      ]
     },
     "execution_count": 9,
     "metadata": {},
     "output_type": "execute_result"
    }
   ],
   "source": [
    "p = 1- ((30/65)**2 + (35/65)**2)\n",
    "left = 1- ((10/40)**2 + (30/40)**2)\n",
    "right = 1- ((20/25)**2 + (5/25)**2)\n",
    "info_gain = p - (40/65 * left) - (25/65 * right)\n",
    "info_gain"
   ]
  },
  {
   "cell_type": "markdown",
   "metadata": {},
   "source": [
    "### 関数"
   ]
  },
  {
   "cell_type": "code",
   "execution_count": 10,
   "metadata": {},
   "outputs": [
    {
     "data": {
      "text/plain": [
       "0.14319526627218937"
      ]
     },
     "execution_count": 10,
     "metadata": {},
     "output_type": "execute_result"
    }
   ],
   "source": [
    "y = np.hstack([np.array([1]*30), np.array([2]*35)])\n",
    "y_left = np.hstack([np.array([1]*10), np.array([2]*30)])\n",
    "y_right = np.hstack([np.array([1]*20), np.array([2]*5)])\n",
    "information_gain(y, y_left, y_right)"
   ]
  },
  {
   "cell_type": "markdown",
   "metadata": {},
   "source": [
    "### 手計算と関数の結果が同じになることを確認。"
   ]
  },
  {
   "cell_type": "code",
   "execution_count": null,
   "metadata": {},
   "outputs": [],
   "source": []
  },
  {
   "cell_type": "markdown",
   "metadata": {},
   "source": [
    "# 【問題3】学習\n",
    "空間の分割を行い、決定木のグラフを生成するコードを作成してください。今は深さ1の決定木なので、分割を1回だけ行います。ここでグラフを生成するとは、1回の分割の際の条件としてどの特徴量がいくつ以上の時とするかを求めるということです。<br>\n",
    "\n",
    "訓練データに対して全ての組み合わせの分割を行い、その中でノード間の情報利得が最大となる分割をそのノードの分割基準として記録します。<br>\n",
    "\n",
    "クラスが混ざらない不純度が0のノード、または指定された深さのノードが 葉ノード となります。葉ノードにはクラスを記録しておき、これを推定時に分類するクラスとします。クラスが混ざらない場合はそのままのクラスを記録し、混ざっている場合は多数決により決めます。<br>\n",
    "\n",
    "《組み合わせの取り方》<br>\n",
    "全ての組み合わせの取り方は、最も単純には各特徴量の値自体をしきい値にして分割を行う方法があります。片側の端は今回のスクラッチはこの方法で行なってください。<br>\n",
    "\n",
    "他には中間の値をしきい値にする方法もあり、scikit-learnではこの方法が用いられています。<br>\n",
    "\n",
    "《補足》<br>\n",
    "問題2の情報利得を計算する関数はこの問題3で利用する上では、親ノードの不純度 $I(p)$ は固定されるため、左右のノードの不純度の合計を計算するだけでも同じ結果が得られることになります。しかし、ここでは親ノードを考慮した情報利得を計算する実装を行なってください。"
   ]
  },
  {
   "cell_type": "markdown",
   "metadata": {},
   "source": [
    "### ScratchDecesionTreeClassifierDepth1クラスのlearning_function関数とfit関数に回答を記載。"
   ]
  },
  {
   "cell_type": "code",
   "execution_count": null,
   "metadata": {},
   "outputs": [],
   "source": []
  },
  {
   "cell_type": "markdown",
   "metadata": {},
   "source": [
    "# 【問題4】推定\n",
    "推定する仕組みを実装してください。ScratchDecesionTreeClassifierDepth1クラスの雛形に含まれるpredictメソッドに書き加えてください。<br>\n",
    "入力されたデータの値を学習した条件で判定していき、どの葉ノードに到達するかを見ます。葉ノードにはクラスが記録されているので、これが推定値となります。"
   ]
  },
  {
   "cell_type": "code",
   "execution_count": 11,
   "metadata": {},
   "outputs": [],
   "source": [
    "class ScratchDecesionTreeClassifierDepth1():\n",
    "    \"\"\"\n",
    "    深さ1の決定木分類器のスクラッチ実装\n",
    "\n",
    "    Parameters\n",
    "    ----------\n",
    "    verbose : bool\n",
    "      学習過程を出力する場合はTrue\n",
    "    \"\"\"\n",
    "    def __init__(self, verbose=False):\n",
    "        # ハイパーパラメータを属性として記録\n",
    "        self.verbose = verbose\n",
    "        \n",
    "    #学習用の関数　　　【問題3】学習\n",
    "    def learning_function(self, X, y, i, j):\n",
    "        True_index = np.where(X[:, j] <= X[i, j]) #Trueのインデックスを抽出\n",
    "        gini_True = self.gini_impurity(y[True_index]) #Trueのジニ不純度を算出\n",
    "        False_index = np.where(X[:, j] > X[i, j]) #Falseのインデックスを抽出 \n",
    "        gini_False = self.gini_impurity(y[False_index]) #Falseのジニ不純度を算出\n",
    "        info_gain = information_gain(y, y[True_index], y[False_index])#情報利得を算出\n",
    "        \n",
    "        return True_index, gini_True, False_index, gini_False, info_gain\n",
    "    \n",
    "    #【問題3】学習\n",
    "    def fit(self, X, y):\n",
    "        \"\"\"\n",
    "        決定木分類器を学習する\n",
    "        Parameters\n",
    "        ----------\n",
    "        X : 次の形のndarray, shape (n_samples, n_features)\n",
    "            訓練データの特徴量\n",
    "        y : 次の形のndarray, shape (n_samples, )\n",
    "            訓練データの正解値\n",
    "        \"\"\"   \n",
    "        #特徴量の各要素の値を閾値としてデータを分割し、インデックス・列・情報利得をリストに格納\n",
    "        info_array = ([])\n",
    "        for j in range(X.shape[1]):\n",
    "            for i in range(X.shape[0]):\n",
    "                True_index, gini_True, False_index, gini_False, info_gain = self.learning_function(X, y, i, j)\n",
    "                info_array = np.append(info_array, np.array([i, j, info_gain]))\n",
    "\n",
    "        info_array = info_array.reshape(-1, 3)\n",
    "        gain_max_index = np.min(np.argmax(info_array[:, -1])) #info_arrayより情報利得最大時のインデックスを抽出\n",
    "        elements_row = int(info_array[gain_max_index][0]) #情報利得最大時の要素のインデックスを抽出\n",
    "        elements_column = int(info_array[gain_max_index][1]) #情報利得最大時の要素の列を抽出\n",
    "        \n",
    "        #情報利得最大時の学習結果\n",
    "        True_index, gini_True, False_index, gini_False, info_gain = self.learning_function(X, y, elements_row, elements_column)\n",
    "        \n",
    "        self.gini_root = self. gini_impurity(y) #root nodeのジニ不純度\n",
    "        self.gini_True = gini_True #情報利得最大時のTrue(left)のジニ不純度\n",
    "        self.gini_False = gini_False #情報利得最大時のFalse(right)のジニ不純度\n",
    "        self.info_gain = info_gain #最大情報利得\n",
    "        self.True_samples = len(y[True_index]) #情報利得最大時のTrue(left)のサンプル数\n",
    "        self.False_samples = len(y[False_index]) #情報利得最大時のFalse(right)のサンプル数\n",
    "        self.threshold = X[elements_row, elements_column] #情報利得最大時の閾値（要素）\n",
    "        self.threshold_column = elements_column #情報利得最大時の閾値の特徴量\n",
    "        \n",
    "        #Trueのクラスを決定\n",
    "        True_value, True_counts = np.unique(y[True_index], return_counts=True)\n",
    "        if len(True_value) == 1:\n",
    "            True_class = True_value[0]\n",
    "        else:\n",
    "            True_class = True_value[np.argmax(True_counts)]\n",
    "        \n",
    "        self.True_class = True_class\n",
    "            \n",
    "        #Falseのクラスを決定\n",
    "        False_value, False_counts = np.unique(y[False_index], return_counts=True)\n",
    "        if len(False_value) == 1:\n",
    "            False_class = False_value[0]\n",
    "        else:\n",
    "            False_class = False_value[np.argmax(False_counts)]\n",
    "        \n",
    "        self.False_class = False_class\n",
    "        \n",
    "        if self.verbose:\n",
    "            #verboseをTrueにした際は学習過程を出力\n",
    "            print(\"情報利得：\", info_array[:, -1])\n",
    "            print(\"情報利得の最大値は{:.3f}です。\".format(np.max(info_array[:, -1])))\n",
    "        \n",
    "    \n",
    "    #【問題4】推定\n",
    "    def predict(self, X):\n",
    "        \"\"\"\n",
    "        決定木分類器を使いラベルを推定する\n",
    "        \"\"\"\n",
    "        True_index = np.where(X[:, self.threshold_column] <= self.threshold) #Trueのインデックスを抽出\n",
    "        False_index = np.where(X[:, self.threshold_column] > self.threshold) #Falseのインデックスを抽出\n",
    "        \n",
    "        True_class = np.vstack([True_index[0], [self.True_class] * len(True_index[0])]) #Trueのインデックスにクラスをマージ\n",
    "        False_class = np.vstack([False_index[0], [self.False_class] * len(False_index[0])]) #Falseのインデックスにクラスをマージ\n",
    "        pred_class = np.hstack([True_class, False_class]) #TrueとFalseのクラスをマージ\n",
    "        \n",
    "        pred = pred_class[:, np.argsort(pred_class[0, :])][1] #インデックスでソートし、クラスの行を抽出\n",
    "        \n",
    "        pass\n",
    "        return pred\n",
    "    \n",
    "    #【問題1】不純度を求める関数\n",
    "    def gini_impurity(self, y):\n",
    "        K_value, K_counts = np.unique(y, return_counts=True) #K_value　＝　各クラスの値、K_counts　＝　各クラスの個数\n",
    "\n",
    "        gini = 1 - sum((K_counts / len(y))**2)\n",
    "\n",
    "        return gini\n",
    "    \n",
    "    #【問題2】情報利得を求める関数\n",
    "    def information_gain(self, y, y_left, y_right):\n",
    "        gini_p = self.gini_impurity(y) #親のジニ不純度\n",
    "        gini_left = self.gini_impurity(y_left) #leftのジニ不純度\n",
    "        gini_right = self.gini_impurity(y_right) #rightのジニ不純度\n",
    "\n",
    "        info_gain = gini_p - (len(y_left) / len(y) * gini_left ) - (len(y_right) / len(y) * gini_right)\n",
    "\n",
    "        return info_gain"
   ]
  },
  {
   "cell_type": "code",
   "execution_count": null,
   "metadata": {},
   "outputs": [],
   "source": []
  },
  {
   "cell_type": "markdown",
   "metadata": {},
   "source": [
    "# 【問題5】学習と推定\n",
    "機械学習スクラッチ入門のSprintで用意したシンプルデータセット2の2値分類に対してスクラッチ実装の学習と推定を行なってください。<br>\n",
    "scikit-learnによる実装と比べ、正しく動いているかを確認してください。<br>\n",
    "AccuracyやPrecision、Recallなどの指標値はscikit-learnを使用してください。<br>"
   ]
  },
  {
   "cell_type": "markdown",
   "metadata": {},
   "source": [
    "### シンプルデータセット2作成コード"
   ]
  },
  {
   "cell_type": "code",
   "execution_count": 12,
   "metadata": {},
   "outputs": [],
   "source": [
    "X_sim2 = np.array([[-0.44699 , -2.8073  ],[-1.4621  , -2.4586  ],\n",
    "       [ 0.10645 ,  1.9242  ],[-3.5944  , -4.0112  ],\n",
    "       [-0.9888  ,  4.5718  ],[-3.1625  , -3.9606  ],\n",
    "       [ 0.56421 ,  0.72888 ],[-0.60216 ,  8.4636  ],\n",
    "       [-0.61251 , -0.75345 ],[-0.73535 , -2.2718  ],\n",
    "       [-0.80647 , -2.2135  ],[ 0.86291 ,  2.3946  ],\n",
    "       [-3.1108  ,  0.15394 ],[-2.9362  ,  2.5462  ],\n",
    "       [-0.57242 , -2.9915  ],[ 1.4771  ,  3.4896  ],\n",
    "       [ 0.58619 ,  0.37158 ],[ 0.6017  ,  4.3439  ],\n",
    "       [-2.1086  ,  8.3428  ],[-4.1013  , -4.353   ],\n",
    "       [-1.9948  , -1.3927  ],[ 0.35084 , -0.031994],\n",
    "       [ 0.96765 ,  7.8929  ],[-1.281   , 15.6824  ],\n",
    "       [ 0.96765 , 10.083   ],[ 1.3763  ,  1.3347  ],\n",
    "       [-2.234   , -2.5323  ],[-2.9452  , -1.8219  ],\n",
    "       [ 0.14654 , -0.28733 ],[ 0.5461  ,  5.8245  ],\n",
    "       [-0.65259 ,  9.3444  ],[ 0.59912 ,  5.3524  ],\n",
    "       [ 0.50214 , -0.31818 ],[-3.0603  , -3.6461  ],\n",
    "       [-6.6797  ,  0.67661 ],[-2.353   , -0.72261 ],\n",
    "       [ 1.1319  ,  2.4023  ],[-0.12243 ,  9.0162  ],\n",
    "       [-2.5677  , 13.1779  ],[ 0.057313,  5.4681  ]])\n",
    "y_sim2 = np.array([0, 0, 0, 0, 0, 0, 0, 0, 0, 0, 0, 0, 0, 0, 0, 0, 0, 0, 0, 0, 1, 1,\n",
    "       1, 1, 1, 1, 1, 1, 1, 1, 1, 1, 1, 1, 1, 1, 1, 1, 1, 1])"
   ]
  },
  {
   "cell_type": "code",
   "execution_count": 13,
   "metadata": {},
   "outputs": [],
   "source": [
    "#シンプルデータセット2\n",
    "X_data = X_sim2\n",
    "y_data = y_sim2\n",
    "\n",
    "# 訓練データと検証データの分割。訓練データ75%、検証データ25%として分割する。\n",
    "X_train, X_test, y_train, y_test = train_test_split(X_data, y_data, train_size=0.75, random_state=123)\n",
    "    \n",
    "# #標準化\n",
    "# scaler = StandardScaler()\n",
    "# scaler.fit(X_train) #訓練用のデータでfit\n",
    "# X_train_std = scaler.transform(X_train) #訓練用データをtransform\n",
    "# X_test_std = scaler.transform(X_test) #検証用データをtransform"
   ]
  },
  {
   "cell_type": "code",
   "execution_count": 14,
   "metadata": {},
   "outputs": [
    {
     "name": "stdout",
     "output_type": "stream",
     "text": [
      "情報利得： [5.92592593e-03 3.81349206e-02 2.22222222e-03 1.69029663e-02\n",
      " 2.47474747e-03 2.41427853e-02 1.20987654e-02 5.00000000e-03\n",
      " 1.77777778e-02 1.32643202e-02 2.21455939e-02 1.05820106e-04\n",
      " 1.32643202e-02 5.00000000e-03 2.47474747e-03 4.44444444e-04\n",
      " 3.33730159e-02 5.55555556e-02 4.44444444e-03 0.00000000e+00\n",
      " 5.20999468e-04 6.34920635e-04 8.57142857e-03 1.36752137e-03\n",
      " 2.22222222e-03 6.34920635e-04 2.17777778e-02 1.29501916e-02\n",
      " 2.98670920e-02 4.48148148e-02 4.66666667e-02 2.68253968e-02\n",
      " 0.00000000e+00 4.17283951e-02 1.03418803e-02 1.32643202e-02\n",
      " 4.58730159e-02 2.44444444e-02 1.21669180e-03 7.77777778e-03\n",
      " 3.96825397e-05 3.82010582e-02 2.72222222e-02 2.77777778e-02\n",
      " 5.00000000e-03 2.67171717e-02 3.08547009e-02 5.37777778e-02\n",
      " 4.80469289e-02 5.62466773e-03 1.29501916e-02 3.70370370e-04\n",
      " 1.45560872e-02 1.20987654e-02 4.44444444e-04 2.21455939e-02\n",
      " 1.77777778e-02 2.22222222e-03 5.92592593e-03 3.62996481e-03]\n",
      "情報利得の最大値は0.056です。\n",
      "[1 0 0 0 0 1 0 0 0 0]\n",
      "正解率：0.50\n",
      "適合率：0.62\n",
      "再現率：0.71\n",
      "F値：0.67\n",
      "混同行列：\n",
      "[[5 2]\n",
      " [3 0]]\n",
      "classification_report：\n",
      "              precision    recall  f1-score   support\n",
      "\n",
      "           0       0.62      0.71      0.67         7\n",
      "           1       0.00      0.00      0.00         3\n",
      "\n",
      "    accuracy                           0.50        10\n",
      "   macro avg       0.31      0.36      0.33        10\n",
      "weighted avg       0.44      0.50      0.47        10\n",
      "\n"
     ]
    }
   ],
   "source": [
    "#今回スクラッチしたモデル\n",
    "sdtc = ScratchDecesionTreeClassifierDepth1(verbose=True)\n",
    "sdtc.fit(X_train, y_train) #学習\n",
    "y_pred = sdtc.predict(X_test)#推定（クラス）\n",
    "print(y_pred)\n",
    "print(\"正解率：{:.2f}\".format(accuracy_score(y_test, y_pred)))\n",
    "print(\"適合率：{:.2f}\".format(precision_score(y_test, y_pred, pos_label=0)))\n",
    "print(\"再現率：{:.2f}\".format(recall_score(y_test, y_pred, pos_label=0)))\n",
    "print(\"F値：{:.2f}\".format(f1_score(y_test, y_pred, pos_label=0)))\n",
    "print(\"混同行列：\")\n",
    "print(confusion_matrix(y_test, y_pred))\n",
    "print(\"classification_report：\") #評価をまとめて出力するやつ\n",
    "print(classification_report(y_test, y_pred))"
   ]
  },
  {
   "cell_type": "code",
   "execution_count": 15,
   "metadata": {},
   "outputs": [
    {
     "name": "stdout",
     "output_type": "stream",
     "text": [
      "[1 0 0 0 0 1 0 0 0 0]\n",
      "正解率：0.50\n",
      "適合率：0.62\n",
      "再現率：0.71\n",
      "F値：0.67\n",
      "混同行列：\n",
      "[[5 2]\n",
      " [3 0]]\n",
      "classification_report：\n",
      "              precision    recall  f1-score   support\n",
      "\n",
      "           0       0.62      0.71      0.67         7\n",
      "           1       0.00      0.00      0.00         3\n",
      "\n",
      "    accuracy                           0.50        10\n",
      "   macro avg       0.31      0.36      0.33        10\n",
      "weighted avg       0.44      0.50      0.47        10\n",
      "\n"
     ]
    }
   ],
   "source": [
    "#DecisionTreeClassifier\n",
    "dtc = DecisionTreeClassifier(max_depth=1)\n",
    "dtc.fit(X_train, y_train) #学習\n",
    "y_pred = dtc.predict(X_test)#推定（クラス）\n",
    "print(y_pred)\n",
    "print(\"正解率：{:.2f}\".format(accuracy_score(y_test, y_pred)))\n",
    "print(\"適合率：{:.2f}\".format(precision_score(y_test, y_pred, pos_label=0)))\n",
    "print(\"再現率：{:.2f}\".format(recall_score(y_test, y_pred, pos_label=0)))\n",
    "print(\"F値：{:.2f}\".format(f1_score(y_test, y_pred, pos_label=0)))\n",
    "print(\"混同行列：\")\n",
    "print(confusion_matrix(y_test, y_pred))\n",
    "print(\"classification_report：\") #評価をまとめて出力するやつ\n",
    "print(classification_report(y_test, y_pred))"
   ]
  },
  {
   "cell_type": "markdown",
   "metadata": {},
   "source": [
    "## スクラッチとscikit-learnで同じ結果となった。"
   ]
  },
  {
   "cell_type": "code",
   "execution_count": null,
   "metadata": {},
   "outputs": [],
   "source": []
  },
  {
   "cell_type": "markdown",
   "metadata": {},
   "source": [
    "# 【問題6】決定領域の可視化\n",
    "決定領域を可視化してください。"
   ]
  },
  {
   "cell_type": "code",
   "execution_count": 16,
   "metadata": {},
   "outputs": [],
   "source": [
    "#2値分類用　グラフ化の関数（説明変数２個のみ対応）\n",
    "import matplotlib.pyplot as plt\n",
    "from matplotlib.colors import ListedColormap\n",
    "import matplotlib.patches as mpatches\n",
    "def decision_region(X, y, clf,  target_names, step=0.01, title='decision region', xlabel='xlabel', ylabel='ylabel'):\n",
    "    # setting\n",
    "    scatter_color = ['red', 'blue']\n",
    "    contourf_color = ['pink', 'skyblue']\n",
    "    n_class = 2\n",
    "    # pred\n",
    "    mesh_f0, mesh_f1  = np.meshgrid(np.arange(np.min(X[:,0])-0.5, np.max(X[:,0])+0.5, step), np.arange(np.min(X[:,1])-0.5, np.max(X[:,1])+0.5, step))\n",
    "    mesh = np.c_[np.ravel(mesh_f0),np.ravel(mesh_f1)]\n",
    "    y_pred = clf.predict(mesh).reshape(mesh_f0.shape)\n",
    "    # plot\n",
    "    plt.title(title)\n",
    "    plt.xlabel(xlabel)\n",
    "    plt.ylabel(ylabel)\n",
    "    plt.contourf(mesh_f0, mesh_f1, y_pred, n_class-1, cmap=ListedColormap(contourf_color))\n",
    "    plt.contour(mesh_f0, mesh_f1, y_pred, n_class-1, colors='y', linewidths=3, alpha=0.5)\n",
    "    for i, target in enumerate(set(y)):\n",
    "        plt.scatter(X[y==target][:, 0], X[y==target][:, 1], s=80, color=scatter_color[i], label=target_names[i], marker='o')\n",
    "    patches = [mpatches.Patch(color=scatter_color[i], label=target_names[i]) for i in range(n_class)]\n",
    "    plt.legend(handles=patches)\n",
    "    plt.legend()\n",
    "    plt.show()"
   ]
  },
  {
   "cell_type": "code",
   "execution_count": 17,
   "metadata": {},
   "outputs": [
    {
     "data": {
      "image/png": "[encoded data removed]",
      "text/plain": [
       "<Figure size 432x288 with 1 Axes>"
      ]
     },
     "metadata": {
      "needs_background": "light"
     },
     "output_type": "display_data"
    },
    {
     "data": {
      "image/png": "[encoded data removed]",
      "text/plain": [
       "<Figure size 432x288 with 1 Axes>"
      ]
     },
     "metadata": {
      "needs_background": "light"
     },
     "output_type": "display_data"
    }
   ],
   "source": [
    "#sdtc : 今回スクラッチしたモデル\n",
    "decision_region(X_test, y_test, sdtc, step=0.01, title='sdtc_decision region', xlabel='f0', ylabel='f1', target_names=[0, 1])\n",
    "\n",
    "#dtc : sklearnのモデル\n",
    "decision_region(X_test, y_test, dtc, step=0.01, title='dtc_decision region', xlabel='f0', ylabel='f1', target_names=[0, 1])"
   ]
  },
  {
   "cell_type": "markdown",
   "metadata": {},
   "source": [
    "### 閾値の取り方の違いで若干のズレは有るものの、おおよそスクラッチとscikit-learnで同じような位置で決定境界を引くことが出来ている。"
   ]
  },
  {
   "cell_type": "code",
   "execution_count": null,
   "metadata": {},
   "outputs": [],
   "source": []
  },
  {
   "cell_type": "markdown",
   "metadata": {},
   "source": [
    "# 【問題7】（アドバンス課題）深さ2の決定木分類器クラスの作成\n",
    "深さが2の決定木分類器のクラスScratchDecesionTreeClassifierDepth2を作成してください。<br>\n",
    "深さ2とは空間の分割を2回行うことを指します。<br>\n",
    "《ヒント》<br>\n",
    "各ノードをインスタンスとして扱うと、任意の深さへの拡張が行いやすくなります。"
   ]
  },
  {
   "cell_type": "code",
   "execution_count": 18,
   "metadata": {},
   "outputs": [],
   "source": [
    "#深さ１のクラスを深さ２用に小改良\n",
    "class ScratchDecesionTreeClassifierDepth2_1():\n",
    "    \"\"\"\n",
    "    深さ1の決定木分類器のスクラッチ実装\n",
    "\n",
    "    Parameters\n",
    "    ----------\n",
    "    verbose : bool\n",
    "      学習過程を出力する場合はTrue\n",
    "    \"\"\"\n",
    "    def __init__(self, verbose=False):\n",
    "        # ハイパーパラメータを属性として記録\n",
    "        self.verbose = verbose\n",
    "        \n",
    "    #学習用の関数　　　【問題3】学習\n",
    "    def learning_function(self, X, y, i, j):\n",
    "        True_index = np.where(X[:, j] <= X[i, j]) #Trueのインデックスを抽出\n",
    "        gini_True = self.gini_impurity(y[True_index]) #Trueのジニ不純度を算出\n",
    "        False_index = np.where(X[:, j] > X[i, j]) #Falseのインデックスを抽出\n",
    "        gini_False = self.gini_impurity(y[False_index]) #Falseのジニ不純度を算出\n",
    "        info_gain = information_gain(y, y[True_index], y[False_index])#情報利得を算出\n",
    "        \n",
    "        return True_index, gini_True, False_index, gini_False, info_gain\n",
    "    \n",
    "    #【問題3】学習\n",
    "    def fit(self, X, y):\n",
    "        \"\"\"\n",
    "        決定木分類器を学習する\n",
    "        Parameters\n",
    "        ----------\n",
    "        X : 次の形のndarray, shape (n_samples, n_features)\n",
    "            訓練データの特徴量\n",
    "        y : 次の形のndarray, shape (n_samples, )\n",
    "            訓練データの正解値\n",
    "        \"\"\"   \n",
    "        #特徴量の各要素の値を閾値としてデータを分割し、インデックス・列・情報利得をリストに格納\n",
    "        info_array = ([])\n",
    "        for j in range(X.shape[1]):\n",
    "            for i in range(X.shape[0]):\n",
    "                True_index, gini_True, False_index, gini_False, info_gain = self.learning_function(X, y, i, j)\n",
    "                info_array = np.append(info_array, np.array([i, j, info_gain]))\n",
    "\n",
    "        info_array = info_array.reshape(-1, 3)\n",
    "        gain_max_index = np.min(np.argmax(info_array[:, -1])) #info_arrayより情報利得最大時のインデックスを抽出\n",
    "        elements_row = int(info_array[gain_max_index][0]) #情報利得最大時の要素のインデックスを抽出\n",
    "        elements_column = int(info_array[gain_max_index][1]) #情報利得最大時の要素の列を抽出\n",
    "        \n",
    "        #情報利得最大時の学習結果\n",
    "        True_index, gini_True, False_index, gini_False, info_gain = self.learning_function(X, y, elements_row, elements_column)\n",
    "        \n",
    "        self.gini_root = self. gini_impurity(y) #root nodeのジニ不純度\n",
    "        self.gini_True = gini_True #情報利得最大時のTrue(left)のジニ不純度\n",
    "        self.gini_False = gini_False #情報利得最大時のFalse(right)のジニ不純度\n",
    "        self.info_gain = info_gain #最大情報利得\n",
    "        self.True_samples = len(y[True_index]) #情報利得最大時のTrue(left)のサンプル数\n",
    "        self.False_samples = len(y[False_index]) #情報利得最大時のFalse(right)のサンプル数\n",
    "        self.threshold = X[elements_row, elements_column] #情報利得最大時の閾値（要素）\n",
    "        self.threshold_column = elements_column #情報利得最大時の閾値の特徴量\n",
    "        \n",
    "        #Trueのクラスを決定\n",
    "        True_value, True_counts = np.unique(y[True_index], return_counts=True)\n",
    "        if len(True_value) == 1:\n",
    "            True_class = True_value[0]\n",
    "        else:\n",
    "            True_class = True_value[np.argmax(True_counts)]\n",
    "        \n",
    "        self.True_class = True_class\n",
    "            \n",
    "        #Falseのクラスを決定\n",
    "        False_value, False_counts = np.unique(y[False_index], return_counts=True)\n",
    "        if len(False_value) == 1:\n",
    "            False_class = False_value[0]\n",
    "        else:\n",
    "            False_class = False_value[np.argmax(False_counts)]\n",
    "        \n",
    "        self.False_class = False_class\n",
    "        \n",
    "        if self.verbose:\n",
    "            #verboseをTrueにした際は学習過程を出力\n",
    "            print(\"情報利得：\", info_array[:, -1])\n",
    "            print(\"情報利得の最大値は{:.3f}です。\".format(np.max(info_array[:, -1])))\n",
    "        pass\n",
    "        \n",
    "        return True_index, gini_True, False_index, gini_False, info_gain\n",
    "        \n",
    "    #【問題4】推定\n",
    "    def predict(self, X):\n",
    "        \"\"\"\n",
    "        決定木分類器を使いラベルを推定する\n",
    "        \"\"\"\n",
    "        True_index = np.where(X[:, self.threshold_column] <= self.threshold) #Trueのインデックスを抽出\n",
    "        False_index = np.where(X[:, self.threshold_column] > self.threshold) #Falseのインデックスを抽出\n",
    "        \n",
    "        True_class = np.vstack([True_index[0], [self.True_class] * len(True_index[0])]) #Trueのインデックスにクラスをマージ\n",
    "        False_class = np.vstack([False_index[0], [self.False_class] * len(False_index[0])]) #Falseのインデックスにクラスをマージ\n",
    "        pred_class = np.hstack([True_class, False_class]) #TrueとFalseのクラスをマージ\n",
    "        \n",
    "        pred = pred_class[:, np.argsort(pred_class[0, :])][1] #インデックスでソートし、クラスの行を抽出\n",
    "        \n",
    "        return True_index, False_index, self.True_class, self.False_class\n",
    "    \n",
    "    #【問題1】不純度を求める関数\n",
    "    def gini_impurity(self, y):\n",
    "        K_value, K_counts = np.unique(y, return_counts=True) #K_value　＝　各クラスの値、K_counts　＝　各クラスの個数\n",
    "\n",
    "        gini = 1 - sum((K_counts / len(y))**2)\n",
    "\n",
    "        return gini\n",
    "    \n",
    "    #【問題2】情報利得を求める関数\n",
    "    def information_gain(self, y, y_left, y_right):\n",
    "        gini_p = self.gini_impurity(y) #親のジニ不純度\n",
    "        gini_left = self.gini_impurity(y_left) #leftのジニ不純度\n",
    "        gini_right = self.gini_impurity(y_right) #rightのジニ不純度\n",
    "\n",
    "        info_gain = gini_p - (len(y_left) / len(y) * gini_left ) - (len(y_right) / len(y) * gini_right)\n",
    "\n",
    "        return info_gain"
   ]
  },
  {
   "cell_type": "code",
   "execution_count": 19,
   "metadata": {},
   "outputs": [],
   "source": [
    "class ScratchDecesionTreeClassifierDepth2():\n",
    "    \"\"\"\n",
    "    深さ2の決定木分類器のスクラッチ実装\n",
    "\n",
    "    Parameters\n",
    "    ----------\n",
    "    verbose : bool\n",
    "      学習過程を出力する場合はTrue\n",
    "    \"\"\"\n",
    "    def __init__(self, verbose=False, max_depth=None):\n",
    "        # ハイパーパラメータを属性として記録\n",
    "        self.verbose = verbose\n",
    "        self.max_depth = max_depth\n",
    "        \n",
    "    def fit(self, X, y):\n",
    "        \"\"\"\n",
    "        決定木分類器を学習する\n",
    "        Parameters\n",
    "        ----------\n",
    "        X : 次の形のndarray, shape (n_samples, n_features)\n",
    "            訓練データの特徴量\n",
    "        y : 次の形のndarray, shape (n_samples, )\n",
    "            訓練データの正解値\n",
    "        \"\"\"   \n",
    "        self.sdtc1 = ScratchDecesionTreeClassifierDepth2_1()\n",
    "        self.sdtc2T = ScratchDecesionTreeClassifierDepth2_1()\n",
    "        self.sdtc2F = ScratchDecesionTreeClassifierDepth2_1()\n",
    "        \n",
    "        True_index, gini_True, False_index, gini_False, info_gain = self.sdtc1.fit(X, y)\n",
    "        TT_index, gini_TT, TF_index, gini_TF, T_info_gain = self.sdtc2T.fit(X[True_index], y[True_index])\n",
    "        FT_index, gini_FT, FF_index, gini_FF, F_info_gain = self.sdtc2F.fit(X[False_index], y[False_index])\n",
    "\n",
    "\n",
    "    def predict(self, X):\n",
    "        \"\"\"\n",
    "        決定木分類器を使いラベルを推定する\n",
    "        \"\"\"   \n",
    "        T_index, F_index, T_class, F_class = self.sdtc1.predict(X)\n",
    "        TT_index, TF_index, TT_class, TF_class = self.sdtc2T.predict(X)\n",
    "        FT_index, FF_index, FT_class, FF_class = self.sdtc2F.predict(X)\n",
    "        \n",
    "        True_index = np.array(list(set(T_index[0]) & set(TT_index[0]) | set(FF_index[0]))) #Trueのインデックスを抽出\n",
    "        False_index = np.array(list(set(F_index[0]) & set(FT_index[0]) | set(TF_index[0]))) #Falseのインデックスを抽出\n",
    "        \n",
    "        True_class = np.vstack([True_index, [TT_class] * len(True_index)]) #Trueのインデックスにクラスをマージ\n",
    "        False_class = np.vstack([False_index, [TF_class] * len(False_index)]) #Falseのインデックスにクラスをマージ\n",
    "        pred_class = np.hstack([True_class, False_class]) #TrueとFalseのクラスをマージ\n",
    "        \n",
    "        pred_sort = pred_class[:, np.argsort(pred_class[0, :])] #インデックスでソート\n",
    "        pred_unique, indices = np.unique(pred_sort[0], return_index=True) #ユニークを抽出\n",
    "        pred = pred_sort[:, indices][1]\n",
    "        \n",
    "        return pred\n"
   ]
  },
  {
   "cell_type": "code",
   "execution_count": 20,
   "metadata": {},
   "outputs": [
    {
     "name": "stdout",
     "output_type": "stream",
     "text": [
      "[0 0 1 1 1 0 1 0 1 0]\n",
      "正解率：0.60\n",
      "適合率：0.80\n",
      "再現率：0.57\n",
      "F値：0.67\n",
      "混同行列：\n",
      "[[4 3]\n",
      " [1 2]]\n",
      "classification_report：\n",
      "              precision    recall  f1-score   support\n",
      "\n",
      "           0       0.80      0.57      0.67         7\n",
      "           1       0.40      0.67      0.50         3\n",
      "\n",
      "    accuracy                           0.60        10\n",
      "   macro avg       0.60      0.62      0.58        10\n",
      "weighted avg       0.68      0.60      0.62        10\n",
      "\n"
     ]
    }
   ],
   "source": [
    "#今回スクラッチしたモデル\n",
    "sdtc2 = ScratchDecesionTreeClassifierDepth2(verbose=True, max_depth=2)\n",
    "sdtc2.fit(X_train, y_train) #学習\n",
    "y_pred = sdtc2.predict(X_test)#推定（クラス）\n",
    "print(y_pred)\n",
    "print(\"正解率：{:.2f}\".format(accuracy_score(y_test, y_pred)))\n",
    "print(\"適合率：{:.2f}\".format(precision_score(y_test, y_pred, pos_label=0)))\n",
    "print(\"再現率：{:.2f}\".format(recall_score(y_test, y_pred, pos_label=0)))\n",
    "print(\"F値：{:.2f}\".format(f1_score(y_test, y_pred, pos_label=0)))\n",
    "print(\"混同行列：\")\n",
    "print(confusion_matrix(y_test, y_pred))\n",
    "print(\"classification_report：\") #評価をまとめて出力するやつ\n",
    "print(classification_report(y_test, y_pred))"
   ]
  },
  {
   "cell_type": "code",
   "execution_count": 21,
   "metadata": {},
   "outputs": [],
   "source": [
    "#2値分類用　グラフ化の関数（説明変数２個のみ対応）\n",
    "import matplotlib.pyplot as plt\n",
    "from matplotlib.colors import ListedColormap\n",
    "import matplotlib.patches as mpatches\n",
    "def decision_region(X, y, clf,  target_names, step=0.01, title='decision region', xlabel='xlabel', ylabel='ylabel'):\n",
    "    # setting\n",
    "    scatter_color = ['red', 'blue']\n",
    "    contourf_color = ['pink', 'skyblue']\n",
    "    n_class = 2\n",
    "    # pred\n",
    "    mesh_f0, mesh_f1  = np.meshgrid(np.arange(np.min(X[:,0])-0.5, np.max(X[:,0])+0.5, step), np.arange(np.min(X[:,1])-0.5, np.max(X[:,1])+0.5, step))\n",
    "    mesh = np.c_[np.ravel(mesh_f0),np.ravel(mesh_f1)]\n",
    "    y_pred = clf.predict(mesh).reshape(mesh_f0.shape)\n",
    "    # plot\n",
    "    plt.title(title)\n",
    "    plt.xlabel(xlabel)\n",
    "    plt.ylabel(ylabel)\n",
    "    plt.contourf(mesh_f0, mesh_f1, y_pred, n_class-1, cmap=ListedColormap(contourf_color))\n",
    "#     plt.contour(mesh_f0, mesh_f1, y_pred, n_class-1, colors='y', linewidths=3, alpha=0.5)\n",
    "    for i, target in enumerate(set(y)):\n",
    "        plt.scatter(X[y==target][:, 0], X[y==target][:, 1], s=80, color=scatter_color[i], label=target_names[i], marker='o')\n",
    "    patches = [mpatches.Patch(color=scatter_color[i], label=target_names[i]) for i in range(n_class)]\n",
    "    plt.legend(handles=patches)\n",
    "    plt.legend()\n",
    "    plt.show()"
   ]
  },
  {
   "cell_type": "code",
   "execution_count": 22,
   "metadata": {},
   "outputs": [
    {
     "data": {
      "image/png": "[encoded data removed]",
      "text/plain": [
       "<Figure size 432x288 with 1 Axes>"
      ]
     },
     "metadata": {
      "needs_background": "light"
     },
     "output_type": "display_data"
    }
   ],
   "source": [
    "#sdtc2 : 今回スクラッチしたモデル\n",
    "decision_region(X_test, y_test, sdtc2, step=0.01, title='sdtc_decision region', xlabel='f0', ylabel='f1', target_names=[0, 1])"
   ]
  },
  {
   "cell_type": "code",
   "execution_count": 23,
   "metadata": {},
   "outputs": [
    {
     "name": "stdout",
     "output_type": "stream",
     "text": [
      "[1 0 1 1 1 1 0 0 1 0]\n",
      "正解率：0.30\n",
      "適合率：0.50\n",
      "再現率：0.29\n",
      "F値：0.36\n",
      "混同行列：\n",
      "[[2 5]\n",
      " [2 1]]\n",
      "classification_report：\n",
      "              precision    recall  f1-score   support\n",
      "\n",
      "           0       0.50      0.29      0.36         7\n",
      "           1       0.17      0.33      0.22         3\n",
      "\n",
      "    accuracy                           0.30        10\n",
      "   macro avg       0.33      0.31      0.29        10\n",
      "weighted avg       0.40      0.30      0.32        10\n",
      "\n"
     ]
    }
   ],
   "source": [
    "#DecisionTreeClassifier\n",
    "dtc = DecisionTreeClassifier(max_depth=2)\n",
    "dtc.fit(X_train, y_train) #学習\n",
    "y_pred = dtc.predict(X_test)#推定（クラス）\n",
    "print(y_pred)\n",
    "print(\"正解率：{:.2f}\".format(accuracy_score(y_test, y_pred)))\n",
    "print(\"適合率：{:.2f}\".format(precision_score(y_test, y_pred, pos_label=0)))\n",
    "print(\"再現率：{:.2f}\".format(recall_score(y_test, y_pred, pos_label=0)))\n",
    "print(\"F値：{:.2f}\".format(f1_score(y_test, y_pred, pos_label=0)))\n",
    "print(\"混同行列：\")\n",
    "print(confusion_matrix(y_test, y_pred))\n",
    "print(\"classification_report：\") #評価をまとめて出力するやつ\n",
    "print(classification_report(y_test, y_pred))"
   ]
  },
  {
   "cell_type": "code",
   "execution_count": 24,
   "metadata": {},
   "outputs": [
    {
     "data": {
      "image/png": "[encoded data removed]",
      "text/plain": [
       "<Figure size 432x288 with 1 Axes>"
      ]
     },
     "metadata": {
      "needs_background": "light"
     },
     "output_type": "display_data"
    }
   ],
   "source": [
    "#dtc : sklearnのモデル (max_depth=2)\n",
    "decision_region(X_test, y_test, dtc, step=0.01, title='dtc_decision region', xlabel='f0', ylabel='f1', target_names=[0, 1])"
   ]
  },
  {
   "cell_type": "markdown",
   "metadata": {},
   "source": [
    "### sklearnとは結果が異なるが、分類は出来ていると思われる。"
   ]
  },
  {
   "cell_type": "code",
   "execution_count": null,
   "metadata": {},
   "outputs": [],
   "source": []
  },
  {
   "cell_type": "markdown",
   "metadata": {},
   "source": [
    "# 【問題8】（アドバンス課題）深さに制限のない決定木分類器クラスの作成\n",
    "深さに制限のない決定木分類器のクラスScratchDecesionTreeClassifierDepthInfを作成してください。\n",
    "\n",
    "\n",
    "任意の深さを指定できるようにするとともに、指定しない場合は全ての葉ノードがジニ不純度0となるまで続けられるようにもしてください。"
   ]
  },
  {
   "cell_type": "code",
   "execution_count": 25,
   "metadata": {},
   "outputs": [],
   "source": [
    "#深さ１のクラスを深さ制限無し用に改良\n",
    "class ScratchDecesionTreeClassifierDepthInf_1():\n",
    "    \"\"\"\n",
    "    深さ1の決定木分類器のスクラッチ実装\n",
    "\n",
    "    Parameters\n",
    "    ----------\n",
    "    verbose : bool\n",
    "      学習過程を出力する場合はTrue\n",
    "    \"\"\"\n",
    "    def __init__(self, max_depth=None, verbose=False):\n",
    "        self.max_depth = max_depth\n",
    "        self.sdtcT = None\n",
    "        self.sdtcF = None\n",
    "        self.threshold = None\n",
    "        self.threshold_column = None\n",
    "        self._class = None\n",
    "        self.gini_True = None\n",
    "        self.gini_False = None\n",
    "        \n",
    "        # ハイパーパラメータを属性として記録\n",
    "        self.verbose = verbose\n",
    "        \n",
    "    #学習用の関数　　　【問題3】学習\n",
    "    def learning_function(self, X, y, i, j):\n",
    "        True_index = np.where(X[:, j] <= X[i, j]) #Trueのインデックスを抽出\n",
    "        gini_True = self.gini_impurity(y[True_index]) #Trueのジニ不純度を算出\n",
    "        False_index = np.where(X[:, j] > X[i, j]) #Falseのインデックスを抽出\n",
    "        gini_False = self.gini_impurity(y[False_index]) #Falseのジニ不純度を算出\n",
    "        info_gain = information_gain(y, y[True_index], y[False_index])#情報利得を算出\n",
    "        \n",
    "        return True_index, gini_True, False_index, gini_False, info_gain\n",
    "    \n",
    "    #【問題3】学習\n",
    "    def fit(self, X, y, depth=1):\n",
    "        \"\"\"\n",
    "        決定木分類器を学習する\n",
    "        Parameters\n",
    "        ----------\n",
    "        X : 次の形のndarray, shape (n_samples, n_features)\n",
    "            訓練データの特徴量\n",
    "        y : 次の形のndarray, shape (n_samples, )\n",
    "            訓練データの正解値\n",
    "        \"\"\"   \n",
    "        self.depth = depth\n",
    "        \n",
    "        #特徴量の各要素の値を閾値としてデータを分割し、インデックス・列・情報利得をリストに格納\n",
    "        info_array = ([])\n",
    "        for j in range(X.shape[1]):\n",
    "            for i in range(X.shape[0]):\n",
    "                True_index, gini_True, False_index, gini_False, info_gain = self.learning_function(X, y, i, j)\n",
    "                info_array = np.append(info_array, np.array([i, j, info_gain]))\n",
    "\n",
    "        info_array = info_array.reshape(-1, 3)\n",
    "        gain_max_index = np.min(np.argmax(info_array[:, -1])) #info_arrayより情報利得最大時のインデックスを抽出\n",
    "        elements_row = int(info_array[gain_max_index][0]) #情報利得最大時の要素のインデックスを抽出\n",
    "        elements_column = int(info_array[gain_max_index][1]) #情報利得最大時の要素の列を抽出\n",
    "        \n",
    "        #情報利得最大時の学習結果\n",
    "        True_index, gini_True, False_index, gini_False, info_gain = self.learning_function(X, y, elements_row, elements_column)\n",
    "        \n",
    "        self.threshold = X[elements_row, elements_column] #情報利得最大時の閾値（要素）\n",
    "        self.threshold_column = elements_column #情報利得最大時の閾値の特徴量\n",
    "        self.gini_True = gini_True\n",
    "        self.gini_False = gini_False\n",
    "        \n",
    "        #クラスを決定\n",
    "        value, counts = np.unique(y, return_counts=True)\n",
    "        if len(value) == 1:\n",
    "            _class = value[0]\n",
    "        else:\n",
    "            _class = value[np.argmax(counts)]\n",
    "        \n",
    "        self._class = _class\n",
    "        \n",
    "        \n",
    "        if self.verbose:\n",
    "            #verboseをTrueにした際は学習過程を出力\n",
    "            print(\"情報利得：\", info_array[:, -1])\n",
    "            print(\"情報利得の最大値は{:.3f}です。\".format(np.max(info_array[:, -1])))\n",
    "        \n",
    "            \n",
    "        if self.max_depth == self.depth:\n",
    "            return       \n",
    "        \n",
    "        if self.gini_True == 0:\n",
    "            pass\n",
    "        else:\n",
    "            self.sdtcT = ScratchDecesionTreeClassifierDepthInf_1(self.max_depth)\n",
    "            self.sdtcT.fit(X[True_index], y[True_index], depth=self.depth+1)\n",
    "            \n",
    "        if self.gini_False == 0:\n",
    "            pass\n",
    "        else:\n",
    "            self.sdtcF = ScratchDecesionTreeClassifierDepthInf_1(self.max_depth)\n",
    "            self.sdtcF.fit(X[False_index], y[False_index], depth=self.depth+1)    \n",
    "\n",
    "        \n",
    "    #【問題4】推定\n",
    "    def predict(self, X):\n",
    "        \"\"\"\n",
    "        決定木分類器を使いラベルを推定する\n",
    "        \"\"\"       \n",
    "        if self.gini_True + self.gini_False == 0 or self.max_depth == self.depth:\n",
    "            return self._class\n",
    "        else:\n",
    "            if X[self.threshold_column] <= self.threshold and self.sdtcT != None:\n",
    "                return self.sdtcT.predict(X)\n",
    "            elif X[self.threshold_column] > self.threshold and self.sdtcF != None:\n",
    "                return self.sdtcF.predict(X)\n",
    "            else:\n",
    "                return self._class\n",
    "    \n",
    "    #【問題1】不純度を求める関数\n",
    "    def gini_impurity(self, y):\n",
    "        K_value, K_counts = np.unique(y, return_counts=True) #K_value　＝　各クラスの値、K_counts　＝　各クラスの個数\n",
    "\n",
    "        gini = 1 - sum((K_counts / len(y))**2)\n",
    "\n",
    "        return gini\n",
    "    \n",
    "    #【問題2】情報利得を求める関数\n",
    "    def information_gain(self, y, y_left, y_right):\n",
    "        gini_p = self.gini_impurity(y) #親のジニ不純度\n",
    "        gini_left = self.gini_impurity(y_left) #leftのジニ不純度\n",
    "        gini_right = self.gini_impurity(y_right) #rightのジニ不純度\n",
    "\n",
    "        info_gain = gini_p - (len(y_left) / len(y) * gini_left ) - (len(y_right) / len(y) * gini_right)\n",
    "\n",
    "        return info_gain"
   ]
  },
  {
   "cell_type": "code",
   "execution_count": 26,
   "metadata": {},
   "outputs": [],
   "source": [
    "class ScratchDecesionTreeClassifierDepthInf():\n",
    "    \"\"\"\n",
    "    深さ2の決定木分類器のスクラッチ実装\n",
    "\n",
    "    Parameters\n",
    "    ----------\n",
    "    verbose : bool\n",
    "      学習過程を出力する場合はTrue\n",
    "    \"\"\"\n",
    "    def __init__(self, max_depth=None, verbose=False):\n",
    "        self.max_depth = max_depth\n",
    "        \n",
    "        # ハイパーパラメータを属性として記録\n",
    "        self.verbose = verbose\n",
    "        \n",
    "        \n",
    "    def fit(self, X, y):\n",
    "        \"\"\"\n",
    "        決定木分類器を学習する\n",
    "        Parameters\n",
    "        ----------\n",
    "        X : 次の形のndarray, shape (n_samples, n_features)\n",
    "            訓練データの特徴量\n",
    "        y : 次の形のndarray, shape (n_samples, )\n",
    "            訓練データの正解値\n",
    "        \"\"\"   \n",
    "        self.sdtc = ScratchDecesionTreeClassifierDepthInf_1(self.max_depth)\n",
    "        self.sdtc.fit(X, y)\n",
    "\n",
    "    def predict(self, X):\n",
    "        \"\"\"\n",
    "        決定木分類器を使いラベルを推定する\n",
    "        \"\"\"   \n",
    "        pred = []\n",
    "        for s in X:\n",
    "            pred.append(self.sdtc.predict(s))\n",
    "            \n",
    "        return np.array(pred)"
   ]
  },
  {
   "cell_type": "code",
   "execution_count": 27,
   "metadata": {},
   "outputs": [
    {
     "name": "stdout",
     "output_type": "stream",
     "text": [
      "正解率：0.40\n",
      "適合率：0.60\n",
      "再現率：0.43\n",
      "F値：0.50\n",
      "混同行列：\n",
      "[[3 4]\n",
      " [2 1]]\n",
      "classification_report：\n",
      "              precision    recall  f1-score   support\n",
      "\n",
      "           0       0.60      0.43      0.50         7\n",
      "           1       0.20      0.33      0.25         3\n",
      "\n",
      "    accuracy                           0.40        10\n",
      "   macro avg       0.40      0.38      0.38        10\n",
      "weighted avg       0.48      0.40      0.42        10\n",
      "\n"
     ]
    }
   ],
   "source": [
    "#今回スクラッチしたモデル\n",
    "sdtcInf = ScratchDecesionTreeClassifierDepthInf(max_depth=None, verbose=False)\n",
    "sdtcInf.fit(X_train, y_train) #学習\n",
    "y_pred = sdtcInf.predict(X_test)#推定（クラス）\n",
    "print(\"正解率：{:.2f}\".format(accuracy_score(y_test, y_pred)))\n",
    "print(\"適合率：{:.2f}\".format(precision_score(y_test, y_pred, pos_label=0)))\n",
    "print(\"再現率：{:.2f}\".format(recall_score(y_test, y_pred, pos_label=0)))\n",
    "print(\"F値：{:.2f}\".format(f1_score(y_test, y_pred, pos_label=0)))\n",
    "print(\"混同行列：\")\n",
    "print(confusion_matrix(y_test, y_pred))\n",
    "print(\"classification_report：\") #評価をまとめて出力するやつ\n",
    "print(classification_report(y_test, y_pred))"
   ]
  },
  {
   "cell_type": "code",
   "execution_count": 28,
   "metadata": {},
   "outputs": [
    {
     "data": {
      "image/png": "[encoded data removed]",
      "text/plain": [
       "<Figure size 432x288 with 1 Axes>"
      ]
     },
     "metadata": {
      "needs_background": "light"
     },
     "output_type": "display_data"
    }
   ],
   "source": [
    "#sdtcInf : 今回スクラッチしたモデル\n",
    "decision_region(X_test, y_test, sdtcInf, step=0.01, title='sdtc_decision region', xlabel='f0', ylabel='f1', target_names=[0, 1])"
   ]
  },
  {
   "cell_type": "code",
   "execution_count": 29,
   "metadata": {},
   "outputs": [
    {
     "name": "stdout",
     "output_type": "stream",
     "text": [
      "[0 0 1 1 0 0 1 0 1 0]\n",
      "正解率：0.70\n",
      "適合率：0.83\n",
      "再現率：0.71\n",
      "F値：0.77\n",
      "混同行列：\n",
      "[[5 2]\n",
      " [1 2]]\n",
      "classification_report：\n",
      "              precision    recall  f1-score   support\n",
      "\n",
      "           0       0.83      0.71      0.77         7\n",
      "           1       0.50      0.67      0.57         3\n",
      "\n",
      "    accuracy                           0.70        10\n",
      "   macro avg       0.67      0.69      0.67        10\n",
      "weighted avg       0.73      0.70      0.71        10\n",
      "\n"
     ]
    }
   ],
   "source": [
    "#DecisionTreeClassifier\n",
    "dtc = DecisionTreeClassifier(max_depth=None)\n",
    "dtc.fit(X_train, y_train) #学習\n",
    "y_pred = dtc.predict(X_test)#推定（クラス）\n",
    "print(y_pred)\n",
    "print(\"正解率：{:.2f}\".format(accuracy_score(y_test, y_pred)))\n",
    "print(\"適合率：{:.2f}\".format(precision_score(y_test, y_pred, pos_label=0)))\n",
    "print(\"再現率：{:.2f}\".format(recall_score(y_test, y_pred, pos_label=0)))\n",
    "print(\"F値：{:.2f}\".format(f1_score(y_test, y_pred, pos_label=0)))\n",
    "print(\"混同行列：\")\n",
    "print(confusion_matrix(y_test, y_pred))\n",
    "print(\"classification_report：\") #評価をまとめて出力するやつ\n",
    "print(classification_report(y_test, y_pred))"
   ]
  },
  {
   "cell_type": "code",
   "execution_count": 30,
   "metadata": {},
   "outputs": [
    {
     "data": {
      "image/png": "[encoded data removed]",
      "text/plain": [
       "<Figure size 432x288 with 1 Axes>"
      ]
     },
     "metadata": {
      "needs_background": "light"
     },
     "output_type": "display_data"
    }
   ],
   "source": [
    "#dtc : sklearnのモデル\n",
    "decision_region(X_test, y_test, dtc, step=0.01, title='dtc_decision region', xlabel='f0', ylabel='f1', target_names=[0, 1])"
   ]
  },
  {
   "cell_type": "markdown",
   "metadata": {},
   "source": [
    "### sklearnと比較し、分類が進んでいないように見える。細かい部分が追い切れていない為、今後ブラッシュアップしていく。"
   ]
  },
  {
   "cell_type": "code",
   "execution_count": null,
   "metadata": {},
   "outputs": [],
   "source": []
  }
 ],
 "metadata": {
  "kernelspec": {
   "display_name": "Python 3",
   "language": "python",
   "name": "python3"
  },
  "language_info": {
   "codemirror_mode": {
    "name": "ipython",
    "version": 3
   },
   "file_extension": ".py",
   "mimetype": "text/x-python",
   "name": "python",
   "nbconvert_exporter": "python",
   "pygments_lexer": "ipython3",
   "version": "3.7.7"
  }
 },
 "nbformat": 4,
 "nbformat_minor": 4
}
