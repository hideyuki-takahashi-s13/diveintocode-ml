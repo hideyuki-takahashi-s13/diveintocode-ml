{
 "cells": [
  {
   "cell_type": "code",
   "execution_count": 1,
   "metadata": {},
   "outputs": [],
   "source": [
    "import numpy as np\n",
    "import pandas as pd\n",
    "import matplotlib.pyplot as plt\n",
    "%matplotlib inline"
   ]
  },
  {
   "cell_type": "markdown",
   "metadata": {},
   "source": [
    "# 【問題1】仮定関数\n",
    "以下の数式で表される線形回帰の仮定関数を実装してください。メソッドの雛形を用意してあります。<br>\n",
    "\n",
    "$$ h_\\theta(x) =  \\theta_0 x_0 + \\theta_1 x_1 + ... + \\theta_j x_j + ... +\\theta_n x_n.   (x_0 = 1)\\\\ $$\n",
    "\n",
    "$x$ : 特徴量ベクトル<br>\n",
    "$\\theta$ : パラメータベクトル<br>\n",
    "$n$ : 特徴量の数<br>\n",
    "$x_j$ : j番目の特徴量<br>\n",
    "$\\theta_j$ : j番目のパラメータ（重み）<br>\n",
    "\n",
    "特徴量の数nは任意の値に対応できる実装にしてください。<br>\n",
    "なお、ベクトル形式で表すと以下のようになります。\n",
    "\n",
    "$$h_\\theta(x) = \\theta^T \\cdot x.$$"
   ]
  },
  {
   "cell_type": "markdown",
   "metadata": {},
   "source": [
    "# 【問題2】最急降下法\n",
    "最急降下法により学習させる実装を行なってください。<br>\n",
    "以下の式で表されるパラメータの更新式のメソッド_gradient_descentを追加し、fitメソッドから呼び出すようにしてください。<br>\n",
    "\n",
    "$$ \\theta_j := \\theta_j - \\alpha \\frac{1}{m} \\sum_{i=1}^{m}[(h_\\theta(x^{(i)}) - y^{(i)} )x_{j}^{(i)}] $$\n",
    "\n",
    "$\\alpha$ : 学習率<br>\n",
    "$i$ : サンプルのインデックス<br>\n",
    "$j$ : 特徴量のインデックス<br>"
   ]
  },
  {
   "cell_type": "markdown",
   "metadata": {},
   "source": [
    "# 【問題3】推定\n",
    "推定する仕組みを実装してください。<br>\n",
    "ScratchLinearRegressionクラスの雛形に含まれるpredictメソッドに書き加えてください。<br>\n",
    "仮定関数 $h_\\theta(x)$ の出力が推定結果です。"
   ]
  },
  {
   "cell_type": "markdown",
   "metadata": {},
   "source": [
    "# 【問題】１〜3の回答は、【問題】５の下にあるScratchLogisticRegressionクラスに実装"
   ]
  },
  {
   "cell_type": "code",
   "execution_count": null,
   "metadata": {},
   "outputs": [],
   "source": []
  },
  {
   "cell_type": "markdown",
   "metadata": {},
   "source": [
    "# 【問題4】平均二乗誤差\n",
    "線形回帰の指標値として用いられる平均二乗誤差（mean square error, MSE）の関数を作成してください。\n",
    "\n",
    "\n",
    "平均二乗誤差関数は回帰問題全般で使える関数のため、ScratchLinearRegressionクラスのメソッドではなく、別の関数として作成してください。雛形を用意してあります。\n",
    "\n",
    "\n",
    "平均二乗誤差は以下の数式で表されます。\n",
    "\n",
    "$$L(\\theta)=  \\frac{1 }{ m}  \\sum_{i=1}^{m} (h_\\theta(x^{(i)})-y^{(i)})^2.$$\n",
    "\n",
    "\n",
    "$m$ : 入力されるデータの数\n",
    "\n",
    "\n",
    "$h_\\theta()$ : 仮定関数\n",
    "\n",
    "\n",
    "$x^{(i)}$ : i番目のサンプルの特徴量ベクトル\n",
    "\n",
    "\n",
    "$y^{(i)}$ : i番目のサンプルの正解値\n",
    "\n",
    "\n",
    "なお、最急降下法のための目的関数（損失関数）としては、これを2で割ったものを使用します。（問題5, 9）"
   ]
  },
  {
   "cell_type": "markdown",
   "metadata": {},
   "source": [
    "### 平均二乗誤差（mean square error, MSE）の関数を作成"
   ]
  },
  {
   "cell_type": "code",
   "execution_count": 2,
   "metadata": {},
   "outputs": [],
   "source": [
    "def MSE(y_pred, y):\n",
    "    \"\"\"\n",
    "    平均二乗誤差の計算\n",
    "\n",
    "    Parameters\n",
    "    ----------\n",
    "    y_pred : 次の形のndarray, shape (n_samples,)\n",
    "      推定した値\n",
    "    y : 次の形のndarray, shape (n_samples,)\n",
    "      正解値\n",
    "\n",
    "    Returns\n",
    "    ----------\n",
    "    mse : numpy.float\n",
    "      平均二乗誤差\n",
    "    \"\"\"\n",
    "    mse = sum((y_pred[i] - y[i])**2 for i in range(y.shape[0])) / y.shape[0]\n",
    "    \n",
    "    mse = mse.astype(np.float32)\n",
    "    \n",
    "    pass\n",
    "    return mse"
   ]
  },
  {
   "cell_type": "code",
   "execution_count": null,
   "metadata": {},
   "outputs": [],
   "source": []
  },
  {
   "cell_type": "markdown",
   "metadata": {},
   "source": [
    "# 【問題5】目的関数\n",
    "以下の数式で表される線形回帰の 目的関数（損失関数） を実装してください。そして、これをself.loss, self.val_lossに記録するようにしてください。\n",
    "\n",
    "\n",
    "目的関数（損失関数） $J(\\theta)$ は次の式です。\n",
    "\n",
    "$$ J(\\theta)=  \\frac{1 }{ 2m}  \\sum_{i=1}^{m} (h_\\theta(x^{(i)})-y^{(i)})^2. $$\n",
    "\n",
    "$m$ : 入力されるデータの数\n",
    "\n",
    "\n",
    "$h_\\theta()$ : 仮定関数\n",
    "\n",
    "\n",
    "$x^{(i)}$ : i番目のサンプルの特徴量ベクトル\n",
    "\n",
    "\n",
    "$y^{(i)}$ : i番目のサンプルの正解値"
   ]
  },
  {
   "cell_type": "markdown",
   "metadata": {},
   "source": [
    "# 【問題】１〜３、５の回答をScratchLogisticRegressionクラスに実装"
   ]
  },
  {
   "cell_type": "code",
   "execution_count": 3,
   "metadata": {},
   "outputs": [],
   "source": [
    "class ScratchLinearRegression():\n",
    "    \"\"\"\n",
    "    線形回帰のスクラッチ実装\n",
    "\n",
    "    Parameters\n",
    "    ----------\n",
    "    num_iter : int\n",
    "      イテレーション数（反復回数）\n",
    "    lr : float\n",
    "      学習率\n",
    "    no_bias : bool\n",
    "      バイアス項を入れない場合はTrue\n",
    "    verbose : bool\n",
    "      学習過程を出力する場合はTrue\n",
    "\n",
    "    Attributes\n",
    "    ----------\n",
    "    self.coef_ : 次の形のndarray, shape (n_features,)\n",
    "      パラメータ\n",
    "    self.loss : 次の形のndarray, shape (self.iter,)\n",
    "      訓練データに対する損失の記録\n",
    "    self.val_loss : 次の形のndarray, shape (self.iter,)\n",
    "      検証データに対する損失の記録\n",
    "\n",
    "    \"\"\"\n",
    "    def __init__(self, num_iter, lr, no_bias, verbose):\n",
    "        # ハイパーパラメータを属性として記録\n",
    "        self.iter = num_iter\n",
    "        self.lr = lr\n",
    "        self.no_bias = no_bias\n",
    "        self.verbose = verbose\n",
    "        # 損失を記録する配列を用意\n",
    "        self.loss = np.zeros(self.iter)\n",
    "        self.val_loss = np.zeros(self.iter)\n",
    "        \n",
    "    def fit(self, X_in, y, X_val_in=None, y_val=None):\n",
    "        \"\"\"\n",
    "        線形回帰を学習する。検証データが入力された場合はそれに対する損失と精度もイテレーションごとに計算する。\n",
    "\n",
    "        Parameters\n",
    "        ----------\n",
    "        X : 次の形のndarray, shape (n_samples, n_features)\n",
    "            訓練データの特徴量\n",
    "        y : 次の形のndarray, shape (n_samples, )\n",
    "            訓練データの正解値\n",
    "        X_val : 次の形のndarray, shape (n_samples, n_features)\n",
    "            検証データの特徴量\n",
    "        y_val : 次の形のndarray, shape (n_samples, )\n",
    "            検証データの正解値\n",
    "        \"\"\"\n",
    "        \n",
    "        #訓練データの処理\n",
    "        w_up_array = [] #更新された重みを格納するリスト\n",
    "        for i in range(self.iter):\n",
    "            y_pred, X, w = self._linear_hypothesis(X_in, w_up_array) #仮定関数\n",
    "            error = y_pred - y.reshape(-1, 1) #誤差の算出\n",
    "            w_update = self._gradient_descent(X, w, error) #重みの更新\n",
    "            w_up_array.append([a for a in w_update]) #更新された重みをリストへ格納\n",
    "            self.loss[i] = self._cost_function(y_pred, y)  #目的関数       \n",
    "        if self.verbose:\n",
    "            #verboseをTrueにした際は学習過程を出力\n",
    "            print(self.loss)\n",
    "        \n",
    "        #学習済みのパラメータ（重み）\n",
    "        self.coef_ = np.array([w_up_array]).flatten()[-(X.shape[1]):].reshape(X.shape[1], 1)\n",
    "        \n",
    "        \n",
    "        #検証データの処理\n",
    "        if X_val_in is None and y_val is None:\n",
    "            pass\n",
    "        else:\n",
    "            w_up_array_val = [] #更新された重みを格納するリスト\n",
    "            for i in range(self.iter):\n",
    "                y_pred_val, X_val, w_val = self._linear_hypothesis(X_val_in, w_up_array_val) #仮定関数\n",
    "                error_val = y_pred_val - y_val.reshape(-1, 1) #誤差の算出\n",
    "                w_update_val = self._gradient_descent(X_val, w_val, error_val) #重みの更新\n",
    "                w_up_array_val.append([a for a in w_update_val]) #更新された重みをリストへ格納\n",
    "                self.val_loss[i] = self._cost_function(y_pred_val, y_val)  #目的関数       \n",
    "            if self.verbose:\n",
    "                #verboseをTrueにした際は学習過程を出力\n",
    "                print(self.val_loss)\n",
    "        \n",
    "        pass\n",
    "    \n",
    "    def _gradient_descent(self, X, w, error):\n",
    "        \"\"\"\n",
    "        最急降下法により、最適なパラメータwを学習させる\n",
    "\n",
    "        Parameters\n",
    "        ----------\n",
    "        X : 次の形のndarray, shape (n_samples, n_features)\n",
    "          訓練データ\n",
    "\n",
    "        error : 予測値と目的変数との誤差\n",
    "        \n",
    "        w : パラメータ（重み）\n",
    "\n",
    "        \"\"\"\n",
    "        j_mean_array = np.array([])\n",
    "        for j in range(X.shape[1]):   #X_add_1の列番号を抽出\n",
    "            #抽出した列の要素を一つずつ処理し、列の平均を算出\n",
    "            j_mean = sum(error[i] * X[i, j] for i in range(X.shape[0])) / X.shape[0]\n",
    "            j_mean_array = np.append(j_mean_array,  j_mean)\n",
    "       \n",
    "        w_update = (w.T - self.lr * j_mean_array).T #重みの更新\n",
    "        \n",
    "        pass\n",
    "        return w_update #更新した重みをリターン\n",
    "    \n",
    "    def _cost_function(self, y_pred, y):\n",
    "        cost = MSE(y_pred, y) / 2\n",
    "        return cost\n",
    "        \n",
    "    def _linear_hypothesis(self, X, w_up_array):   #【問題1】の仮定関数を実装\n",
    "        \"\"\"\n",
    "        線形の仮定関数を計算する\n",
    "\n",
    "        Parameters\n",
    "        ----------\n",
    "        X : 次の形のndarray, shape (n_samples, n_features)\n",
    "          訓練データ\n",
    "\n",
    "        Returns\n",
    "        -------\n",
    "          次の形のndarray, shape (n_samples, 1)\n",
    "          線形の仮定関数による推定結果\n",
    "\n",
    "        \"\"\"    \n",
    "        if self.no_bias:\n",
    "            pass\n",
    "        else:\n",
    "            n_samples = X.shape[0]\n",
    "            add_1 = np.array([[1] * n_samples]).T #バイアス用に１の列を作成\n",
    "            X = np.hstack([add_1, X]) #Xに１の列を追加\n",
    "        \n",
    "        if type(w_up_array) is np.ndarray:\n",
    "            w = w_up_array\n",
    "        elif len(w_up_array) > 0:\n",
    "            w = np.array([w_up_array]).flatten()[-(X.shape[1]):].reshape(X.shape[1], 1)\n",
    "        else:\n",
    "            w = np.random.random((X.shape[1], 1)) #ランダムでパラメータを設定\n",
    "        \n",
    "        #仮定関数\n",
    "        y_pred = X @ w #wは、w.shape = (X.shape[1], 1)  の２次元\n",
    "\n",
    "        pass\n",
    "        return y_pred, X, w\n",
    "    \n",
    "    def predict(self, X):\n",
    "        \"\"\"\n",
    "        線形回帰を使い推定する。\n",
    "\n",
    "        Parameters\n",
    "        ----------\n",
    "        X : 次の形のndarray, shape (n_samples, n_features)\n",
    "            サンプル\n",
    "\n",
    "        Returns\n",
    "        -------\n",
    "            次の形のndarray, shape (n_samples, 1)\n",
    "            線形回帰による推定結果\n",
    "        \"\"\"\n",
    "        X_val = X\n",
    "        w = self.coef_\n",
    "        y_pred_val, X_val, w = self._linear_hypothesis(X_val, w) #仮定関数より、学習された重みを使って推定\n",
    "        \n",
    "        pass\n",
    "        return y_pred_val"
   ]
  },
  {
   "cell_type": "code",
   "execution_count": null,
   "metadata": {},
   "outputs": [],
   "source": []
  },
  {
   "cell_type": "markdown",
   "metadata": {},
   "source": [
    "# 【問題6】学習と推定\n",
    "機械学習スクラッチ入門のSprintで用意したHouse Pricesコンペティションのデータに対してスクラッチ実装の学習と推定を行なってください。<br>\n",
    "scikit-learnによる実装と比べ、正しく動いているかを確認してください。"
   ]
  },
  {
   "cell_type": "code",
   "execution_count": 4,
   "metadata": {},
   "outputs": [],
   "source": [
    "from sklearn.model_selection import train_test_split\n",
    "from sklearn.preprocessing import StandardScaler"
   ]
  },
  {
   "cell_type": "code",
   "execution_count": 5,
   "metadata": {},
   "outputs": [],
   "source": [
    "# House Pricesデータセットを取得\n",
    "df = pd.read_csv(\"/Users/takahashihideyuki/dive/diveintocode-ml/Week4/train.csv\", encoding=\"utf-8\")\n",
    "X = df[[\"GrLivArea\", \"YearBuilt\"]] #説明変数を抽出\n",
    "y = df[\"SalePrice\"] #目的変数を抜き出し抽出\n",
    "\n",
    "#ndarray型へ変更\n",
    "X_data = np.array(X)\n",
    "y_data = np.array(y)\n",
    "\n",
    "# 訓練データと検証データの分割。訓練データ75%、検証データ25%として分割する。\n",
    "X_train, X_test, y_train, y_test = train_test_split(X_data, y_data, train_size=0.75, random_state=123)\n",
    "    \n",
    "#標準化\n",
    "scaler = StandardScaler()\n",
    "scaler.fit(X_train) #訓練用のデータでfit\n",
    "X_train_std = scaler.transform(X_train) #訓練用データをtransform\n",
    "X_test_std = scaler.transform(X_test) #検証用データをtransform"
   ]
  },
  {
   "cell_type": "code",
   "execution_count": 6,
   "metadata": {},
   "outputs": [
    {
     "name": "stdout",
     "output_type": "stream",
     "text": [
      "[[180201.98812785]\n",
      " [ 49721.78398338]\n",
      " [ 32703.45086804]]\n",
      "1983765888\n"
     ]
    }
   ],
   "source": [
    "#今回スクラッチしたモデル\n",
    "slr = ScratchLinearRegression(num_iter=1000, lr=10**-1, no_bias=None, verbose=None)\n",
    "slr.fit(X_train_std, y_train, X_test_std, y_test) #学習\n",
    "y_pred = slr.predict(X_test_std) #推定\n",
    "print(slr.coef_) #学習された重み\n",
    "print(int(MSE(y_pred, y_test))) #平均二乗誤差の算出"
   ]
  },
  {
   "cell_type": "code",
   "execution_count": 7,
   "metadata": {},
   "outputs": [
    {
     "name": "stdout",
     "output_type": "stream",
     "text": [
      "[49721.78398338 32703.45086804]\n",
      "1983765900.0\n"
     ]
    },
    {
     "data": {
      "text/plain": [
       "{'copy_X': True, 'fit_intercept': True, 'n_jobs': None, 'normalize': False}"
      ]
     },
     "execution_count": 7,
     "metadata": {},
     "output_type": "execute_result"
    }
   ],
   "source": [
    "#LinearRegressionにて確認\n",
    "from sklearn.linear_model import LinearRegression\n",
    "lin = LinearRegression()\n",
    "lin.fit(X_train_std, y_train) #学習\n",
    "y_pred = lin.predict(X_test_std) #推定\n",
    "print(lin.coef_) #学習された重み\n",
    "print(MSE(y_pred, y_test)) #平均二乗誤差の算出\n",
    "lin.get_params()"
   ]
  },
  {
   "cell_type": "code",
   "execution_count": 8,
   "metadata": {},
   "outputs": [
    {
     "name": "stdout",
     "output_type": "stream",
     "text": [
      "[49102.532172   32100.42070563]\n",
      "1991807700.0\n"
     ]
    },
    {
     "data": {
      "text/plain": [
       "{'alpha': 0.0001,\n",
       " 'average': False,\n",
       " 'early_stopping': False,\n",
       " 'epsilon': 0.1,\n",
       " 'eta0': 0.01,\n",
       " 'fit_intercept': True,\n",
       " 'l1_ratio': 0.15,\n",
       " 'learning_rate': 'invscaling',\n",
       " 'loss': 'squared_loss',\n",
       " 'max_iter': 1000,\n",
       " 'n_iter_no_change': 5,\n",
       " 'penalty': 'l2',\n",
       " 'power_t': 0.25,\n",
       " 'random_state': None,\n",
       " 'shuffle': True,\n",
       " 'tol': 0.001,\n",
       " 'validation_fraction': 0.1,\n",
       " 'verbose': 0,\n",
       " 'warm_start': False}"
      ]
     },
     "execution_count": 8,
     "metadata": {},
     "output_type": "execute_result"
    }
   ],
   "source": [
    "#SGDRegressorにて確認\n",
    "from sklearn.linear_model import SGDRegressor\n",
    "sgdr = SGDRegressor()\n",
    "sgdr.fit(X_train_std, y_train) #学習\n",
    "y_pred = sgdr.predict(X_test_std) #推定\n",
    "print(sgdr.coef_) #学習された重み\n",
    "print(MSE(y_pred, y_test)) #平均二乗誤差の算出\n",
    "sgdr.get_params()"
   ]
  },
  {
   "cell_type": "markdown",
   "metadata": {},
   "source": [
    "### 結果まとめ\n",
    "num_iter=1000、 lr=10**-1に設定し、平均二乗誤差にて比較したところ、今回スクラッチしたモデルとLinerRegressionは、<br>\n",
    "ほぼ同じ結果となった。また、SGDRegressorもかなり近い結果となった。<br>\n",
    "sklearnのパラメータ設定についてまだ理解が出来ていないが、パラメータの設定次第で結果が異なってくる為、理解を深めていく。"
   ]
  },
  {
   "cell_type": "code",
   "execution_count": 25,
   "metadata": {},
   "outputs": [
    {
     "data": {
      "text/html": [
       "<div>\n",
       "<style scoped>\n",
       "    .dataframe tbody tr th:only-of-type {\n",
       "        vertical-align: middle;\n",
       "    }\n",
       "\n",
       "    .dataframe tbody tr th {\n",
       "        vertical-align: top;\n",
       "    }\n",
       "\n",
       "    .dataframe thead th {\n",
       "        text-align: right;\n",
       "    }\n",
       "</style>\n",
       "<table border=\"1\" class=\"dataframe\">\n",
       "  <thead>\n",
       "    <tr style=\"text-align: right;\">\n",
       "      <th></th>\n",
       "      <th>平均二乗誤差</th>\n",
       "    </tr>\n",
       "  </thead>\n",
       "  <tbody>\n",
       "    <tr>\n",
       "      <th>今回スクラッチしたモデル</th>\n",
       "      <td>1.983766e+09</td>\n",
       "    </tr>\n",
       "    <tr>\n",
       "      <th>LinearRegression</th>\n",
       "      <td>1.983766e+09</td>\n",
       "    </tr>\n",
       "    <tr>\n",
       "      <th>SGDRegressor</th>\n",
       "      <td>1.991808e+09</td>\n",
       "    </tr>\n",
       "  </tbody>\n",
       "</table>\n",
       "</div>"
      ],
      "text/plain": [
       "                        平均二乗誤差\n",
       "今回スクラッチしたモデル      1.983766e+09\n",
       "LinearRegression  1.983766e+09\n",
       "SGDRegressor      1.991808e+09"
      ]
     },
     "execution_count": 25,
     "metadata": {},
     "output_type": "execute_result"
    }
   ],
   "source": [
    "conclusion = pd.DataFrame([1983765888, 1983765900.0, 1991807700.0])\n",
    "conclusion.index = [\"今回スクラッチしたモデル\", \"LinearRegression\", \"SGDRegressor\"]\n",
    "conclusion.columns = [\"平均二乗誤差\"]\n",
    "conclusion"
   ]
  },
  {
   "cell_type": "code",
   "execution_count": null,
   "metadata": {},
   "outputs": [],
   "source": []
  },
  {
   "cell_type": "markdown",
   "metadata": {},
   "source": [
    "# 【問題7】学習曲線のプロット\n",
    "学習曲線を表示する関数を作成し、実行してください。グラフを見て損失が適切に下がっているかどうか確認してください。<br>\n",
    "線形回帰クラスの雛形ではself.loss, self.val_lossに損失を記録しておくようになっているため、入力にはこれを利用してください。"
   ]
  },
  {
   "cell_type": "code",
   "execution_count": 10,
   "metadata": {},
   "outputs": [
    {
     "data": {
      "image/png": "[encoded data removed]",
      "text/plain": [
       "<Figure size 432x288 with 1 Axes>"
      ]
     },
     "metadata": {
      "needs_background": "light"
     },
     "output_type": "display_data"
    }
   ],
   "source": [
    "plt.title(\"model loss\")\n",
    "plt.xlabel(\"iter\")\n",
    "plt.ylabel(\"loss\")\n",
    "plt.plot(slr.loss, label=\"train_loss\", marker=\"o\", linewidth=3)\n",
    "plt.plot(slr.val_loss, label=\"val_loss\", marker=\"o\", linewidth=3)\n",
    "plt.legend()\n",
    "plt.show()"
   ]
  },
  {
   "cell_type": "markdown",
   "metadata": {},
   "source": [
    "### 学習を重ねるとlossが下がり、サチュレートしている。"
   ]
  },
  {
   "cell_type": "code",
   "execution_count": null,
   "metadata": {},
   "outputs": [],
   "source": []
  },
  {
   "cell_type": "markdown",
   "metadata": {},
   "source": [
    "# 【問題8】（アドバンス課題）バイアス項の除去\n",
    "バイアス項 $\\theta_0$ を抜くと学習がどう変化するか検証してください。また、線形回帰モデルにおけるバイアス項の役割の考察・調査を行ってください。"
   ]
  },
  {
   "cell_type": "code",
   "execution_count": 11,
   "metadata": {},
   "outputs": [
    {
     "name": "stdout",
     "output_type": "stream",
     "text": [
      "[[180201.98812785]\n",
      " [ 49721.78398338]\n",
      " [ 32703.45086804]]\n",
      "1983765888\n"
     ]
    }
   ],
   "source": [
    "#今回スクラッチしたモデル（バイアス有り）\n",
    "slr = ScratchLinearRegression(num_iter=1000, lr=10**-1, no_bias=None, verbose=None)\n",
    "slr.fit(X_train_std, y_train, X_test_std, y_test) #学習\n",
    "y_pred = slr.predict(X_test_std) #推定\n",
    "print(slr.coef_) #学習された重み\n",
    "print(int(MSE(y_pred, y_test))) #平均二乗誤差の算出"
   ]
  },
  {
   "cell_type": "code",
   "execution_count": 12,
   "metadata": {},
   "outputs": [
    {
     "name": "stdout",
     "output_type": "stream",
     "text": [
      "[[49721.78398338]\n",
      " [32703.45086805]]\n",
      "1983765888\n"
     ]
    }
   ],
   "source": [
    "#今回スクラッチしたモデル（バイアス無し）\n",
    "slr = ScratchLinearRegression(num_iter=1000, lr=10**-1, no_bias=True, verbose=None)\n",
    "slr.fit(X_train_std, y_train, X_test_std, y_test) #学習\n",
    "y_pred_no_bias = slr.predict(X_test_std) #推定\n",
    "print(slr.coef_) #学習された重み\n",
    "print(int(MSE(y_pred, y_test))) #平均二乗誤差の算出"
   ]
  },
  {
   "cell_type": "code",
   "execution_count": 13,
   "metadata": {},
   "outputs": [
    {
     "data": {
      "image/png": "[encoded data removed]",
      "text/plain": [
       "<Figure size 1080x360 with 2 Axes>"
      ]
     },
     "metadata": {
      "needs_background": "light"
     },
     "output_type": "display_data"
    }
   ],
   "source": [
    "fig = plt.figure(figsize=(15, 5))\n",
    "\n",
    "ax1 = fig.add_subplot(121, title='fig1. comparison_bias_1')\n",
    "plt.xlabel(\"GrLivArea_std\")\n",
    "plt.ylabel(\"SalePrice\")\n",
    "plt.scatter(X_test_std[:, 0], y_pred, label=\"bias\", marker=\"o\", linewidth=3)\n",
    "plt.scatter(X_test_std[:, 0], y_pred_no_bias, label=\"no_bias\", marker=\"o\", linewidth=3)\n",
    "plt.scatter(X_test_std[:, 0], y_test, label=\"y_test\", marker=\"o\", linewidth=1)\n",
    "plt.legend()\n",
    "ax2 = fig.add_subplot(122, title='fig2. comparison_bias_2')\n",
    "plt.xlabel(\"YearBuilt_std\")\n",
    "plt.ylabel(\"SalePrice\")\n",
    "plt.scatter(X_test_std[:, 1], y_pred, label=\"bias\", marker=\"o\", linewidth=3)\n",
    "plt.scatter(X_test_std[:, 1], y_pred_no_bias, label=\"no_bias\", marker=\"o\", linewidth=3)\n",
    "plt.scatter(X_test_std[:, 1], y_test, label=\"y_test\", marker=\"o\", linewidth=1)\n",
    "plt.legend()\n",
    "\n",
    "plt.show()"
   ]
  },
  {
   "cell_type": "markdown",
   "metadata": {},
   "source": [
    "### <考察>\n",
    "### バイアス項 $\\theta_0$は切片で有り、バイアス項を抜くと傾きのみ学習することになり、切片が学習されないことから、バイアス項有りに対して全体的にY軸がオフセットした形となる。 バイアス項有りは切片も学習することから、正解ラベルに対してオフセットせず重なった位置で出力される。（fig1,2参照）"
   ]
  },
  {
   "cell_type": "code",
   "execution_count": null,
   "metadata": {},
   "outputs": [],
   "source": []
  },
  {
   "cell_type": "markdown",
   "metadata": {},
   "source": [
    "# 【問題9】（アドバンス課題）特徴量の多次元化\n",
    "特徴量の二乗や三乗を入力に利用すると学習結果がどう変化するか検証してください。"
   ]
  },
  {
   "cell_type": "markdown",
   "metadata": {},
   "source": [
    "### 二乗"
   ]
  },
  {
   "cell_type": "code",
   "execution_count": 14,
   "metadata": {},
   "outputs": [],
   "source": [
    "#特徴量を二乗\n",
    "X_data2 = X_data**2\n",
    "\n",
    "# 訓練データと検証データの分割。訓練データ75%、検証データ25%として分割する。\n",
    "X_train, X_test, y_train, y_test = train_test_split(X_data2, y_data, train_size=0.75, random_state=123)\n",
    "    \n",
    "#標準化\n",
    "scaler = StandardScaler()\n",
    "scaler.fit(X_train) #訓練用のデータでfit\n",
    "X_train_std = scaler.transform(X_train) #訓練用データをtransform\n",
    "X_test_std = scaler.transform(X_test) #検証用データをtransform"
   ]
  },
  {
   "cell_type": "code",
   "execution_count": 15,
   "metadata": {},
   "outputs": [
    {
     "name": "stdout",
     "output_type": "stream",
     "text": [
      "[[180201.98812785]\n",
      " [ 45301.7199001 ]\n",
      " [ 35762.29804269]]\n",
      "2019117952\n"
     ]
    }
   ],
   "source": [
    "#今回スクラッチしたモデル（バイアス有り）\n",
    "slr = ScratchLinearRegression(num_iter=1000, lr=10**-1, no_bias=None, verbose=None)\n",
    "slr.fit(X_train_std, y_train, X_test_std, y_test) #学習\n",
    "y_pred = slr.predict(X_test_std) #推定\n",
    "print(slr.coef_) #学習された重み\n",
    "print(int(MSE(y_pred, y_test))) #平均二乗誤差の算出"
   ]
  },
  {
   "cell_type": "code",
   "execution_count": 16,
   "metadata": {},
   "outputs": [
    {
     "data": {
      "image/png": "[encoded data removed]",
      "text/plain": [
       "<Figure size 432x288 with 1 Axes>"
      ]
     },
     "metadata": {
      "needs_background": "light"
     },
     "output_type": "display_data"
    }
   ],
   "source": [
    "plt.title(\"model loss\")\n",
    "plt.xlabel(\"iter\")\n",
    "plt.ylabel(\"loss\")\n",
    "plt.plot(slr.loss, label=\"train_loss\", marker=\"o\", linewidth=3)\n",
    "plt.plot(slr.val_loss, label=\"val_loss\", marker=\"o\", linewidth=3)\n",
    "plt.legend()\n",
    "plt.show()"
   ]
  },
  {
   "cell_type": "code",
   "execution_count": 17,
   "metadata": {},
   "outputs": [
    {
     "data": {
      "image/png": "[encoded data removed]",
      "text/plain": [
       "<Figure size 1080x360 with 2 Axes>"
      ]
     },
     "metadata": {
      "needs_background": "light"
     },
     "output_type": "display_data"
    }
   ],
   "source": [
    "fig = plt.figure(figsize=(15, 5))\n",
    "\n",
    "ax1 = fig.add_subplot(121, title='fig1. comparison_square_1')\n",
    "plt.xlabel(\"GrLivArea_std\")\n",
    "plt.ylabel(\"SalePrice\")\n",
    "plt.scatter(X_test_std[:, 0], y_pred, label=\"y_pred\", marker=\"o\", linewidth=3)\n",
    "plt.scatter(X_test_std[:, 0], y_test, label=\"y_test\", marker=\"o\", linewidth=1)\n",
    "plt.legend()\n",
    "ax2 = fig.add_subplot(122, title='fig2. comparison_square_2')\n",
    "plt.xlabel(\"YearBuilt_std\")\n",
    "plt.ylabel(\"SalePrice\")\n",
    "plt.scatter(X_test_std[:, 1], y_pred, label=\"y_pred\", marker=\"o\", linewidth=3)\n",
    "plt.scatter(X_test_std[:, 1], y_test, label=\"y_test\", marker=\"o\", linewidth=1)\n",
    "plt.legend()\n",
    "\n",
    "plt.show()"
   ]
  },
  {
   "cell_type": "markdown",
   "metadata": {},
   "source": [
    "### 三乗"
   ]
  },
  {
   "cell_type": "code",
   "execution_count": 18,
   "metadata": {},
   "outputs": [],
   "source": [
    "#特徴量を三乗\n",
    "X_data3 = X_data**3\n",
    "\n",
    "# 訓練データと検証データの分割。訓練データ75%、検証データ25%として分割する。\n",
    "X_train, X_test, y_train, y_test = train_test_split(X_data3, y_data, train_size=0.75, random_state=123)\n",
    "    \n",
    "#標準化\n",
    "scaler = StandardScaler()\n",
    "scaler.fit(X_train) #訓練用のデータでfit\n",
    "X_train_std = scaler.transform(X_train) #訓練用データをtransform\n",
    "X_test_std = scaler.transform(X_test) #検証用データをtransform"
   ]
  },
  {
   "cell_type": "code",
   "execution_count": 19,
   "metadata": {},
   "outputs": [
    {
     "name": "stdout",
     "output_type": "stream",
     "text": [
      "[[180201.98812785]\n",
      " [ 34969.70541827]\n",
      " [ 38862.08767784]]\n",
      "2694331136\n"
     ]
    }
   ],
   "source": [
    "#今回スクラッチしたモデル（バイアス有り）\n",
    "slr = ScratchLinearRegression(num_iter=1000, lr=10**-1, no_bias=None, verbose=None)\n",
    "slr.fit(X_train_std, y_train, X_test_std, y_test) #学習\n",
    "y_pred = slr.predict(X_test_std) #推定\n",
    "print(slr.coef_) #学習された重み\n",
    "print(int(MSE(y_pred, y_test))) #平均二乗誤差の算出"
   ]
  },
  {
   "cell_type": "code",
   "execution_count": 20,
   "metadata": {},
   "outputs": [
    {
     "data": {
      "image/png": "[encoded data removed]",
      "text/plain": [
       "<Figure size 432x288 with 1 Axes>"
      ]
     },
     "metadata": {
      "needs_background": "light"
     },
     "output_type": "display_data"
    }
   ],
   "source": [
    "plt.title(\"model loss\")\n",
    "plt.xlabel(\"iter\")\n",
    "plt.ylabel(\"loss\")\n",
    "plt.plot(slr.loss, label=\"train_loss\", marker=\"o\", linewidth=3)\n",
    "plt.plot(slr.val_loss, label=\"val_loss\", marker=\"o\", linewidth=3)\n",
    "plt.legend()\n",
    "plt.show()"
   ]
  },
  {
   "cell_type": "code",
   "execution_count": 21,
   "metadata": {},
   "outputs": [
    {
     "data": {
      "image/png": "[encoded data removed]",
      "text/plain": [
       "<Figure size 1080x360 with 2 Axes>"
      ]
     },
     "metadata": {
      "needs_background": "light"
     },
     "output_type": "display_data"
    }
   ],
   "source": [
    "fig = plt.figure(figsize=(15, 5))\n",
    "\n",
    "ax1 = fig.add_subplot(121, title='fig1. comparison_cube_1')\n",
    "plt.xlabel(\"GrLivArea_std\")\n",
    "plt.ylabel(\"SalePrice\")\n",
    "plt.scatter(X_test_std[:, 0], y_pred, label=\"y_pred\", marker=\"o\", linewidth=3)\n",
    "plt.scatter(X_test_std[:, 0], y_test, label=\"y_test\", marker=\"o\", linewidth=1)\n",
    "plt.legend()\n",
    "ax2 = fig.add_subplot(122, title='fig2. comparison_cube_2')\n",
    "plt.xlabel(\"YearBuilt_std\")\n",
    "plt.ylabel(\"SalePrice\")\n",
    "plt.scatter(X_test_std[:, 1], y_pred, label=\"y_pred\", marker=\"o\", linewidth=3)\n",
    "plt.scatter(X_test_std[:, 1], y_test, label=\"y_test\", marker=\"o\", linewidth=1)\n",
    "plt.legend()\n",
    "\n",
    "plt.show()"
   ]
  },
  {
   "cell_type": "code",
   "execution_count": 22,
   "metadata": {},
   "outputs": [
    {
     "data": {
      "text/html": [
       "<div>\n",
       "<style scoped>\n",
       "    .dataframe tbody tr th:only-of-type {\n",
       "        vertical-align: middle;\n",
       "    }\n",
       "\n",
       "    .dataframe tbody tr th {\n",
       "        vertical-align: top;\n",
       "    }\n",
       "\n",
       "    .dataframe thead th {\n",
       "        text-align: right;\n",
       "    }\n",
       "</style>\n",
       "<table border=\"1\" class=\"dataframe\">\n",
       "  <thead>\n",
       "    <tr style=\"text-align: right;\">\n",
       "      <th></th>\n",
       "      <th>GrLivArea</th>\n",
       "      <th>YearBuilt</th>\n",
       "    </tr>\n",
       "  </thead>\n",
       "  <tbody>\n",
       "    <tr>\n",
       "      <th>count</th>\n",
       "      <td>1460.000000</td>\n",
       "      <td>1460.000000</td>\n",
       "    </tr>\n",
       "    <tr>\n",
       "      <th>mean</th>\n",
       "      <td>1515.463699</td>\n",
       "      <td>1971.267808</td>\n",
       "    </tr>\n",
       "    <tr>\n",
       "      <th>std</th>\n",
       "      <td>525.480383</td>\n",
       "      <td>30.202904</td>\n",
       "    </tr>\n",
       "    <tr>\n",
       "      <th>min</th>\n",
       "      <td>334.000000</td>\n",
       "      <td>1872.000000</td>\n",
       "    </tr>\n",
       "    <tr>\n",
       "      <th>25%</th>\n",
       "      <td>1129.500000</td>\n",
       "      <td>1954.000000</td>\n",
       "    </tr>\n",
       "    <tr>\n",
       "      <th>50%</th>\n",
       "      <td>1464.000000</td>\n",
       "      <td>1973.000000</td>\n",
       "    </tr>\n",
       "    <tr>\n",
       "      <th>75%</th>\n",
       "      <td>1776.750000</td>\n",
       "      <td>2000.000000</td>\n",
       "    </tr>\n",
       "    <tr>\n",
       "      <th>max</th>\n",
       "      <td>5642.000000</td>\n",
       "      <td>2010.000000</td>\n",
       "    </tr>\n",
       "  </tbody>\n",
       "</table>\n",
       "</div>"
      ],
      "text/plain": [
       "         GrLivArea    YearBuilt\n",
       "count  1460.000000  1460.000000\n",
       "mean   1515.463699  1971.267808\n",
       "std     525.480383    30.202904\n",
       "min     334.000000  1872.000000\n",
       "25%    1129.500000  1954.000000\n",
       "50%    1464.000000  1973.000000\n",
       "75%    1776.750000  2000.000000\n",
       "max    5642.000000  2010.000000"
      ]
     },
     "metadata": {},
     "output_type": "display_data"
    },
    {
     "data": {
      "text/html": [
       "<div>\n",
       "<style scoped>\n",
       "    .dataframe tbody tr th:only-of-type {\n",
       "        vertical-align: middle;\n",
       "    }\n",
       "\n",
       "    .dataframe tbody tr th {\n",
       "        vertical-align: top;\n",
       "    }\n",
       "\n",
       "    .dataframe thead th {\n",
       "        text-align: right;\n",
       "    }\n",
       "</style>\n",
       "<table border=\"1\" class=\"dataframe\">\n",
       "  <thead>\n",
       "    <tr style=\"text-align: right;\">\n",
       "      <th></th>\n",
       "      <th>0</th>\n",
       "      <th>1</th>\n",
       "    </tr>\n",
       "  </thead>\n",
       "  <tbody>\n",
       "    <tr>\n",
       "      <th>count</th>\n",
       "      <td>1.460000e+03</td>\n",
       "      <td>1.460000e+03</td>\n",
       "    </tr>\n",
       "    <tr>\n",
       "      <th>mean</th>\n",
       "      <td>2.572571e+06</td>\n",
       "      <td>3.886808e+06</td>\n",
       "    </tr>\n",
       "    <tr>\n",
       "      <th>std</th>\n",
       "      <td>2.064173e+06</td>\n",
       "      <td>1.185213e+05</td>\n",
       "    </tr>\n",
       "    <tr>\n",
       "      <th>min</th>\n",
       "      <td>1.115560e+05</td>\n",
       "      <td>3.504384e+06</td>\n",
       "    </tr>\n",
       "    <tr>\n",
       "      <th>25%</th>\n",
       "      <td>1.275771e+06</td>\n",
       "      <td>3.818116e+06</td>\n",
       "    </tr>\n",
       "    <tr>\n",
       "      <th>50%</th>\n",
       "      <td>2.143296e+06</td>\n",
       "      <td>3.892729e+06</td>\n",
       "    </tr>\n",
       "    <tr>\n",
       "      <th>75%</th>\n",
       "      <td>3.156842e+06</td>\n",
       "      <td>4.000000e+06</td>\n",
       "    </tr>\n",
       "    <tr>\n",
       "      <th>max</th>\n",
       "      <td>3.183216e+07</td>\n",
       "      <td>4.040100e+06</td>\n",
       "    </tr>\n",
       "  </tbody>\n",
       "</table>\n",
       "</div>"
      ],
      "text/plain": [
       "                  0             1\n",
       "count  1.460000e+03  1.460000e+03\n",
       "mean   2.572571e+06  3.886808e+06\n",
       "std    2.064173e+06  1.185213e+05\n",
       "min    1.115560e+05  3.504384e+06\n",
       "25%    1.275771e+06  3.818116e+06\n",
       "50%    2.143296e+06  3.892729e+06\n",
       "75%    3.156842e+06  4.000000e+06\n",
       "max    3.183216e+07  4.040100e+06"
      ]
     },
     "metadata": {},
     "output_type": "display_data"
    },
    {
     "data": {
      "text/html": [
       "<div>\n",
       "<style scoped>\n",
       "    .dataframe tbody tr th:only-of-type {\n",
       "        vertical-align: middle;\n",
       "    }\n",
       "\n",
       "    .dataframe tbody tr th {\n",
       "        vertical-align: top;\n",
       "    }\n",
       "\n",
       "    .dataframe thead th {\n",
       "        text-align: right;\n",
       "    }\n",
       "</style>\n",
       "<table border=\"1\" class=\"dataframe\">\n",
       "  <thead>\n",
       "    <tr style=\"text-align: right;\">\n",
       "      <th></th>\n",
       "      <th>0</th>\n",
       "      <th>1</th>\n",
       "    </tr>\n",
       "  </thead>\n",
       "  <tbody>\n",
       "    <tr>\n",
       "      <th>count</th>\n",
       "      <td>1.460000e+03</td>\n",
       "      <td>1.460000e+03</td>\n",
       "    </tr>\n",
       "    <tr>\n",
       "      <th>mean</th>\n",
       "      <td>4.932875e+09</td>\n",
       "      <td>7.665517e+09</td>\n",
       "    </tr>\n",
       "    <tr>\n",
       "      <th>std</th>\n",
       "      <td>7.985861e+09</td>\n",
       "      <td>3.489101e+08</td>\n",
       "    </tr>\n",
       "    <tr>\n",
       "      <th>min</th>\n",
       "      <td>3.725970e+07</td>\n",
       "      <td>6.560207e+09</td>\n",
       "    </tr>\n",
       "    <tr>\n",
       "      <th>25%</th>\n",
       "      <td>1.440985e+09</td>\n",
       "      <td>7.460599e+09</td>\n",
       "    </tr>\n",
       "    <tr>\n",
       "      <th>50%</th>\n",
       "      <td>3.137785e+09</td>\n",
       "      <td>7.680354e+09</td>\n",
       "    </tr>\n",
       "    <tr>\n",
       "      <th>75%</th>\n",
       "      <td>5.608925e+09</td>\n",
       "      <td>8.000000e+09</td>\n",
       "    </tr>\n",
       "    <tr>\n",
       "      <th>max</th>\n",
       "      <td>1.795971e+11</td>\n",
       "      <td>8.120601e+09</td>\n",
       "    </tr>\n",
       "  </tbody>\n",
       "</table>\n",
       "</div>"
      ],
      "text/plain": [
       "                  0             1\n",
       "count  1.460000e+03  1.460000e+03\n",
       "mean   4.932875e+09  7.665517e+09\n",
       "std    7.985861e+09  3.489101e+08\n",
       "min    3.725970e+07  6.560207e+09\n",
       "25%    1.440985e+09  7.460599e+09\n",
       "50%    3.137785e+09  7.680354e+09\n",
       "75%    5.608925e+09  8.000000e+09\n",
       "max    1.795971e+11  8.120601e+09"
      ]
     },
     "metadata": {},
     "output_type": "display_data"
    }
   ],
   "source": [
    "display(X.describe())\n",
    "display(pd.DataFrame(X_data2).describe())\n",
    "display(pd.DataFrame(X_data3).describe())"
   ]
  },
  {
   "cell_type": "markdown",
   "metadata": {},
   "source": [
    "### 二乗や三乗を入力に利用することでデータの分布が変わり、学習結果の傾きが小さくなる。"
   ]
  },
  {
   "cell_type": "code",
   "execution_count": null,
   "metadata": {},
   "outputs": [],
   "source": []
  },
  {
   "attachments": {},
   "cell_type": "markdown",
   "metadata": {},
   "source": [
    "# 【問題10】（アドバンス課題）更新式の導出\n",
    "最急降下法の更新式は以下でした。この式が導出される過程を説明してください。\n",
    "\n",
    "$$\\theta_j := \\theta_j - \\alpha \\frac{1}{m} \\sum_{i=1}^{m}[(h_\\theta(x^{(i)}) - y^{(i)} )x_{j}^{(i)}]$$\n",
    "\n",
    "以下の式から説明をはじめることができます。\n",
    "\n",
    "$$ \\theta_j := \\theta_j - \\frac{\\partial}{\\partial \\theta_j}J(\\theta) \\\\ $$\n",
    "\n",
    "目的関数（損失関数） 𝐽(𝜃) は次の式です。\n",
    "\n",
    "\n",
    "$$J(\\theta)=  \\frac{1 }{ 2m}  \\sum_{i=1}^{m} (h_\\theta(x^{(i)})-y^{(i)})^2.$$"
   ]
  },
  {
   "cell_type": "markdown",
   "metadata": {},
   "source": [
    "### 目的関数を重みθで偏微分することでその地点での接線の傾きを求め、傾きの絶対値を小さくする方向に学習率αの分だけ地点を移動させ重みθを更新していき、接線の傾きが最小となる点を探索的に求めている。"
   ]
  },
  {
   "cell_type": "code",
   "execution_count": null,
   "metadata": {},
   "outputs": [],
   "source": []
  },
  {
   "cell_type": "markdown",
   "metadata": {},
   "source": [
    "# 【問題11】（アドバンス課題）局所最適解の問題\n",
    "最急降下法には一般的に局所最適解の問題があります。しかし、線形回帰では学習を続ければ必ず最適解を求めることができます。それはなぜか数式やグラフを用いて説明してください。"
   ]
  },
  {
   "cell_type": "markdown",
   "metadata": {},
   "source": [
    "### 線形回帰では最適化手法に最小二乗法を用いており、２次関数を微分して重みを更新する。２次関数はfig1のように放物線となり、局所最適解＝大域最適解になる為である。"
   ]
  },
  {
   "cell_type": "code",
   "execution_count": 24,
   "metadata": {},
   "outputs": [
    {
     "data": {
      "image/png": "[encoded data removed]",
      "text/plain": [
       "<Figure size 432x288 with 1 Axes>"
      ]
     },
     "metadata": {
      "needs_background": "light"
     },
     "output_type": "display_data"
    }
   ],
   "source": [
    "x = np.arange(-5, 5, 0.1)\n",
    "y = x**2\n",
    "plt.title(\"fig1\")\n",
    "plt.plot(x, y)\n",
    "plt.show()"
   ]
  },
  {
   "cell_type": "code",
   "execution_count": null,
   "metadata": {},
   "outputs": [],
   "source": []
  }
 ],
 "metadata": {
  "kernelspec": {
   "display_name": "Python 3",
   "language": "python",
   "name": "python3"
  },
  "language_info": {
   "codemirror_mode": {
    "name": "ipython",
    "version": 3
   },
   "file_extension": ".py",
   "mimetype": "text/x-python",
   "name": "python",
   "nbconvert_exporter": "python",
   "pygments_lexer": "ipython3",
   "version": "3.7.7"
  }
 },
 "nbformat": 4,
 "nbformat_minor": 4
}
