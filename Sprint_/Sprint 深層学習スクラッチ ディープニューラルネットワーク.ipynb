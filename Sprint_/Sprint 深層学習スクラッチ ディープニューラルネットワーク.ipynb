{
 "cells": [
  {
   "cell_type": "code",
   "execution_count": 1,
   "metadata": {},
   "outputs": [],
   "source": [
    "import numpy as np\n",
    "import matplotlib.pyplot as plt\n",
    "from copy import deepcopy"
   ]
  },
  {
   "cell_type": "markdown",
   "metadata": {},
   "source": [
    "# 【問題1】全結合層のクラス化"
   ]
  },
  {
   "cell_type": "code",
   "execution_count": 2,
   "metadata": {},
   "outputs": [],
   "source": [
    "#Full Connected Layer Class\n",
    "class FC:\n",
    "    \"\"\"\n",
    "    ノード数n_nodes1からn_nodes2への全結合層\n",
    "    Parameters\n",
    "    ----------\n",
    "    n_nodes1 : int\n",
    "      前の層のノード数\n",
    "    n_nodes2 : int\n",
    "      後の層のノード数\n",
    "    initializer : 初期化方法のインスタンス\n",
    "    optimizer : 最適化手法のインスタンス\n",
    "    \"\"\"\n",
    "    def __init__(self, n_nodes1, n_nodes2, initializer, optimizer, layer):\n",
    "        self.optimizer = optimizer\n",
    "        self.layer = layer \n",
    "        # 初期化\n",
    "        # initializerのメソッドを使い、self.Wとself.Bを初期化する\n",
    "        self.B = initializer.B(n_nodes2)\n",
    "        self.W = initializer.W(n_nodes1, n_nodes2)\n",
    "        \n",
    "        self.HB = 0\n",
    "        self.HW = 0\n",
    "        \n",
    "    def forward(self, X): #X or Z\n",
    "        \"\"\"\n",
    "        フォワード\n",
    "        Parameters\n",
    "        ----------\n",
    "        X : 次の形のndarray, shape (batch_size, n_nodes1)\n",
    "            入力\n",
    "        Returns\n",
    "        ----------\n",
    "        A : 次の形のndarray, shape (batch_size, n_nodes2)\n",
    "            出力\n",
    "        \"\"\"        \n",
    "        self.X = X #X or Z\n",
    "        \n",
    "        A = X @ self.W + self.B\n",
    "        \n",
    "        return A\n",
    "    \n",
    "    def backward(self, dA):\n",
    "        \"\"\"\n",
    "        バックワード\n",
    "        Parameters\n",
    "        ----------\n",
    "        dA : 次の形のndarray, shape (batch_size, n_nodes2)\n",
    "            後ろから流れてきた勾配\n",
    "        Returns\n",
    "        ----------\n",
    "        dZ : 次の形のndarray, shape (batch_size, n_nodes1)\n",
    "            前に流す勾配\n",
    "        \"\"\"\n",
    "        dB = np.sum(dA, axis=0) / self.layer.batch_size\n",
    "        dW = self.X.T @ dA / self.layer.batch_size\n",
    "        dZ = dA @ self.W.T\n",
    "        \n",
    "        self.dB = dB\n",
    "        self.dW = dW\n",
    "        \n",
    "\n",
    "        # 更新\n",
    "        if self.layer.optimizer == \"SGD\":\n",
    "            self.B, self.W = self.optimizer.update(self)\n",
    "        elif self.layer.optimizer == \"AdaGrad\":\n",
    "            self.B, self.W, self.HB, self.HW = self.optimizer.update(self)\n",
    "            \n",
    "        return dZ"
   ]
  },
  {
   "cell_type": "code",
   "execution_count": null,
   "metadata": {},
   "outputs": [],
   "source": []
  },
  {
   "cell_type": "markdown",
   "metadata": {},
   "source": [
    "# 【問題2】初期化方法のクラス化"
   ]
  },
  {
   "cell_type": "code",
   "execution_count": 3,
   "metadata": {},
   "outputs": [],
   "source": [
    "class SimpleInitializer:\n",
    "    \"\"\"\n",
    "    ガウス分布によるシンプルな初期化\n",
    "    Parameters\n",
    "    ----------\n",
    "    sigma : float\n",
    "      ガウス分布の標準偏差\n",
    "    \"\"\"\n",
    "    def __init__(self, sigma):\n",
    "        self.sigma = sigma\n",
    "        \n",
    "    def W(self, n_nodes1, n_nodes2):\n",
    "        \"\"\"\n",
    "        重みの初期化\n",
    "        Parameters\n",
    "        ----------\n",
    "        n_nodes1 : int\n",
    "          前の層のノード数\n",
    "        n_nodes2 : int\n",
    "          後の層のノード数\n",
    "\n",
    "        Returns\n",
    "        ----------\n",
    "        W :\n",
    "        \"\"\"\n",
    "        \n",
    "        W = self.sigma * np.random.randn(n_nodes1, n_nodes2) #重みの初期値\n",
    "        \n",
    "        pass\n",
    "        return W\n",
    "    \n",
    "    def B(self, n_nodes2):\n",
    "        \"\"\"\n",
    "        バイアスの初期化\n",
    "        Parameters\n",
    "        ----------\n",
    "        n_nodes2 : int\n",
    "          後の層のノード数\n",
    "\n",
    "        Returns\n",
    "        ----------\n",
    "        B :\n",
    "        \"\"\"\n",
    "        \n",
    "        B = self.sigma * np.random.randn(n_nodes2) #バイアスの初期値\n",
    "        \n",
    "        pass\n",
    "        return B"
   ]
  },
  {
   "cell_type": "code",
   "execution_count": null,
   "metadata": {},
   "outputs": [],
   "source": []
  },
  {
   "cell_type": "markdown",
   "metadata": {},
   "source": [
    "# 【問題３】最適化方法のクラス化"
   ]
  },
  {
   "cell_type": "code",
   "execution_count": 4,
   "metadata": {},
   "outputs": [],
   "source": [
    "class SGD:\n",
    "    \"\"\"\n",
    "    確率的勾配降下法\n",
    "    Parameters\n",
    "    ----------\n",
    "    lr : 学習率\n",
    "    \"\"\"\n",
    "    def __init__(self, lr):\n",
    "        self.lr = lr\n",
    "        \n",
    "    def update(self, layer):\n",
    "        \"\"\"\n",
    "        ある層の重みやバイアスの更新\n",
    "        Parameters\n",
    "        ----------\n",
    "        layer : 更新前の層のインスタンス\n",
    "        \"\"\"\n",
    "        B = layer.B - (self.lr * layer.dB) \n",
    "        W = layer.W - (self.lr * layer.dW)\n",
    "        \n",
    "        return B, W"
   ]
  },
  {
   "cell_type": "code",
   "execution_count": null,
   "metadata": {},
   "outputs": [],
   "source": []
  },
  {
   "cell_type": "markdown",
   "metadata": {},
   "source": [
    "# 【問題4】活性化関数のクラス化"
   ]
  },
  {
   "cell_type": "code",
   "execution_count": 5,
   "metadata": {},
   "outputs": [],
   "source": [
    "class Sigmoid:\n",
    "    def __init__(self):\n",
    "        pass\n",
    "    \n",
    "    def forward(self, A):\n",
    "        Z = 1 / (1 + np.exp(-A)) #シグモイド関数\n",
    "        self.A = A\n",
    "        return Z\n",
    "    \n",
    "    def backward(self, dZ):\n",
    "        dA = dZ * ((1 - (1 / (1 + np.exp(-self.A)))) * (1 / (1 + np.exp(-self.A)))) #Aに関する損失の勾配\n",
    "        return dA "
   ]
  },
  {
   "cell_type": "code",
   "execution_count": 6,
   "metadata": {},
   "outputs": [],
   "source": [
    "class Tanh:\n",
    "    def __init__(self):\n",
    "        pass\n",
    "    \n",
    "    def forward(self, A):\n",
    "        Z = np.tanh(A) #ハイパボリックタンジェント関数\n",
    "        self.A = A\n",
    "        return Z\n",
    "    \n",
    "    def backward(self, dZ):\n",
    "        dA = dZ * (1 - np.tanh(self.A)**2) #Aに関する損失の勾配\n",
    "        return dA "
   ]
  },
  {
   "cell_type": "code",
   "execution_count": 7,
   "metadata": {},
   "outputs": [],
   "source": [
    "class Softmax:\n",
    "    def __init__(self):\n",
    "        pass\n",
    "    \n",
    "    def forward(self, A):\n",
    "        A = A - np.max(A, axis=1, keepdims=True) #オーバーフロー対策\n",
    "        Z = np.exp(A) / np.sum(np.exp(A), axis=1, keepdims=True) #ソフトマックス関数\n",
    "        return Z\n",
    "    \n",
    "    def backward(self, Z, Y):\n",
    "        dA = Z - Y  #Aに関する損失の勾配\n",
    "        loss = -1 * np.sum(Y * np.log(Z + 1e-7)) / Z.shape[0] #交差エントロピー誤差\n",
    "\n",
    "        return dA, loss"
   ]
  },
  {
   "cell_type": "code",
   "execution_count": null,
   "metadata": {},
   "outputs": [],
   "source": []
  },
  {
   "cell_type": "markdown",
   "metadata": {},
   "source": [
    "# 【問題5】ReLUクラスの作成\n",
    "発展的な活性化関数を作成しましょう。ReLUという活性化関数によって、勾配消失の問題が解消され、層のディープ化が可能になりました。\n",
    "\n",
    "\\begin{align}\n",
    "    f(x) = ReLU(x) = \n",
    "    \\begin{cases}\n",
    "        x　　(x>0)  \\\\\n",
    "        0　　(x\\leq0)\n",
    "    \\end{cases}  \\\\\n",
    "    \\frac{\\partial f(x)}{\\partial x} =\n",
    "    \\begin{cases}\n",
    "        1　　(x>0) \\\\\n",
    "        0　　(x\\leq0)\n",
    "    \\end{cases}\n",
    "\\end{align}\n",
    "本来、解析的には$x=0$で微分不可ですが、$f'(x=0)=0$とすることで対応しています。"
   ]
  },
  {
   "cell_type": "code",
   "execution_count": 8,
   "metadata": {},
   "outputs": [],
   "source": [
    "class ReLU:\n",
    "    def __init__(self):\n",
    "        self.mask = None\n",
    "        pass\n",
    "    \n",
    "    def forward(self, A):\n",
    "        Z = np.maximum(0 + 1e-7, A)\n",
    "        self.mask = (Z <= 0 + 1e-7)\n",
    "        return Z \n",
    "    \n",
    "    def backward(self, dZ):\n",
    "        dZ[self.mask] = 0 + 1e-7\n",
    "        dA = dZ \n",
    "        return dA"
   ]
  },
  {
   "cell_type": "code",
   "execution_count": null,
   "metadata": {},
   "outputs": [],
   "source": []
  },
  {
   "cell_type": "markdown",
   "metadata": {},
   "source": [
    "# 【問題6】重みの初期値"
   ]
  },
  {
   "cell_type": "code",
   "execution_count": 9,
   "metadata": {},
   "outputs": [],
   "source": [
    "#Xavierの初期値\n",
    "class XavierInitializer:\n",
    "    def W(self, n_nodes1, n_nodes2):\n",
    "        sigma = 1/np.sqrt(n_nodes1)\n",
    "        W = sigma * np.random.randn(n_nodes1, n_nodes2) #重みの初期値\n",
    "        return W\n",
    "\n",
    "    def B(self, n_nodes2):\n",
    "        sigma = 1/np.sqrt(n_nodes2)\n",
    "        B = sigma * np.random.randn(n_nodes2) #バイアスの初期値\n",
    "        return B"
   ]
  },
  {
   "cell_type": "code",
   "execution_count": 10,
   "metadata": {},
   "outputs": [],
   "source": [
    "#Heの初期値\n",
    "class HeInitializer:\n",
    "    def W(self, n_nodes1, n_nodes2):\n",
    "        sigma = np.sqrt(2/n_nodes1)\n",
    "        W = sigma * np.random.randn(n_nodes1, n_nodes2) #重みの初期値\n",
    "        return W\n",
    "    \n",
    "    def B(self, n_nodes2):\n",
    "        sigma = np.sqrt(2/n_nodes2)\n",
    "        B = sigma * np.random.randn(n_nodes2) #バイアスの初期値\n",
    "        return B"
   ]
  },
  {
   "cell_type": "markdown",
   "metadata": {},
   "source": [
    "# 【問題7】最適化手法\n",
    "最適化手法には様々なものがあります。発展的なものの中でも比較的実装が簡単なAdaGradを実装してみましょう。"
   ]
  },
  {
   "cell_type": "markdown",
   "metadata": {},
   "source": [
    "学習率は学習過程で変化させていく方法が一般的です。基本的な手法である AdaGrad のクラスを作成してください。\n",
    "\n",
    "\n",
    "まず、これまで使ってきたSGDを確認します。\n",
    "\n",
    "$W_i^{\\prime} = W_i - \\alpha E(\\frac{\\partial L}{\\partial W_i}) \\\\\n",
    "B_i^{\\prime} = B_i - \\alpha E(\\frac{\\partial L}{\\partial B_i})$\n",
    "\n",
    "$\\alpha$ : 学習率（層ごとに変えることも可能だが、基本的には全て同じとする）\n",
    "\n",
    "\n",
    "$\\frac{\\partial L}{\\partial W_i}$ : $W_i$ に関する損失 $L$ の勾配\n",
    "\n",
    "\n",
    "$\\frac{\\partial L}{\\partial B_i}$ : $B_i$ に関する損失 $L$ の勾配\n",
    "\n",
    "\n",
    "$E()$ : ミニバッチ方向にベクトルの平均を計算\n",
    "\n",
    "\n",
    "続いて、AdaGradです。バイアスの数式は省略しますが、重みと同様のことをします。\n",
    "\n",
    "\n",
    "更新された分だけその重みに対する学習率を徐々に下げていきます。イテレーションごとの勾配の二乗和 $H$ を保存しておき、その分だけ学習率を小さくします。\n",
    "\n",
    "\n",
    "学習率は重み一つひとつに対して異なることになります。\n",
    "\n",
    "\n",
    "$ H_i^{\\prime}  = H_i+E(\\frac{\\partial L}{\\partial W_i})×E(\\frac{\\partial L}{\\partial W_i})\\\\\n",
    "W_i^{\\prime} = W_i - \\alpha \\frac{1}{\\sqrt{H_i^{\\prime} }} E(\\frac{\\partial L}{\\partial W_i}) \\\\ $\n",
    "\n",
    "$H_i$ : i層目に関して、前のイテレーションまでの勾配の二乗和（初期値は0）\n",
    "\n",
    "\n",
    "$H_i^{\\prime}$ : 更新した $H_i$"
   ]
  },
  {
   "cell_type": "code",
   "execution_count": 11,
   "metadata": {},
   "outputs": [],
   "source": [
    "class AdaGrad:\n",
    "    def __init__(self, lr):\n",
    "        self.lr = lr\n",
    "        \n",
    "    def update(self, layer):\n",
    "        \"\"\"\n",
    "        ある層の重みやバイアスの更新\n",
    "        Parameters\n",
    "        ----------\n",
    "        layer : 更新前の層のインスタンス\n",
    "        \"\"\"\n",
    "        HB = layer.HB + layer.dB**2\n",
    "        B = layer.B - (self.lr * (1/(np.sqrt(HB) + 1e-7)) * layer.dB)\n",
    "\n",
    "        HW = layer.HW + layer.dW**2\n",
    "        W = layer.W - (self.lr * (1/(np.sqrt(HW) + 1e-7)) * layer.dW)\n",
    "        \n",
    "        return B, W, HB, HW"
   ]
  },
  {
   "cell_type": "code",
   "execution_count": null,
   "metadata": {},
   "outputs": [],
   "source": []
  },
  {
   "cell_type": "markdown",
   "metadata": {},
   "source": [
    "# データの準備等"
   ]
  },
  {
   "cell_type": "code",
   "execution_count": 12,
   "metadata": {},
   "outputs": [],
   "source": [
    "class GetMiniBatch:\n",
    "    \"\"\"\n",
    "    ミニバッチを取得するイテレータ\n",
    "\n",
    "    Parameters\n",
    "    ----------\n",
    "    X : 次の形のndarray, shape (n_samples, n_features)\n",
    "      訓練データ\n",
    "    y : 次の形のndarray, shape (n_samples, 1)\n",
    "      正解値\n",
    "    batch_size : int\n",
    "      バッチサイズ\n",
    "    seed : int\n",
    "      NumPyの乱数のシード\n",
    "    \"\"\"\n",
    "    def __init__(self, X, y, batch_size = 20, seed=0):\n",
    "        self.batch_size = batch_size\n",
    "        np.random.seed(seed)\n",
    "        shuffle_index = np.random.permutation(np.arange(X.shape[0]))\n",
    "        self._X = X[shuffle_index]\n",
    "        self._y = y[shuffle_index]\n",
    "        self._stop = np.ceil(X.shape[0]/self.batch_size).astype(np.int)\n",
    "    def __len__(self):\n",
    "        return self._stop\n",
    "    def __getitem__(self,item):\n",
    "        p0 = item*self.batch_size\n",
    "        p1 = item*self.batch_size + self.batch_size\n",
    "        return self._X[p0:p1], self._y[p0:p1]        \n",
    "    def __iter__(self):\n",
    "        self._counter = 0\n",
    "        return self\n",
    "    def __next__(self):\n",
    "        if self._counter >= self._stop:\n",
    "            raise StopIteration()\n",
    "        p0 = self._counter*self.batch_size\n",
    "        p1 = self._counter*self.batch_size + self.batch_size\n",
    "        self._counter += 1\n",
    "        return self._X[p0:p1], self._y[p0:p1]"
   ]
  },
  {
   "cell_type": "code",
   "execution_count": null,
   "metadata": {},
   "outputs": [],
   "source": []
  },
  {
   "cell_type": "code",
   "execution_count": 13,
   "metadata": {
    "scrolled": true
   },
   "outputs": [
    {
     "name": "stderr",
     "output_type": "stream",
     "text": [
      "Using TensorFlow backend.\n",
      "/Users/takahashihideyuki/.pyenv/versions/anaconda3-2019.10/lib/python3.7/site-packages/tensorflow/python/framework/dtypes.py:516: FutureWarning: Passing (type, 1) or '1type' as a synonym of type is deprecated; in a future version of numpy, it will be understood as (type, (1,)) / '(1,)type'.\n",
      "  _np_qint8 = np.dtype([(\"qint8\", np.int8, 1)])\n",
      "/Users/takahashihideyuki/.pyenv/versions/anaconda3-2019.10/lib/python3.7/site-packages/tensorflow/python/framework/dtypes.py:517: FutureWarning: Passing (type, 1) or '1type' as a synonym of type is deprecated; in a future version of numpy, it will be understood as (type, (1,)) / '(1,)type'.\n",
      "  _np_quint8 = np.dtype([(\"quint8\", np.uint8, 1)])\n",
      "/Users/takahashihideyuki/.pyenv/versions/anaconda3-2019.10/lib/python3.7/site-packages/tensorflow/python/framework/dtypes.py:518: FutureWarning: Passing (type, 1) or '1type' as a synonym of type is deprecated; in a future version of numpy, it will be understood as (type, (1,)) / '(1,)type'.\n",
      "  _np_qint16 = np.dtype([(\"qint16\", np.int16, 1)])\n",
      "/Users/takahashihideyuki/.pyenv/versions/anaconda3-2019.10/lib/python3.7/site-packages/tensorflow/python/framework/dtypes.py:519: FutureWarning: Passing (type, 1) or '1type' as a synonym of type is deprecated; in a future version of numpy, it will be understood as (type, (1,)) / '(1,)type'.\n",
      "  _np_quint16 = np.dtype([(\"quint16\", np.uint16, 1)])\n",
      "/Users/takahashihideyuki/.pyenv/versions/anaconda3-2019.10/lib/python3.7/site-packages/tensorflow/python/framework/dtypes.py:520: FutureWarning: Passing (type, 1) or '1type' as a synonym of type is deprecated; in a future version of numpy, it will be understood as (type, (1,)) / '(1,)type'.\n",
      "  _np_qint32 = np.dtype([(\"qint32\", np.int32, 1)])\n",
      "/Users/takahashihideyuki/.pyenv/versions/anaconda3-2019.10/lib/python3.7/site-packages/tensorflow/python/framework/dtypes.py:525: FutureWarning: Passing (type, 1) or '1type' as a synonym of type is deprecated; in a future version of numpy, it will be understood as (type, (1,)) / '(1,)type'.\n",
      "  np_resource = np.dtype([(\"resource\", np.ubyte, 1)])\n",
      "/Users/takahashihideyuki/.pyenv/versions/anaconda3-2019.10/lib/python3.7/site-packages/tensorboard/compat/tensorflow_stub/dtypes.py:541: FutureWarning: Passing (type, 1) or '1type' as a synonym of type is deprecated; in a future version of numpy, it will be understood as (type, (1,)) / '(1,)type'.\n",
      "  _np_qint8 = np.dtype([(\"qint8\", np.int8, 1)])\n",
      "/Users/takahashihideyuki/.pyenv/versions/anaconda3-2019.10/lib/python3.7/site-packages/tensorboard/compat/tensorflow_stub/dtypes.py:542: FutureWarning: Passing (type, 1) or '1type' as a synonym of type is deprecated; in a future version of numpy, it will be understood as (type, (1,)) / '(1,)type'.\n",
      "  _np_quint8 = np.dtype([(\"quint8\", np.uint8, 1)])\n",
      "/Users/takahashihideyuki/.pyenv/versions/anaconda3-2019.10/lib/python3.7/site-packages/tensorboard/compat/tensorflow_stub/dtypes.py:543: FutureWarning: Passing (type, 1) or '1type' as a synonym of type is deprecated; in a future version of numpy, it will be understood as (type, (1,)) / '(1,)type'.\n",
      "  _np_qint16 = np.dtype([(\"qint16\", np.int16, 1)])\n",
      "/Users/takahashihideyuki/.pyenv/versions/anaconda3-2019.10/lib/python3.7/site-packages/tensorboard/compat/tensorflow_stub/dtypes.py:544: FutureWarning: Passing (type, 1) or '1type' as a synonym of type is deprecated; in a future version of numpy, it will be understood as (type, (1,)) / '(1,)type'.\n",
      "  _np_quint16 = np.dtype([(\"quint16\", np.uint16, 1)])\n",
      "/Users/takahashihideyuki/.pyenv/versions/anaconda3-2019.10/lib/python3.7/site-packages/tensorboard/compat/tensorflow_stub/dtypes.py:545: FutureWarning: Passing (type, 1) or '1type' as a synonym of type is deprecated; in a future version of numpy, it will be understood as (type, (1,)) / '(1,)type'.\n",
      "  _np_qint32 = np.dtype([(\"qint32\", np.int32, 1)])\n",
      "/Users/takahashihideyuki/.pyenv/versions/anaconda3-2019.10/lib/python3.7/site-packages/tensorboard/compat/tensorflow_stub/dtypes.py:550: FutureWarning: Passing (type, 1) or '1type' as a synonym of type is deprecated; in a future version of numpy, it will be understood as (type, (1,)) / '(1,)type'.\n",
      "  np_resource = np.dtype([(\"resource\", np.ubyte, 1)])\n"
     ]
    }
   ],
   "source": [
    "from keras.datasets import mnist\n",
    "(X_train, y_train), (X_test, y_test) = mnist.load_data()"
   ]
  },
  {
   "cell_type": "code",
   "execution_count": 14,
   "metadata": {},
   "outputs": [],
   "source": [
    "#平滑化\n",
    "X_train = X_train.reshape(-1, 784)\n",
    "X_test = X_test.reshape(-1, 784)\n",
    "\n",
    "#正規化\n",
    "X_train = X_train.astype(np.float)\n",
    "X_test = X_test.astype(np.float)\n",
    "X_train /= 255\n",
    "X_test /= 255"
   ]
  },
  {
   "cell_type": "code",
   "execution_count": 15,
   "metadata": {},
   "outputs": [
    {
     "name": "stdout",
     "output_type": "stream",
     "text": [
      "(48000, 784)\n",
      "(48000,)\n"
     ]
    }
   ],
   "source": [
    "#データ分割\n",
    "from sklearn.model_selection import train_test_split\n",
    "X_train, X_val, y_train, y_val = train_test_split(X_train, y_train, test_size=0.2)\n",
    "print(X_train.shape) # (48000, 784)\n",
    "print(y_train.shape) # (48000, 784)"
   ]
  },
  {
   "cell_type": "code",
   "execution_count": 16,
   "metadata": {},
   "outputs": [
    {
     "name": "stdout",
     "output_type": "stream",
     "text": [
      "(48000, 10)\n",
      "(12000, 10)\n"
     ]
    }
   ],
   "source": [
    "#yデータ　one-hot処理\n",
    "from sklearn.preprocessing import OneHotEncoder\n",
    "enc = OneHotEncoder(handle_unknown='ignore', sparse=False)\n",
    "y_train_one_hot = enc.fit_transform(y_train[:, np.newaxis])\n",
    "y_val_one_hot = enc.fit_transform(y_val[:, np.newaxis])\n",
    "print(y_train_one_hot.shape)\n",
    "print(y_val_one_hot.shape)"
   ]
  },
  {
   "cell_type": "code",
   "execution_count": null,
   "metadata": {},
   "outputs": [],
   "source": []
  },
  {
   "cell_type": "markdown",
   "metadata": {},
   "source": [
    "# 【問題8】クラスの完成\n",
    "任意の構成で学習と推定が行えるScratchDeepNeuralNetrowkClassifierクラスを完成させてください。"
   ]
  },
  {
   "cell_type": "code",
   "execution_count": 40,
   "metadata": {},
   "outputs": [],
   "source": [
    "class ScratchDeepNeuralNetrowkClassifier:\n",
    "    def __init__(self, lr=10**-2, batch_size=20, activation_func=\"Tanh\", optimizer=\"AdaGrad\", \n",
    "                           n_nodes1=400, n_nodes2=200, n_layer=3, n_epoch=1, verbose = False):\n",
    "        \n",
    "        self.lr = lr #学習率\n",
    "        self.batch_size = batch_size #バッチサイズ\n",
    "        self.activation_func = activation_func #活性化関数の種類\n",
    "        self.optimizer = optimizer #最適化手法\n",
    "        self.n_nodes1 = n_nodes1 # 1層目のノード数\n",
    "        self.n_nodes2 = n_nodes2 # 2層目のノード数\n",
    "        self.n_layer = n_layer #層の数\n",
    "        self.n_epoch =n_epoch #エポック数\n",
    "        self.loss_list = [] #損失を記録するリスト\n",
    "        self.loss_list_val = [] #損失を記録するリスト(検証データ用)\n",
    "        self.verbose = verbose\n",
    "        \n",
    "    \n",
    "    def fit(self, X, y, X_val=None, y_val=None, cnt = 1):\n",
    "        self.n_features = X.shape[1]\n",
    "        self.n_output = y.shape[1]\n",
    "        if self.optimizer == \"SGD\":\n",
    "            optimizer = SGD(self.lr)\n",
    "        elif self.optimizer == \"AdaGrad\":\n",
    "            optimizer = AdaGrad(self.lr)\n",
    "        if self.activation_func == \"Tanh\":\n",
    "            activation = Tanh()\n",
    "            initializer = XavierInitializer() #Xavierの初期値\n",
    "        elif self.activation_func == \"Sigmoid\":\n",
    "            activation = Sigmoid()\n",
    "            initializer = XavierInitializer() #Xavierの初期値\n",
    "        elif self.activation_func == \"ReLU\":\n",
    "            activation = ReLU()\n",
    "            initializer = HeInitializer() #Heの初期値\n",
    "        self.FC1 = FC(self.n_features, self.n_nodes1, initializer, optimizer, self)\n",
    "        self.activation1 = deepcopy(activation)\n",
    "        self.FC2 = FC(self.n_nodes1, self.n_nodes2, initializer, optimizer, self)\n",
    "        self.activation2 = deepcopy(activation)\n",
    "        self.FC3 = FC(self.n_nodes2, self.n_output, initializer, optimizer, self)\n",
    "        self.activation3 = Softmax()\n",
    "         \n",
    "        #fitを再帰させて学習データと検証データの両方を学習させる。検証データがあれば先に検証データを学習させる\n",
    "        if X_val is None:\n",
    "            get_mini_batch = GetMiniBatch(X, y, self.batch_size) #GetMiniBatchクラスでミニバッチを作成\n",
    "        else:\n",
    "            get_mini_batch = GetMiniBatch(X_val, y_val, self.batch_size) #GetMiniBatchクラスでミニバッチを作成\n",
    "        \n",
    "        #学習処理\n",
    "        for i in range(self.n_epoch):\n",
    "            loss_list = []\n",
    "            for mini_X_train, mini_y_train in get_mini_batch:\n",
    "                # このfor文内でミニバッチが使える\n",
    "                \n",
    "                #forwardの処理\n",
    "                A1 = self.FC1.forward(mini_X_train)\n",
    "                Z1 = self.activation1.forward(A1)\n",
    "                A2 = self.FC2.forward(Z1)\n",
    "                Z2 = self.activation2.forward(A2)\n",
    "                A3 = self.FC3.forward(Z2)\n",
    "                Z3 = self.activation3.forward(A3)\n",
    "\n",
    "                #backwardの処理\n",
    "                dA3, loss = self.activation3.backward(Z3, mini_y_train) # 交差エントロピー誤差とソフトマックスを合わせている\n",
    "                dZ2 = self.FC3.backward(dA3)\n",
    "                dA2 = self.activation2.backward(dZ2)\n",
    "                dZ1 = self.FC2.backward(dA2)\n",
    "                dA1 = self.activation1.backward(dZ1)\n",
    "                dZ0 = self.FC1.backward(dA1) # dZ0は使用しない\n",
    "                \n",
    "                \"\"\"\n",
    "                Loss Curvを描くための処理\n",
    "                \"\"\"                \n",
    "                loss_list.append(loss)\n",
    "            \n",
    "            if X_val is None:\n",
    "                self.loss_list.append(np.mean(loss_list))\n",
    "                if self.verbose: #verboseをTrueにした際は学習過程などを出力する\n",
    "                    print(loss_list)\n",
    "            else:\n",
    "                self.loss_list_val.append(np.mean(loss_list))\n",
    "                if self.verbose: #verboseをTrueにした際は学習過程などを出力する\n",
    "                    print(loss_list_val)\n",
    "                \n",
    "        cnt += 1\n",
    "        if cnt == 3 or X_val is None:\n",
    "            return\n",
    "        \n",
    "        return self.fit(X, y, cnt = cnt) #検証データが入力されている場合は再帰させて学習データを学習させる。\n",
    "\n",
    "    def predict(self,X):\n",
    "        A1 = self.FC1.forward(X)\n",
    "        Z1 = self.activation1.forward(A1)\n",
    "        A2 = self.FC2.forward(Z1)\n",
    "        Z2 = self.activation2.forward(A2)\n",
    "        A3 = self.FC3.forward(Z2)\n",
    "        y = self.activation3.forward(A3)\n",
    "        \n",
    "        pred = np.argmax(y, axis=1)\n",
    "        \n",
    "        return pred"
   ]
  },
  {
   "cell_type": "code",
   "execution_count": null,
   "metadata": {},
   "outputs": [],
   "source": []
  },
  {
   "cell_type": "markdown",
   "metadata": {},
   "source": [
    "# 【問題9】学習と推定\n",
    "ノード数や層の数、活性化関数を変えたネットワークを作成して、それぞれの結果を比較してみてください。そして、MNISTのデータを学習・推定し、Accuracyを計算してください。"
   ]
  },
  {
   "cell_type": "markdown",
   "metadata": {},
   "source": [
    "### N0.1 活性化関数：ReLU"
   ]
  },
  {
   "cell_type": "code",
   "execution_count": 20,
   "metadata": {},
   "outputs": [],
   "source": [
    "from sklearn.metrics import accuracy_score\n",
    "from sklearn.metrics import confusion_matrix\n",
    "from sklearn.metrics import classification_report "
   ]
  },
  {
   "cell_type": "code",
   "execution_count": 19,
   "metadata": {},
   "outputs": [],
   "source": [
    "sdnnc = ScratchDeepNeuralNetrowkClassifier(lr=10**-2, batch_size=20, activation_func=\"ReLU\", optimizer=\"AdaGrad\", \n",
    "                            n_nodes1=400, n_nodes2=200, n_layer=3, n_epoch=15, verbose = False)\n",
    "sdnnc.fit(X_train, y_train_one_hot, X_val, y_val_one_hot)"
   ]
  },
  {
   "cell_type": "code",
   "execution_count": 21,
   "metadata": {},
   "outputs": [
    {
     "name": "stdout",
     "output_type": "stream",
     "text": [
      "[7 2 1 ... 4 5 6]\n",
      "正解率：0.98\n",
      "混同行列：\n",
      "[[ 971    0    0    2    0    3    1    1    2    0]\n",
      " [   0 1128    3    1    0    1    2    0    0    0]\n",
      " [   6    1 1010    1    1    0    2    6    5    0]\n",
      " [   0    0    2  988    0    2    0    4    6    8]\n",
      " [   2    0    4    0  959    0    3    2    2   10]\n",
      " [   2    0    0   10    2  867    4    1    4    2]\n",
      " [   7    3    1    1    5    4  936    0    1    0]\n",
      " [   1    1    7    1    0    0    0 1011    1    6]\n",
      " [   6    0    2    4    3    0    1    2  954    2]\n",
      " [   2    2    0    5    5    2    0    5    1  987]]\n",
      "classification_report：\n",
      "              precision    recall  f1-score   support\n",
      "\n",
      "           0       0.97      0.99      0.98       980\n",
      "           1       0.99      0.99      0.99      1135\n",
      "           2       0.98      0.98      0.98      1032\n",
      "           3       0.98      0.98      0.98      1010\n",
      "           4       0.98      0.98      0.98       982\n",
      "           5       0.99      0.97      0.98       892\n",
      "           6       0.99      0.98      0.98       958\n",
      "           7       0.98      0.98      0.98      1028\n",
      "           8       0.98      0.98      0.98       974\n",
      "           9       0.97      0.98      0.98      1009\n",
      "\n",
      "    accuracy                           0.98     10000\n",
      "   macro avg       0.98      0.98      0.98     10000\n",
      "weighted avg       0.98      0.98      0.98     10000\n",
      "\n"
     ]
    }
   ],
   "source": [
    "#テストデータ\n",
    "pred = sdnnc.predict(X_test)\n",
    "print(pred)\n",
    "print(\"正解率：{:.2f}\".format(accuracy_score(y_test, pred)))\n",
    "print(\"混同行列：\")\n",
    "print(confusion_matrix(y_test, pred))\n",
    "print(\"classification_report：\") #評価をまとめて出力するやつ\n",
    "print(classification_report(y_test, pred))"
   ]
  },
  {
   "cell_type": "code",
   "execution_count": 22,
   "metadata": {},
   "outputs": [
    {
     "data": {
      "image/png": "[encoded data removed]",
      "text/plain": [
       "<Figure size 432x288 with 1 Axes>"
      ]
     },
     "metadata": {
      "needs_background": "light"
     },
     "output_type": "display_data"
    }
   ],
   "source": [
    "plt.title(\"model loss\")\n",
    "plt.xlabel(\"epoch\")\n",
    "plt.ylabel(\"loss\")\n",
    "plt.plot(np.arange(1, len(sdnnc.loss_list)+1), sdnnc.loss_list, label=\"train_loss\", marker=\"o\", linewidth=3)\n",
    "plt.plot(np.arange(1, len(sdnnc.loss_list_val)+1), sdnnc.loss_list_val, label=\"val_loss\", marker=\"o\", linewidth=3)\n",
    "plt.legend()\n",
    "plt.show()"
   ]
  },
  {
   "cell_type": "code",
   "execution_count": null,
   "metadata": {},
   "outputs": [],
   "source": []
  },
  {
   "cell_type": "markdown",
   "metadata": {},
   "source": [
    "### N0.2 活性化関数：Sigmoid"
   ]
  },
  {
   "cell_type": "code",
   "execution_count": 23,
   "metadata": {},
   "outputs": [],
   "source": [
    "sdnnc = ScratchDeepNeuralNetrowkClassifier(lr=10**-2, batch_size=20, activation_func=\"Sigmoid\", optimizer=\"AdaGrad\", \n",
    "                            n_nodes1=400, n_nodes2=200, n_layer=3, n_epoch=15, verbose = False)\n",
    "sdnnc.fit(X_train, y_train_one_hot, X_val, y_val_one_hot)"
   ]
  },
  {
   "cell_type": "code",
   "execution_count": 24,
   "metadata": {},
   "outputs": [
    {
     "name": "stdout",
     "output_type": "stream",
     "text": [
      "[7 2 1 ... 4 5 6]\n",
      "正解率：0.97\n"
     ]
    }
   ],
   "source": [
    "#テストデータ\n",
    "pred = sdnnc.predict(X_test)\n",
    "print(pred)\n",
    "print(\"正解率：{:.2f}\".format(accuracy_score(y_test, pred)))"
   ]
  },
  {
   "cell_type": "code",
   "execution_count": 25,
   "metadata": {},
   "outputs": [
    {
     "data": {
      "image/png": "[encoded data removed]",
      "text/plain": [
       "<Figure size 432x288 with 1 Axes>"
      ]
     },
     "metadata": {
      "needs_background": "light"
     },
     "output_type": "display_data"
    }
   ],
   "source": [
    "plt.title(\"model loss\")\n",
    "plt.xlabel(\"epoch\")\n",
    "plt.ylabel(\"loss\")\n",
    "plt.plot(np.arange(1, len(sdnnc.loss_list)+1), sdnnc.loss_list, label=\"train_loss\", marker=\"o\", linewidth=3)\n",
    "plt.plot(np.arange(1, len(sdnnc.loss_list_val)+1), sdnnc.loss_list_val, label=\"val_loss\", marker=\"o\", linewidth=3)\n",
    "plt.legend()\n",
    "plt.show()"
   ]
  },
  {
   "cell_type": "code",
   "execution_count": null,
   "metadata": {},
   "outputs": [],
   "source": []
  },
  {
   "cell_type": "markdown",
   "metadata": {},
   "source": [
    "### N0.3 活性化関数：Tanh"
   ]
  },
  {
   "cell_type": "code",
   "execution_count": 27,
   "metadata": {},
   "outputs": [],
   "source": [
    "sdnnc = ScratchDeepNeuralNetrowkClassifier(lr=10**-2, batch_size=20, activation_func=\"Tanh\", optimizer=\"AdaGrad\", \n",
    "                            n_nodes1=400, n_nodes2=200, n_layer=3, n_epoch=15, verbose = False)\n",
    "sdnnc.fit(X_train, y_train_one_hot, X_val, y_val_one_hot)"
   ]
  },
  {
   "cell_type": "code",
   "execution_count": 28,
   "metadata": {},
   "outputs": [
    {
     "name": "stdout",
     "output_type": "stream",
     "text": [
      "[7 2 1 ... 4 5 6]\n",
      "正解率：0.98\n"
     ]
    }
   ],
   "source": [
    "#テストデータ\n",
    "pred = sdnnc.predict(X_test)\n",
    "print(pred)\n",
    "print(\"正解率：{:.2f}\".format(accuracy_score(y_test, pred)))"
   ]
  },
  {
   "cell_type": "code",
   "execution_count": 29,
   "metadata": {},
   "outputs": [
    {
     "data": {
      "image/png": "[encoded data removed]",
      "text/plain": [
       "<Figure size 432x288 with 1 Axes>"
      ]
     },
     "metadata": {
      "needs_background": "light"
     },
     "output_type": "display_data"
    }
   ],
   "source": [
    "plt.title(\"model loss\")\n",
    "plt.xlabel(\"epoch\")\n",
    "plt.ylabel(\"loss\")\n",
    "plt.plot(np.arange(1, len(sdnnc.loss_list)+1), sdnnc.loss_list, label=\"train_loss\", marker=\"o\", linewidth=3)\n",
    "plt.plot(np.arange(1, len(sdnnc.loss_list_val)+1), sdnnc.loss_list_val, label=\"val_loss\", marker=\"o\", linewidth=3)\n",
    "plt.legend()\n",
    "plt.show()"
   ]
  },
  {
   "cell_type": "markdown",
   "metadata": {},
   "source": [
    "### 今回の条件では活性化関数の違いによる正解率の差はほぼないが、lossの下がり具合を比較すると、ReLUが最も早い段階で下がっており、優秀であることが確認出来た。"
   ]
  },
  {
   "cell_type": "code",
   "execution_count": null,
   "metadata": {},
   "outputs": [],
   "source": []
  },
  {
   "cell_type": "markdown",
   "metadata": {},
   "source": [
    "### N0.4 活性化関数：ReLU、ノード数　１層目：５００、２層目：２５０"
   ]
  },
  {
   "cell_type": "code",
   "execution_count": 30,
   "metadata": {},
   "outputs": [],
   "source": [
    "sdnnc = ScratchDeepNeuralNetrowkClassifier(lr=10**-2, batch_size=20, activation_func=\"ReLU\", optimizer=\"AdaGrad\", \n",
    "                            n_nodes1=500, n_nodes2=250, n_layer=3, n_epoch=15, verbose = False)\n",
    "sdnnc.fit(X_train, y_train_one_hot, X_val, y_val_one_hot)"
   ]
  },
  {
   "cell_type": "code",
   "execution_count": 31,
   "metadata": {},
   "outputs": [
    {
     "name": "stdout",
     "output_type": "stream",
     "text": [
      "[7 2 1 ... 4 5 6]\n",
      "正解率：0.98\n"
     ]
    }
   ],
   "source": [
    "#テストデータ\n",
    "pred = sdnnc.predict(X_test)\n",
    "print(pred)\n",
    "print(\"正解率：{:.2f}\".format(accuracy_score(y_test, pred)))"
   ]
  },
  {
   "cell_type": "code",
   "execution_count": 32,
   "metadata": {},
   "outputs": [
    {
     "data": {
      "image/png": "[encoded data removed]",
      "text/plain": [
       "<Figure size 432x288 with 1 Axes>"
      ]
     },
     "metadata": {
      "needs_background": "light"
     },
     "output_type": "display_data"
    }
   ],
   "source": [
    "plt.title(\"model loss\")\n",
    "plt.xlabel(\"epoch\")\n",
    "plt.ylabel(\"loss\")\n",
    "plt.plot(np.arange(1, len(sdnnc.loss_list)+1), sdnnc.loss_list, label=\"train_loss\", marker=\"o\", linewidth=3)\n",
    "plt.plot(np.arange(1, len(sdnnc.loss_list_val)+1), sdnnc.loss_list_val, label=\"val_loss\", marker=\"o\", linewidth=3)\n",
    "plt.legend()\n",
    "plt.show()"
   ]
  },
  {
   "cell_type": "code",
   "execution_count": null,
   "metadata": {},
   "outputs": [],
   "source": []
  },
  {
   "cell_type": "markdown",
   "metadata": {},
   "source": [
    "### N0.5 活性化関数：ReLU、層数：６層"
   ]
  },
  {
   "cell_type": "code",
   "execution_count": 39,
   "metadata": {},
   "outputs": [],
   "source": [
    "class ScratchDeepNeuralNetrowkClassifier:\n",
    "    def __init__(self, lr=10**-2, batch_size=20, activation_func=\"Tanh\", optimizer=\"AdaGrad\", n_nodes1=700, n_nodes2=600, \n",
    "                             n_nodes3=500, n_nodes4=400,  n_nodes5=300, n_nodes6=200, n_layer=6, n_epoch=15, verbose = False):\n",
    "        \n",
    "        self.lr = lr #学習率\n",
    "        self.batch_size = batch_size #バッチサイズ\n",
    "        self.activation_func = activation_func #活性化関数の種類\n",
    "        self.optimizer = optimizer #最適化手法\n",
    "        self.n_nodes1 = n_nodes1 # 1層目のノード数\n",
    "        self.n_nodes2 = n_nodes2 # 2層目のノード数\n",
    "        self.n_nodes3 = n_nodes3 # 3層目のノード数\n",
    "        self.n_nodes4 = n_nodes4 # 4層目のノード数\n",
    "        self.n_nodes5 = n_nodes5 # 5層目のノード数\n",
    "        self.n_nodes6 = n_nodes6 # 6層目のノード数 \n",
    "        self.n_layer = n_layer #層の数\n",
    "        self.n_epoch =n_epoch #エポック数\n",
    "        self.loss_list = [] #損失を記録するリスト\n",
    "        self.loss_list_val = [] #損失を記録するリスト(検証データ用)\n",
    "        self.verbose = verbose\n",
    "        \n",
    "    \n",
    "    def fit(self, X, y, X_val=None, y_val=None, cnt = 1):\n",
    "        self.n_features = X.shape[1]\n",
    "        self.n_output = y.shape[1]\n",
    "        if self.optimizer == \"SGD\":\n",
    "            optimizer = SGD(self.lr)\n",
    "        elif self.optimizer == \"AdaGrad\":\n",
    "            optimizer = AdaGrad(self.lr)\n",
    "        if self.activation_func == \"Tanh\":\n",
    "            activation = Tanh()\n",
    "            initializer = XavierInitializer() #Xavierの初期値\n",
    "        elif self.activation_func == \"Sigmoid\":\n",
    "            activation = Sigmoid()\n",
    "            initializer = XavierInitializer() #Xavierの初期値\n",
    "        elif self.activation_func == \"ReLU\":\n",
    "            activation = ReLU()\n",
    "            initializer = HeInitializer() #Heの初期値\n",
    "        self.FC1 = FC(self.n_features, self.n_nodes1, initializer, optimizer, self)\n",
    "        self.activation1 = deepcopy(activation)\n",
    "        self.FC2 = FC(self.n_nodes1, self.n_nodes2, initializer, optimizer, self)\n",
    "        self.activation2 = deepcopy(activation)\n",
    "        self.FC3 = FC(self.n_nodes2, self.n_nodes3, initializer, optimizer, self)\n",
    "        self.activation3 = deepcopy(activation)       \n",
    "        self.FC4 = FC(self.n_nodes3, self.n_nodes4, initializer, optimizer, self)\n",
    "        self.activation4 = deepcopy(activation)\n",
    "        self.FC5 = FC(self.n_nodes4, self.n_nodes5, initializer, optimizer, self)\n",
    "        self.activation5 = deepcopy(activation)\n",
    "        self.FC6 = FC(self.n_nodes5, self.n_output, initializer, optimizer, self)\n",
    "        self.activation6 = Softmax()\n",
    "         \n",
    "        #fitを再帰させて学習データと検証データの両方を学習させる。検証データがあれば先に検証データを学習させる\n",
    "        if X_val is None:\n",
    "            get_mini_batch = GetMiniBatch(X, y, self.batch_size) #GetMiniBatchクラスでミニバッチを作成\n",
    "        else:\n",
    "            get_mini_batch = GetMiniBatch(X_val, y_val, self.batch_size) #GetMiniBatchクラスでミニバッチを作成\n",
    "        \n",
    "        #学習処理\n",
    "        for i in range(self.n_epoch):\n",
    "            loss_list = []\n",
    "            for mini_X_train, mini_y_train in get_mini_batch:\n",
    "                # このfor文内でミニバッチが使える\n",
    "                \n",
    "                #forwardの処理\n",
    "                A1 = self.FC1.forward(mini_X_train)\n",
    "                Z1 = self.activation1.forward(A1)\n",
    "                A2 = self.FC2.forward(Z1)\n",
    "                Z2 = self.activation2.forward(A2)\n",
    "                A3 = self.FC3.forward(Z2)\n",
    "                Z3 = self.activation3.forward(A3)\n",
    "                A4 = self.FC4.forward(Z3)\n",
    "                Z4 = self.activation4.forward(A4)\n",
    "                A5 = self.FC5.forward(Z4)\n",
    "                Z5 = self.activation5.forward(A5)\n",
    "                A6 = self.FC6.forward(Z5)\n",
    "                Z6 = self.activation6.forward(A6)\n",
    "\n",
    "                #backwardの処理\n",
    "                dA6, loss = self.activation6.backward(Z6, mini_y_train) # 交差エントロピー誤差とソフトマックスを合わせている\n",
    "                dZ5 = self.FC6.backward(dA6)\n",
    "                dA5 = self.activation5.backward(dZ5)\n",
    "                dZ4 = self.FC5.backward(dA5)\n",
    "                dA4 = self.activation4.backward(dZ4)\n",
    "                dZ3 = self.FC4.backward(dA4)\n",
    "                dA3 = self.activation3.backward(dZ3)\n",
    "                dZ2 = self.FC3.backward(dA3)\n",
    "                dA2 = self.activation2.backward(dZ2)\n",
    "                dZ1 = self.FC2.backward(dA2)\n",
    "                dA1 = self.activation1.backward(dZ1)\n",
    "                dZ0 = self.FC1.backward(dA1) # dZ0は使用しない\n",
    "                \n",
    "                \"\"\"\n",
    "                Loss Curvを描くための処理\n",
    "                \"\"\"                \n",
    "                loss_list.append(loss)\n",
    "            \n",
    "            if X_val is None:\n",
    "                self.loss_list.append(np.mean(loss_list))\n",
    "                if self.verbose: #verboseをTrueにした際は学習過程などを出力する\n",
    "                    print(loss_list)\n",
    "            else:\n",
    "                self.loss_list_val.append(np.mean(loss_list))\n",
    "                if self.verbose: #verboseをTrueにした際は学習過程などを出力する\n",
    "                    print(loss_list_val)\n",
    "                \n",
    "        cnt += 1\n",
    "        if cnt == 3 or X_val is None:\n",
    "            return\n",
    "        \n",
    "        return self.fit(X, y, cnt = cnt) #検証データが入力されている場合は再帰させて学習データを学習させる。\n",
    "\n",
    "    def predict(self,X):\n",
    "        A1 = self.FC1.forward(X)\n",
    "        Z1 = self.activation1.forward(A1)\n",
    "        A2 = self.FC2.forward(Z1)\n",
    "        Z2 = self.activation2.forward(A2)\n",
    "        A3 = self.FC3.forward(Z2)\n",
    "        Z3 = self.activation3.forward(A3)\n",
    "        A4 = self.FC4.forward(Z3)\n",
    "        Z4 = self.activation4.forward(A4)\n",
    "        A5 = self.FC5.forward(Z4)\n",
    "        Z5 = self.activation5.forward(A5)\n",
    "        A6 = self.FC6.forward(Z5)\n",
    "        y = self.activation6.forward(A6)\n",
    "        \n",
    "        pred = np.argmax(y, axis=1)\n",
    "        \n",
    "        return pred"
   ]
  },
  {
   "cell_type": "code",
   "execution_count": 36,
   "metadata": {},
   "outputs": [],
   "source": [
    "sdnnc = ScratchDeepNeuralNetrowkClassifier(lr=10**-2, batch_size=20, activation_func=\"ReLU\", optimizer=\"AdaGrad\", n_nodes1=700, n_nodes2=600, \n",
    "                             n_nodes3=500, n_nodes4=400,  n_nodes5=300, n_nodes6=200, n_layer=6, n_epoch=15, verbose = False)\n",
    "sdnnc.fit(X_train, y_train_one_hot, X_val, y_val_one_hot)"
   ]
  },
  {
   "cell_type": "code",
   "execution_count": 37,
   "metadata": {},
   "outputs": [
    {
     "name": "stdout",
     "output_type": "stream",
     "text": [
      "[7 2 1 ... 4 5 6]\n",
      "正解率：0.98\n"
     ]
    }
   ],
   "source": [
    "#テストデータ\n",
    "pred = sdnnc.predict(X_test)\n",
    "print(pred)\n",
    "print(\"正解率：{:.2f}\".format(accuracy_score(y_test, pred)))"
   ]
  },
  {
   "cell_type": "code",
   "execution_count": 38,
   "metadata": {},
   "outputs": [
    {
     "data": {
      "image/png": "[encoded data removed]",
      "text/plain": [
       "<Figure size 432x288 with 1 Axes>"
      ]
     },
     "metadata": {
      "needs_background": "light"
     },
     "output_type": "display_data"
    }
   ],
   "source": [
    "plt.title(\"model loss\")\n",
    "plt.xlabel(\"epoch\")\n",
    "plt.ylabel(\"loss\")\n",
    "plt.plot(np.arange(1, len(sdnnc.loss_list)+1), sdnnc.loss_list, label=\"train_loss\", marker=\"o\", linewidth=3)\n",
    "plt.plot(np.arange(1, len(sdnnc.loss_list_val)+1), sdnnc.loss_list_val, label=\"val_loss\", marker=\"o\", linewidth=3)\n",
    "plt.legend()\n",
    "plt.show()"
   ]
  },
  {
   "cell_type": "markdown",
   "metadata": {},
   "source": [
    "### 層数を３→６層に増やすことで、かなり早い段階（epoch7あたり）でlossが収束しており、層数を増やすことの効果を確認出来た。ただし、学習にかなり時間が掛かるという背反もあり、より時間が掛からない実装方法についても考えて行きたい。"
   ]
  },
  {
   "cell_type": "code",
   "execution_count": null,
   "metadata": {},
   "outputs": [],
   "source": []
  }
 ],
 "metadata": {
  "kernelspec": {
   "display_name": "Python 3",
   "language": "python",
   "name": "python3"
  },
  "language_info": {
   "codemirror_mode": {
    "name": "ipython",
    "version": 3
   },
   "file_extension": ".py",
   "mimetype": "text/x-python",
   "name": "python",
   "nbconvert_exporter": "python",
   "pygments_lexer": "ipython3",
   "version": "3.7.7"
  }
 },
 "nbformat": 4,
 "nbformat_minor": 4
}
