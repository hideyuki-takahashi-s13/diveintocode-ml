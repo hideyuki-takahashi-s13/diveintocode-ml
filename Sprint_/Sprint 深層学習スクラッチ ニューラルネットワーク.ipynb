{
 "cells": [
  {
   "cell_type": "markdown",
   "metadata": {},
   "source": [
    "# 問題１〜５の回答は、下部にあるScratchSimpleNeuralNetrowkClassifier()クラスに記入。"
   ]
  },
  {
   "cell_type": "markdown",
   "metadata": {},
   "source": [
    "# データセットをダウンロード"
   ]
  },
  {
   "cell_type": "code",
   "execution_count": 1,
   "metadata": {},
   "outputs": [
    {
     "name": "stderr",
     "output_type": "stream",
     "text": [
      "Using TensorFlow backend.\n",
      "/Users/takahashihideyuki/.pyenv/versions/anaconda3-2019.10/lib/python3.7/site-packages/tensorflow/python/framework/dtypes.py:516: FutureWarning: Passing (type, 1) or '1type' as a synonym of type is deprecated; in a future version of numpy, it will be understood as (type, (1,)) / '(1,)type'.\n",
      "  _np_qint8 = np.dtype([(\"qint8\", np.int8, 1)])\n",
      "/Users/takahashihideyuki/.pyenv/versions/anaconda3-2019.10/lib/python3.7/site-packages/tensorflow/python/framework/dtypes.py:517: FutureWarning: Passing (type, 1) or '1type' as a synonym of type is deprecated; in a future version of numpy, it will be understood as (type, (1,)) / '(1,)type'.\n",
      "  _np_quint8 = np.dtype([(\"quint8\", np.uint8, 1)])\n",
      "/Users/takahashihideyuki/.pyenv/versions/anaconda3-2019.10/lib/python3.7/site-packages/tensorflow/python/framework/dtypes.py:518: FutureWarning: Passing (type, 1) or '1type' as a synonym of type is deprecated; in a future version of numpy, it will be understood as (type, (1,)) / '(1,)type'.\n",
      "  _np_qint16 = np.dtype([(\"qint16\", np.int16, 1)])\n",
      "/Users/takahashihideyuki/.pyenv/versions/anaconda3-2019.10/lib/python3.7/site-packages/tensorflow/python/framework/dtypes.py:519: FutureWarning: Passing (type, 1) or '1type' as a synonym of type is deprecated; in a future version of numpy, it will be understood as (type, (1,)) / '(1,)type'.\n",
      "  _np_quint16 = np.dtype([(\"quint16\", np.uint16, 1)])\n",
      "/Users/takahashihideyuki/.pyenv/versions/anaconda3-2019.10/lib/python3.7/site-packages/tensorflow/python/framework/dtypes.py:520: FutureWarning: Passing (type, 1) or '1type' as a synonym of type is deprecated; in a future version of numpy, it will be understood as (type, (1,)) / '(1,)type'.\n",
      "  _np_qint32 = np.dtype([(\"qint32\", np.int32, 1)])\n",
      "/Users/takahashihideyuki/.pyenv/versions/anaconda3-2019.10/lib/python3.7/site-packages/tensorflow/python/framework/dtypes.py:525: FutureWarning: Passing (type, 1) or '1type' as a synonym of type is deprecated; in a future version of numpy, it will be understood as (type, (1,)) / '(1,)type'.\n",
      "  np_resource = np.dtype([(\"resource\", np.ubyte, 1)])\n",
      "/Users/takahashihideyuki/.pyenv/versions/anaconda3-2019.10/lib/python3.7/site-packages/tensorboard/compat/tensorflow_stub/dtypes.py:541: FutureWarning: Passing (type, 1) or '1type' as a synonym of type is deprecated; in a future version of numpy, it will be understood as (type, (1,)) / '(1,)type'.\n",
      "  _np_qint8 = np.dtype([(\"qint8\", np.int8, 1)])\n",
      "/Users/takahashihideyuki/.pyenv/versions/anaconda3-2019.10/lib/python3.7/site-packages/tensorboard/compat/tensorflow_stub/dtypes.py:542: FutureWarning: Passing (type, 1) or '1type' as a synonym of type is deprecated; in a future version of numpy, it will be understood as (type, (1,)) / '(1,)type'.\n",
      "  _np_quint8 = np.dtype([(\"quint8\", np.uint8, 1)])\n",
      "/Users/takahashihideyuki/.pyenv/versions/anaconda3-2019.10/lib/python3.7/site-packages/tensorboard/compat/tensorflow_stub/dtypes.py:543: FutureWarning: Passing (type, 1) or '1type' as a synonym of type is deprecated; in a future version of numpy, it will be understood as (type, (1,)) / '(1,)type'.\n",
      "  _np_qint16 = np.dtype([(\"qint16\", np.int16, 1)])\n",
      "/Users/takahashihideyuki/.pyenv/versions/anaconda3-2019.10/lib/python3.7/site-packages/tensorboard/compat/tensorflow_stub/dtypes.py:544: FutureWarning: Passing (type, 1) or '1type' as a synonym of type is deprecated; in a future version of numpy, it will be understood as (type, (1,)) / '(1,)type'.\n",
      "  _np_quint16 = np.dtype([(\"quint16\", np.uint16, 1)])\n",
      "/Users/takahashihideyuki/.pyenv/versions/anaconda3-2019.10/lib/python3.7/site-packages/tensorboard/compat/tensorflow_stub/dtypes.py:545: FutureWarning: Passing (type, 1) or '1type' as a synonym of type is deprecated; in a future version of numpy, it will be understood as (type, (1,)) / '(1,)type'.\n",
      "  _np_qint32 = np.dtype([(\"qint32\", np.int32, 1)])\n",
      "/Users/takahashihideyuki/.pyenv/versions/anaconda3-2019.10/lib/python3.7/site-packages/tensorboard/compat/tensorflow_stub/dtypes.py:550: FutureWarning: Passing (type, 1) or '1type' as a synonym of type is deprecated; in a future version of numpy, it will be understood as (type, (1,)) / '(1,)type'.\n",
      "  np_resource = np.dtype([(\"resource\", np.ubyte, 1)])\n"
     ]
    }
   ],
   "source": [
    "from keras.datasets import mnist\n",
    "(X_train, y_train), (X_test, y_test) = mnist.load_data()"
   ]
  },
  {
   "cell_type": "markdown",
   "metadata": {},
   "source": [
    "# データセットの確認"
   ]
  },
  {
   "cell_type": "code",
   "execution_count": 2,
   "metadata": {},
   "outputs": [
    {
     "name": "stdout",
     "output_type": "stream",
     "text": [
      "(60000, 28, 28)\n",
      "(10000, 28, 28)\n",
      "uint8\n",
      "[[  0   0   0   0   0   0   0   0   0   0   0   0   0   0   0   0   0   0\n",
      "    0   0   0   0   0   0   0   0   0   0]\n",
      " [  0   0   0   0   0   0   0   0   0   0   0   0   0   0   0   0   0   0\n",
      "    0   0   0   0   0   0   0   0   0   0]\n",
      " [  0   0   0   0   0   0   0   0   0   0   0   0   0   0   0   0   0   0\n",
      "    0   0   0   0   0   0   0   0   0   0]\n",
      " [  0   0   0   0   0   0   0   0   0   0   0   0   0   0   0   0   0   0\n",
      "    0   0   0   0   0   0   0   0   0   0]\n",
      " [  0   0   0   0   0   0   0   0   0   0   0   0   0   0   0   0   0   0\n",
      "    0   0   0   0   0   0   0   0   0   0]\n",
      " [  0   0   0   0   0   0   0   0   0   0   0   0   3  18  18  18 126 136\n",
      "  175  26 166 255 247 127   0   0   0   0]\n",
      " [  0   0   0   0   0   0   0   0  30  36  94 154 170 253 253 253 253 253\n",
      "  225 172 253 242 195  64   0   0   0   0]\n",
      " [  0   0   0   0   0   0   0  49 238 253 253 253 253 253 253 253 253 251\n",
      "   93  82  82  56  39   0   0   0   0   0]\n",
      " [  0   0   0   0   0   0   0  18 219 253 253 253 253 253 198 182 247 241\n",
      "    0   0   0   0   0   0   0   0   0   0]\n",
      " [  0   0   0   0   0   0   0   0  80 156 107 253 253 205  11   0  43 154\n",
      "    0   0   0   0   0   0   0   0   0   0]\n",
      " [  0   0   0   0   0   0   0   0   0  14   1 154 253  90   0   0   0   0\n",
      "    0   0   0   0   0   0   0   0   0   0]\n",
      " [  0   0   0   0   0   0   0   0   0   0   0 139 253 190   2   0   0   0\n",
      "    0   0   0   0   0   0   0   0   0   0]\n",
      " [  0   0   0   0   0   0   0   0   0   0   0  11 190 253  70   0   0   0\n",
      "    0   0   0   0   0   0   0   0   0   0]\n",
      " [  0   0   0   0   0   0   0   0   0   0   0   0  35 241 225 160 108   1\n",
      "    0   0   0   0   0   0   0   0   0   0]\n",
      " [  0   0   0   0   0   0   0   0   0   0   0   0   0  81 240 253 253 119\n",
      "   25   0   0   0   0   0   0   0   0   0]\n",
      " [  0   0   0   0   0   0   0   0   0   0   0   0   0   0  45 186 253 253\n",
      "  150  27   0   0   0   0   0   0   0   0]\n",
      " [  0   0   0   0   0   0   0   0   0   0   0   0   0   0   0  16  93 252\n",
      "  253 187   0   0   0   0   0   0   0   0]\n",
      " [  0   0   0   0   0   0   0   0   0   0   0   0   0   0   0   0   0 249\n",
      "  253 249  64   0   0   0   0   0   0   0]\n",
      " [  0   0   0   0   0   0   0   0   0   0   0   0   0   0  46 130 183 253\n",
      "  253 207   2   0   0   0   0   0   0   0]\n",
      " [  0   0   0   0   0   0   0   0   0   0   0   0  39 148 229 253 253 253\n",
      "  250 182   0   0   0   0   0   0   0   0]\n",
      " [  0   0   0   0   0   0   0   0   0   0  24 114 221 253 253 253 253 201\n",
      "   78   0   0   0   0   0   0   0   0   0]\n",
      " [  0   0   0   0   0   0   0   0  23  66 213 253 253 253 253 198  81   2\n",
      "    0   0   0   0   0   0   0   0   0   0]\n",
      " [  0   0   0   0   0   0  18 171 219 253 253 253 253 195  80   9   0   0\n",
      "    0   0   0   0   0   0   0   0   0   0]\n",
      " [  0   0   0   0  55 172 226 253 253 253 253 244 133  11   0   0   0   0\n",
      "    0   0   0   0   0   0   0   0   0   0]\n",
      " [  0   0   0   0 136 253 253 253 212 135 132  16   0   0   0   0   0   0\n",
      "    0   0   0   0   0   0   0   0   0   0]\n",
      " [  0   0   0   0   0   0   0   0   0   0   0   0   0   0   0   0   0   0\n",
      "    0   0   0   0   0   0   0   0   0   0]\n",
      " [  0   0   0   0   0   0   0   0   0   0   0   0   0   0   0   0   0   0\n",
      "    0   0   0   0   0   0   0   0   0   0]\n",
      " [  0   0   0   0   0   0   0   0   0   0   0   0   0   0   0   0   0   0\n",
      "    0   0   0   0   0   0   0   0   0   0]]\n"
     ]
    }
   ],
   "source": [
    "print(X_train.shape) # (60000, 28, 28)\n",
    "print(X_test.shape) # (10000, 28, 28)\n",
    "print(X_train[0].dtype) # uint8\n",
    "print(X_train[0])"
   ]
  },
  {
   "cell_type": "markdown",
   "metadata": {},
   "source": [
    "# 平滑化\n",
    "(1, 28, 28)の各画像を、(1, 784)に変換します。これまで学んできた機械学習手法や、今回扱う全結合層のみのニューラルネットワークではこの形で扱います。全てのピクセルが一列になっていることを、 平滑化（flatten） してあるという風に表現します。"
   ]
  },
  {
   "cell_type": "code",
   "execution_count": 3,
   "metadata": {},
   "outputs": [
    {
     "name": "stdout",
     "output_type": "stream",
     "text": [
      "(60000, 784)\n",
      "(10000, 784)\n"
     ]
    }
   ],
   "source": [
    "X_train = X_train.reshape(-1, 784)\n",
    "X_test = X_test.reshape(-1, 784)\n",
    "print(X_train.shape)\n",
    "print(X_test.shape)"
   ]
  },
  {
   "cell_type": "markdown",
   "metadata": {},
   "source": [
    "# 画像データの可視化\n",
    "画像データを可視化します。plt.imshowに渡します。"
   ]
  },
  {
   "cell_type": "code",
   "execution_count": 4,
   "metadata": {},
   "outputs": [
    {
     "data": {
      "image/png": "[encoded data removed]",
      "text/plain": [
       "<Figure size 432x288 with 1 Axes>"
      ]
     },
     "metadata": {
      "needs_background": "light"
     },
     "output_type": "display_data"
    }
   ],
   "source": [
    "import matplotlib.pyplot as plt\n",
    "%matplotlib inline\n",
    "index = 0\n",
    "image = X_train[index].reshape(28,28)\n",
    "# X_train[index]: (784,)\n",
    "# image: (28, 28)\n",
    "plt.imshow(image, 'gray')\n",
    "plt.title('label : {}'.format(y_train[index]))\n",
    "plt.show()"
   ]
  },
  {
   "cell_type": "markdown",
   "metadata": {},
   "source": [
    "### 《発展的話題》\n",
    "画像データは符号なし8ビット整数のuint8型で保持されることが一般的ですが、plt.imshowはより自由な配列を画像として表示することが可能です。例えば、以下のようにマイナスの値を持ったfloat64型の浮動小数点であってもエラーにはならないし、先ほどと全く同じ風に表示されます。\n",
    "\n"
   ]
  },
  {
   "cell_type": "code",
   "execution_count": 5,
   "metadata": {},
   "outputs": [],
   "source": [
    "import numpy as np"
   ]
  },
  {
   "cell_type": "code",
   "execution_count": 6,
   "metadata": {
    "scrolled": true
   },
   "outputs": [
    {
     "data": {
      "image/png": "[encoded data removed]",
      "text/plain": [
       "<Figure size 432x288 with 1 Axes>"
      ]
     },
     "metadata": {
      "needs_background": "light"
     },
     "output_type": "display_data"
    },
    {
     "name": "stdout",
     "output_type": "stream",
     "text": [
      "[[-105.35 -105.35 -105.35 -105.35 -105.35 -105.35 -105.35 -105.35 -105.35\n",
      "  -105.35 -105.35 -105.35 -105.35 -105.35 -105.35 -105.35 -105.35 -105.35\n",
      "  -105.35 -105.35 -105.35 -105.35 -105.35 -105.35 -105.35 -105.35 -105.35\n",
      "  -105.35]\n",
      " [-105.35 -105.35 -105.35 -105.35 -105.35 -105.35 -105.35 -105.35 -105.35\n",
      "  -105.35 -105.35 -105.35 -105.35 -105.35 -105.35 -105.35 -105.35 -105.35\n",
      "  -105.35 -105.35 -105.35 -105.35 -105.35 -105.35 -105.35 -105.35 -105.35\n",
      "  -105.35]\n",
      " [-105.35 -105.35 -105.35 -105.35 -105.35 -105.35 -105.35 -105.35 -105.35\n",
      "  -105.35 -105.35 -105.35 -105.35 -105.35 -105.35 -105.35 -105.35 -105.35\n",
      "  -105.35 -105.35 -105.35 -105.35 -105.35 -105.35 -105.35 -105.35 -105.35\n",
      "  -105.35]\n",
      " [-105.35 -105.35 -105.35 -105.35 -105.35 -105.35 -105.35 -105.35 -105.35\n",
      "  -105.35 -105.35 -105.35 -105.35 -105.35 -105.35 -105.35 -105.35 -105.35\n",
      "  -105.35 -105.35 -105.35 -105.35 -105.35 -105.35 -105.35 -105.35 -105.35\n",
      "  -105.35]\n",
      " [-105.35 -105.35 -105.35 -105.35 -105.35 -105.35 -105.35 -105.35 -105.35\n",
      "  -105.35 -105.35 -105.35 -105.35 -105.35 -105.35 -105.35 -105.35 -105.35\n",
      "  -105.35 -105.35 -105.35 -105.35 -105.35 -105.35 -105.35 -105.35 -105.35\n",
      "  -105.35]\n",
      " [-105.35 -105.35 -105.35 -105.35 -105.35 -105.35 -105.35 -105.35 -105.35\n",
      "  -105.35 -105.35 -105.35 -102.35  -87.35  -87.35  -87.35   20.65   30.65\n",
      "    69.65  -79.35   60.65  149.65  141.65   21.65 -105.35 -105.35 -105.35\n",
      "  -105.35]\n",
      " [-105.35 -105.35 -105.35 -105.35 -105.35 -105.35 -105.35 -105.35  -75.35\n",
      "   -69.35  -11.35   48.65   64.65  147.65  147.65  147.65  147.65  147.65\n",
      "   119.65   66.65  147.65  136.65   89.65  -41.35 -105.35 -105.35 -105.35\n",
      "  -105.35]\n",
      " [-105.35 -105.35 -105.35 -105.35 -105.35 -105.35 -105.35  -56.35  132.65\n",
      "   147.65  147.65  147.65  147.65  147.65  147.65  147.65  147.65  145.65\n",
      "   -12.35  -23.35  -23.35  -49.35  -66.35 -105.35 -105.35 -105.35 -105.35\n",
      "  -105.35]\n",
      " [-105.35 -105.35 -105.35 -105.35 -105.35 -105.35 -105.35  -87.35  113.65\n",
      "   147.65  147.65  147.65  147.65  147.65   92.65   76.65  141.65  135.65\n",
      "  -105.35 -105.35 -105.35 -105.35 -105.35 -105.35 -105.35 -105.35 -105.35\n",
      "  -105.35]\n",
      " [-105.35 -105.35 -105.35 -105.35 -105.35 -105.35 -105.35 -105.35  -25.35\n",
      "    50.65    1.65  147.65  147.65   99.65  -94.35 -105.35  -62.35   48.65\n",
      "  -105.35 -105.35 -105.35 -105.35 -105.35 -105.35 -105.35 -105.35 -105.35\n",
      "  -105.35]\n",
      " [-105.35 -105.35 -105.35 -105.35 -105.35 -105.35 -105.35 -105.35 -105.35\n",
      "   -91.35 -104.35   48.65  147.65  -15.35 -105.35 -105.35 -105.35 -105.35\n",
      "  -105.35 -105.35 -105.35 -105.35 -105.35 -105.35 -105.35 -105.35 -105.35\n",
      "  -105.35]\n",
      " [-105.35 -105.35 -105.35 -105.35 -105.35 -105.35 -105.35 -105.35 -105.35\n",
      "  -105.35 -105.35   33.65  147.65   84.65 -103.35 -105.35 -105.35 -105.35\n",
      "  -105.35 -105.35 -105.35 -105.35 -105.35 -105.35 -105.35 -105.35 -105.35\n",
      "  -105.35]\n",
      " [-105.35 -105.35 -105.35 -105.35 -105.35 -105.35 -105.35 -105.35 -105.35\n",
      "  -105.35 -105.35  -94.35   84.65  147.65  -35.35 -105.35 -105.35 -105.35\n",
      "  -105.35 -105.35 -105.35 -105.35 -105.35 -105.35 -105.35 -105.35 -105.35\n",
      "  -105.35]\n",
      " [-105.35 -105.35 -105.35 -105.35 -105.35 -105.35 -105.35 -105.35 -105.35\n",
      "  -105.35 -105.35 -105.35  -70.35  135.65  119.65   54.65    2.65 -104.35\n",
      "  -105.35 -105.35 -105.35 -105.35 -105.35 -105.35 -105.35 -105.35 -105.35\n",
      "  -105.35]\n",
      " [-105.35 -105.35 -105.35 -105.35 -105.35 -105.35 -105.35 -105.35 -105.35\n",
      "  -105.35 -105.35 -105.35 -105.35  -24.35  134.65  147.65  147.65   13.65\n",
      "   -80.35 -105.35 -105.35 -105.35 -105.35 -105.35 -105.35 -105.35 -105.35\n",
      "  -105.35]\n",
      " [-105.35 -105.35 -105.35 -105.35 -105.35 -105.35 -105.35 -105.35 -105.35\n",
      "  -105.35 -105.35 -105.35 -105.35 -105.35  -60.35   80.65  147.65  147.65\n",
      "    44.65  -78.35 -105.35 -105.35 -105.35 -105.35 -105.35 -105.35 -105.35\n",
      "  -105.35]\n",
      " [-105.35 -105.35 -105.35 -105.35 -105.35 -105.35 -105.35 -105.35 -105.35\n",
      "  -105.35 -105.35 -105.35 -105.35 -105.35 -105.35  -89.35  -12.35  146.65\n",
      "   147.65   81.65 -105.35 -105.35 -105.35 -105.35 -105.35 -105.35 -105.35\n",
      "  -105.35]\n",
      " [-105.35 -105.35 -105.35 -105.35 -105.35 -105.35 -105.35 -105.35 -105.35\n",
      "  -105.35 -105.35 -105.35 -105.35 -105.35 -105.35 -105.35 -105.35  143.65\n",
      "   147.65  143.65  -41.35 -105.35 -105.35 -105.35 -105.35 -105.35 -105.35\n",
      "  -105.35]\n",
      " [-105.35 -105.35 -105.35 -105.35 -105.35 -105.35 -105.35 -105.35 -105.35\n",
      "  -105.35 -105.35 -105.35 -105.35 -105.35  -59.35   24.65   77.65  147.65\n",
      "   147.65  101.65 -103.35 -105.35 -105.35 -105.35 -105.35 -105.35 -105.35\n",
      "  -105.35]\n",
      " [-105.35 -105.35 -105.35 -105.35 -105.35 -105.35 -105.35 -105.35 -105.35\n",
      "  -105.35 -105.35 -105.35  -66.35   42.65  123.65  147.65  147.65  147.65\n",
      "   144.65   76.65 -105.35 -105.35 -105.35 -105.35 -105.35 -105.35 -105.35\n",
      "  -105.35]\n",
      " [-105.35 -105.35 -105.35 -105.35 -105.35 -105.35 -105.35 -105.35 -105.35\n",
      "  -105.35  -81.35    8.65  115.65  147.65  147.65  147.65  147.65   95.65\n",
      "   -27.35 -105.35 -105.35 -105.35 -105.35 -105.35 -105.35 -105.35 -105.35\n",
      "  -105.35]\n",
      " [-105.35 -105.35 -105.35 -105.35 -105.35 -105.35 -105.35 -105.35  -82.35\n",
      "   -39.35  107.65  147.65  147.65  147.65  147.65   92.65  -24.35 -103.35\n",
      "  -105.35 -105.35 -105.35 -105.35 -105.35 -105.35 -105.35 -105.35 -105.35\n",
      "  -105.35]\n",
      " [-105.35 -105.35 -105.35 -105.35 -105.35 -105.35  -87.35   65.65  113.65\n",
      "   147.65  147.65  147.65  147.65   89.65  -25.35  -96.35 -105.35 -105.35\n",
      "  -105.35 -105.35 -105.35 -105.35 -105.35 -105.35 -105.35 -105.35 -105.35\n",
      "  -105.35]\n",
      " [-105.35 -105.35 -105.35 -105.35  -50.35   66.65  120.65  147.65  147.65\n",
      "   147.65  147.65  138.65   27.65  -94.35 -105.35 -105.35 -105.35 -105.35\n",
      "  -105.35 -105.35 -105.35 -105.35 -105.35 -105.35 -105.35 -105.35 -105.35\n",
      "  -105.35]\n",
      " [-105.35 -105.35 -105.35 -105.35   30.65  147.65  147.65  147.65  106.65\n",
      "    29.65   26.65  -89.35 -105.35 -105.35 -105.35 -105.35 -105.35 -105.35\n",
      "  -105.35 -105.35 -105.35 -105.35 -105.35 -105.35 -105.35 -105.35 -105.35\n",
      "  -105.35]\n",
      " [-105.35 -105.35 -105.35 -105.35 -105.35 -105.35 -105.35 -105.35 -105.35\n",
      "  -105.35 -105.35 -105.35 -105.35 -105.35 -105.35 -105.35 -105.35 -105.35\n",
      "  -105.35 -105.35 -105.35 -105.35 -105.35 -105.35 -105.35 -105.35 -105.35\n",
      "  -105.35]\n",
      " [-105.35 -105.35 -105.35 -105.35 -105.35 -105.35 -105.35 -105.35 -105.35\n",
      "  -105.35 -105.35 -105.35 -105.35 -105.35 -105.35 -105.35 -105.35 -105.35\n",
      "  -105.35 -105.35 -105.35 -105.35 -105.35 -105.35 -105.35 -105.35 -105.35\n",
      "  -105.35]\n",
      " [-105.35 -105.35 -105.35 -105.35 -105.35 -105.35 -105.35 -105.35 -105.35\n",
      "  -105.35 -105.35 -105.35 -105.35 -105.35 -105.35 -105.35 -105.35 -105.35\n",
      "  -105.35 -105.35 -105.35 -105.35 -105.35 -105.35 -105.35 -105.35 -105.35\n",
      "  -105.35]]\n"
     ]
    }
   ],
   "source": [
    "index = 0\n",
    "image = X_train[index].reshape(28,28)\n",
    "image = image.astype(np.float) # float型に変換\n",
    "image -= 105.35 # 意図的に負の小数値を作り出してみる\n",
    "plt.imshow(image, 'gray')\n",
    "plt.title('label : {}'.format(y_train[index]))\n",
    "plt.show()\n",
    "print(image) # 値を確認"
   ]
  },
  {
   "cell_type": "markdown",
   "metadata": {},
   "source": [
    "これは、自動的に値を0〜255の整数に変換して処理するように作られているからです。uint8型であっても最小値が0、最大値が255でない場合には色合いがおかしくなります。それを防ぐためには次のように引数を入れてください。"
   ]
  },
  {
   "cell_type": "code",
   "execution_count": 7,
   "metadata": {},
   "outputs": [
    {
     "data": {
      "text/plain": [
       "<matplotlib.image.AxesImage at 0x7fc155668d90>"
      ]
     },
     "execution_count": 7,
     "metadata": {},
     "output_type": "execute_result"
    },
    {
     "data": {
      "image/png": "[encoded data removed]",
      "text/plain": [
       "<Figure size 432x288 with 1 Axes>"
      ]
     },
     "metadata": {
      "needs_background": "light"
     },
     "output_type": "display_data"
    }
   ],
   "source": [
    "plt.imshow(image, 'gray', vmin = 0, vmax = 255)"
   ]
  },
  {
   "cell_type": "markdown",
   "metadata": {},
   "source": [
    "画像関係のライブラリではこの自動的なスケーリングが思わぬ結果を生むことがあるので、新しいメソッドを使うときには確認しておきましょう。"
   ]
  },
  {
   "cell_type": "markdown",
   "metadata": {},
   "source": [
    "# 前処理\n",
    "画像は0から255のuint8型で表されますが、機械学習をする上では0から1のfloat型で扱うことになります。以下のコードで変換可能です。"
   ]
  },
  {
   "cell_type": "code",
   "execution_count": 8,
   "metadata": {},
   "outputs": [
    {
     "name": "stdout",
     "output_type": "stream",
     "text": [
      "1.0\n",
      "0.0\n"
     ]
    }
   ],
   "source": [
    "X_train = X_train.astype(np.float)\n",
    "X_test = X_test.astype(np.float)\n",
    "X_train /= 255\n",
    "X_test /= 255\n",
    "print(X_train.max()) # 1.0\n",
    "print(X_train.min()) # 0.0"
   ]
  },
  {
   "cell_type": "markdown",
   "metadata": {},
   "source": [
    "また、正解ラベルは0から9の整数ですが、ニューラルネットワークで多クラス分類を行う際には one-hot表現 に変換します。scikit-learnのOneHotEncoderを使用したコードが以下です。このone-hot表現による値はそのラベルである確率を示していることになるため、float型で扱います。"
   ]
  },
  {
   "cell_type": "code",
   "execution_count": 9,
   "metadata": {},
   "outputs": [
    {
     "name": "stdout",
     "output_type": "stream",
     "text": [
      "(60000,)\n",
      "(60000, 10)\n",
      "float64\n"
     ]
    }
   ],
   "source": [
    "from sklearn.preprocessing import OneHotEncoder\n",
    "enc = OneHotEncoder(handle_unknown='ignore', sparse=False)\n",
    "y_train_one_hot = enc.fit_transform(y_train[:, np.newaxis])\n",
    "y_test_one_hot = enc.transform(y_test[:, np.newaxis])\n",
    "print(y_train.shape) # (60000,)\n",
    "print(y_train_one_hot.shape) # (60000, 10)\n",
    "print(y_train_one_hot.dtype) # float64"
   ]
  },
  {
   "cell_type": "code",
   "execution_count": 10,
   "metadata": {},
   "outputs": [
    {
     "data": {
      "text/plain": [
       "array([5, 0, 4, ..., 5, 6, 8], dtype=uint8)"
      ]
     },
     "execution_count": 10,
     "metadata": {},
     "output_type": "execute_result"
    }
   ],
   "source": [
    "y_train"
   ]
  },
  {
   "cell_type": "code",
   "execution_count": 11,
   "metadata": {},
   "outputs": [
    {
     "data": {
      "text/plain": [
       "array([[0., 0., 0., 0., 0., 1., 0., 0., 0., 0.],\n",
       "       [1., 0., 0., 0., 0., 0., 0., 0., 0., 0.],\n",
       "       [0., 0., 0., 0., 1., 0., 0., 0., 0., 0.],\n",
       "       [0., 1., 0., 0., 0., 0., 0., 0., 0., 0.],\n",
       "       [0., 0., 0., 0., 0., 0., 0., 0., 0., 1.],\n",
       "       [0., 0., 1., 0., 0., 0., 0., 0., 0., 0.],\n",
       "       [0., 1., 0., 0., 0., 0., 0., 0., 0., 0.],\n",
       "       [0., 0., 0., 1., 0., 0., 0., 0., 0., 0.],\n",
       "       [0., 1., 0., 0., 0., 0., 0., 0., 0., 0.],\n",
       "       [0., 0., 0., 0., 1., 0., 0., 0., 0., 0.]])"
      ]
     },
     "execution_count": 11,
     "metadata": {},
     "output_type": "execute_result"
    }
   ],
   "source": [
    "y_train_one_hot[0:10]"
   ]
  },
  {
   "cell_type": "markdown",
   "metadata": {},
   "source": [
    "さらに、訓練データ6万枚の内2割を検証データとして分割してください。訓練データが48000枚、検証データが12000枚となります。"
   ]
  },
  {
   "cell_type": "code",
   "execution_count": 12,
   "metadata": {},
   "outputs": [
    {
     "name": "stdout",
     "output_type": "stream",
     "text": [
      "(48000, 784)\n",
      "(12000, 784)\n"
     ]
    }
   ],
   "source": [
    "from sklearn.model_selection import train_test_split\n",
    "X_train, X_val, y_train, y_val = train_test_split(X_train, y_train, test_size=0.2)\n",
    "print(X_train.shape) # (48000, 784)\n",
    "print(X_val.shape) # (12000, 784)"
   ]
  },
  {
   "cell_type": "code",
   "execution_count": 13,
   "metadata": {},
   "outputs": [
    {
     "name": "stdout",
     "output_type": "stream",
     "text": [
      "(48000, 10)\n",
      "(12000, 10)\n"
     ]
    }
   ],
   "source": [
    "y_train_one_hot = enc.fit_transform(y_train[:, np.newaxis])\n",
    "y_val_one_hot = enc.fit_transform(y_val[:, np.newaxis])\n",
    "print(y_train_one_hot.shape)\n",
    "print(y_val_one_hot.shape)"
   ]
  },
  {
   "cell_type": "markdown",
   "metadata": {},
   "source": [
    "# ミニバッチ処理\n",
    "これまでの機械学習スクラッチでは、全てのサンプルを一度に計算していました。しかし、ニューラルネットワークではデータを分割して入力する 確率的勾配降下法 が一般的です。分割した際のひとかたまりを ミニバッチ 、そのサンプル数を バッチサイズ と呼びます。\n",
    "\n",
    "\n",
    "今回はバッチサイズを20とします。今回使う訓練データは48000枚ですから、48000÷20で2400回の更新を繰り返すことになります。ニューラルネットワークではこれを2400回 イテレーション（iteration） すると呼びます。訓練データを一度全て見ると1回の エポック（epoch） が終わったことになります。このエポックを複数回繰り返し、学習が完了します。\n",
    "\n",
    "\n",
    "これを実現するための簡素なイテレータを用意しました。for文で呼び出すと、ミニバッチを取得できます"
   ]
  },
  {
   "cell_type": "code",
   "execution_count": 14,
   "metadata": {},
   "outputs": [],
   "source": [
    "class GetMiniBatch:\n",
    "    \"\"\"\n",
    "    ミニバッチを取得するイテレータ\n",
    "\n",
    "    Parameters\n",
    "    ----------\n",
    "    X : 次の形のndarray, shape (n_samples, n_features)\n",
    "      訓練データ\n",
    "    y : 次の形のndarray, shape (n_samples, 1)\n",
    "      正解値\n",
    "    batch_size : int\n",
    "      バッチサイズ\n",
    "    seed : int\n",
    "      NumPyの乱数のシード\n",
    "    \"\"\"\n",
    "    def __init__(self, X, y, batch_size = 20, seed=0):\n",
    "        self.batch_size = batch_size\n",
    "        np.random.seed(seed)\n",
    "        shuffle_index = np.random.permutation(np.arange(X.shape[0]))\n",
    "        self._X = X[shuffle_index]\n",
    "        self._y = y[shuffle_index]\n",
    "        self._stop = np.ceil(X.shape[0]/self.batch_size).astype(np.int)\n",
    "    def __len__(self):\n",
    "        return self._stop\n",
    "    def __getitem__(self,item):\n",
    "        p0 = item*self.batch_size\n",
    "        p1 = item*self.batch_size + self.batch_size\n",
    "        return self._X[p0:p1], self._y[p0:p1]        \n",
    "    def __iter__(self):\n",
    "        self._counter = 0\n",
    "        return self\n",
    "    def __next__(self):\n",
    "        if self._counter >= self._stop:\n",
    "            raise StopIteration()\n",
    "        p0 = self._counter*self.batch_size\n",
    "        p1 = self._counter*self.batch_size + self.batch_size\n",
    "        self._counter += 1\n",
    "        return self._X[p0:p1], self._y[p0:p1]"
   ]
  },
  {
   "cell_type": "markdown",
   "metadata": {},
   "source": [
    "このクラスをインスタンス化し、for文を使うことでミニバッチが取り出せます。"
   ]
  },
  {
   "cell_type": "code",
   "execution_count": 15,
   "metadata": {},
   "outputs": [
    {
     "name": "stdout",
     "output_type": "stream",
     "text": [
      "2400\n",
      "(array([[0., 0., 0., ..., 0., 0., 0.],\n",
      "       [0., 0., 0., ..., 0., 0., 0.],\n",
      "       [0., 0., 0., ..., 0., 0., 0.],\n",
      "       ...,\n",
      "       [0., 0., 0., ..., 0., 0., 0.],\n",
      "       [0., 0., 0., ..., 0., 0., 0.],\n",
      "       [0., 0., 0., ..., 0., 0., 0.]]), array([9, 6, 3, 3, 0, 7, 1, 2, 3, 9, 0, 9, 3, 1, 7, 8, 7, 2, 3, 5],\n",
      "      dtype=uint8))\n"
     ]
    }
   ],
   "source": [
    "get_mini_batch = GetMiniBatch(X_train, y_train, batch_size=20)\n",
    "print(len(get_mini_batch)) # 2400\n",
    "print(get_mini_batch[5]) # 5番目のミニバッチが取得できる\n",
    "for mini_X_train, mini_y_train in get_mini_batch:\n",
    "    # このfor文内でミニバッチが使える\n",
    "    pass"
   ]
  },
  {
   "cell_type": "markdown",
   "metadata": {},
   "source": [
    "__getitem__や__next__は__init__と同じ特殊メソッドの一種です。"
   ]
  },
  {
   "cell_type": "code",
   "execution_count": null,
   "metadata": {},
   "outputs": [],
   "source": []
  },
  {
   "cell_type": "markdown",
   "metadata": {},
   "source": [
    "# 学習\n",
    "ニューラルネットワークの学習はフォワードプロパゲーションとバックプロパゲションの繰り返しになります。"
   ]
  },
  {
   "cell_type": "code",
   "execution_count": null,
   "metadata": {},
   "outputs": [],
   "source": []
  },
  {
   "cell_type": "markdown",
   "metadata": {},
   "source": [
    "# 【問題1】重みの初期値を決めるコードの作成\n",
    "ニューラルネットワークの各層の重みの初期値を決めるコードを作成してください。\n",
    "\n",
    "\n",
    "重みの初期値は様々な方法が提案されていますが、今回はガウス分布による単純な初期化を行います。バイアスに関しても同様です。\n",
    "\n",
    "\n",
    "以下のコードを参考にしてください。標準偏差の値sigmaはハイパーパラメータです。発展的な重みの初期化方法については次のSprintで扱います。"
   ]
  },
  {
   "cell_type": "code",
   "execution_count": 16,
   "metadata": {},
   "outputs": [
    {
     "data": {
      "text/plain": [
       "array([[ 0.00792546, -0.00145092, -0.01287133, ..., -0.00245453,\n",
       "        -0.03460641,  0.00758269],\n",
       "       [-0.00137276,  0.00278289,  0.00932826, ..., -0.01495581,\n",
       "         0.00968798,  0.0101332 ],\n",
       "       [-0.00746748,  0.00905245,  0.0006038 , ...,  0.01249155,\n",
       "        -0.00529285,  0.00730488],\n",
       "       ...,\n",
       "       [-0.00811823,  0.01002275, -0.00182602, ...,  0.00378093,\n",
       "         0.02126478, -0.01424466],\n",
       "       [-0.00437306, -0.00940798, -0.00387237, ..., -0.01876301,\n",
       "         0.00512501, -0.00062903],\n",
       "       [ 0.00909606,  0.00415442, -0.00521814, ...,  0.01918723,\n",
       "        -0.00667915,  0.00316757]])"
      ]
     },
     "execution_count": 16,
     "metadata": {},
     "output_type": "execute_result"
    }
   ],
   "source": [
    "n_features = 784\n",
    "n_nodes1 = 400\n",
    "sigma = 0.01 # ガウス分布の標準偏差\n",
    "W1 = sigma * np.random.randn(n_features, n_nodes1)\n",
    "# W1: (784, 400)\n",
    "W1"
   ]
  },
  {
   "cell_type": "code",
   "execution_count": 17,
   "metadata": {},
   "outputs": [
    {
     "data": {
      "text/plain": [
       "<function matplotlib.pyplot.show(*args, **kw)>"
      ]
     },
     "execution_count": 17,
     "metadata": {},
     "output_type": "execute_result"
    },
    {
     "data": {
      "image/png": "[encoded data removed]",
      "text/plain": [
       "<Figure size 432x288 with 1 Axes>"
      ]
     },
     "metadata": {
      "needs_background": "light"
     },
     "output_type": "display_data"
    }
   ],
   "source": [
    "plt.hist(W1)\n",
    "plt.show"
   ]
  },
  {
   "cell_type": "code",
   "execution_count": null,
   "metadata": {},
   "outputs": [],
   "source": []
  },
  {
   "cell_type": "markdown",
   "metadata": {},
   "source": [
    "# 【問題2】フォワードプロパゲーションの実装\n",
    "三層のニューラルネットワークの フォワードプロパゲーション を作成してください。以下の説明ではノード数は1層目は400、2層目は200としますが、変更しても構いません。\n",
    "\n",
    "\n",
    "各層の数式を以下に示します。今回はそれぞれの記号が表す配列が、実装上どのようなndarrayのshapeになるかを併記してあります。\n",
    "\n"
   ]
  },
  {
   "cell_type": "markdown",
   "metadata": {},
   "source": [
    "batch_size = 20 # バッチサイズ<br>\n",
    "n_features = 784 # 特徴量の数<br>\n",
    "n_nodes1 = 400 # 1層目のノード数<br>\n",
    "n_nodes2 = 200 # 2層目のノード数<br>\n",
    "n_output = 10 # 出力のクラス数（3層目のノード数）<br>"
   ]
  },
  {
   "cell_type": "markdown",
   "metadata": {},
   "source": [
    "#### 「1層目」\n",
    "\n",
    "\n",
    "$A_1 = X \\cdot W_1 + B_1$\n",
    "\n",
    "$X$ : 特徴量ベクトル (batch_size, n_features)\n",
    "\n",
    "\n",
    "$W_1$ : 1層目の重み (n_features, n_nodes1)\n",
    "\n",
    "\n",
    "$B_1$ : 1層目のバイアス (n_nodes1,)\n",
    "\n",
    "\n",
    "$A_1$ : 出力 (batch_size, n_nodes1)\n",
    "\n",
    "\n",
    "#### 「1層目の活性化関数」\n",
    "\n",
    "\n",
    "$Z_1 = f(A_1)$\n",
    "\n",
    "$f()$ : 活性化関数\n",
    "\n",
    "\n",
    "$Z_1$ 出力 (batch_size, n_nodes1)\n",
    "\n",
    "\n",
    "#### 「2層目」\n",
    "\n",
    "\n",
    "$A_2 = Z_1 \\cdot W_2 + B_2$\n",
    "\n",
    "$W_2$ : 2層目の重み (n_nodes1, n_nodes2)\n",
    "\n",
    "\n",
    "$B_2$ : 2層目のバイアス (n_nodes2,)\n",
    "\n",
    "\n",
    "$A_2$ : 出力 (batch_size, n_nodes2)\n",
    "\n",
    "\n",
    "#### 「2層目の活性化関数」\n",
    "\n",
    "\n",
    "$Z_2 = f(A_2)$\n",
    "\n",
    "$f()$ : 活性化関数\n",
    "\n",
    "\n",
    "$Z_2$ 出力 (batch_size, n_nodes2)\n",
    "\n",
    "\n",
    "#### 「3層目（出力層）」\n",
    "\n",
    "\n",
    "$A_3 = Z_2 \\cdot W_3 + B_3$\n",
    "\n",
    "$W_3$ : 3層目の重み (n_nodes2, n_output)\n",
    "\n",
    "\n",
    "$B_3$ : 3層目のバイアス (n_output,)\n",
    "\n",
    "\n",
    "$A_3$ : 出力 (batch_size, n_output)\n",
    "\n",
    "\n",
    "#### 「3層目の活性化関数」\n",
    "\n",
    "\n",
    "$Z_3 = softmax(A_3)$\n",
    "\n",
    "$softmax()$ : ソフトマックス関数\n",
    "\n",
    "\n",
    "$Z_3$ 出力 (batch_size, n_output)\n",
    "\n",
    "\n",
    "$Z_3$ は各ラベル（0〜9）に対する確率の配列である。"
   ]
  },
  {
   "cell_type": "markdown",
   "metadata": {},
   "source": [
    "# 活性化関数（フォワードプロバゲーション）\n",
    "活性化関数を作成し、フォワードプロパゲーションの中で使用します。切り替えられるように実装することを推奨しますが、片方でも構いません。\n",
    "\n",
    "\n",
    "#### 「シグモイド関数」\n",
    "\n",
    "\n",
    "$f(Z) = sigmoid(A) = \\frac{1}{1+exp(-A)}$\n",
    "\n",
    "指数関数 $exp(-A)$ の計算はnp.expを使用してください。\n",
    "\n",
    "\n",
    "numpy.exp — NumPy v1.15 Manual\n",
    "\n",
    "\n",
    "\n",
    "#### 「ハイパボリックタンジェント関数」\n",
    "\n",
    "\n",
    "次の数式で表されますが、np.tanhひとつで実現できます。\n",
    "\n",
    "\n",
    "$f(Z) = tanh(A) = \\frac{exp(A) - exp(-A)}{exp(A) + exp(-A)}$\n",
    "\n",
    "numpy.tanh — NumPy v1.15 Manual\n",
    "\n",
    "\n",
    "＊現在ではこれらの代わりにReLUと呼ばれる活性化関数が一般的です。次のSprintで扱います。"
   ]
  },
  {
   "cell_type": "markdown",
   "metadata": {},
   "source": [
    "# ソフトマックス関数\n",
    "ソフトマックス関数を作成し、フォワードプロパゲーションの中で使用します。これも活性化関数の一種ですが、多クラス分類の出力層で使われる特性上、区別して扱われることが多いです。\n",
    "\n",
    "\n",
    "次の数式です。\n",
    "\n",
    "\n",
    "$Z_{3\\_k} = \\frac{exp(A_{3\\_k})}{\\sum_{i=1}^{n_c}exp(A_{3\\_i})}$\n",
    "\n",
    "$Z_{3_k}$ : $k$ 番目のクラスの確率ベクトル (batch_size,)\n",
    "\n",
    "\n",
    "$A_{3_k}$ : $k$ 番目のクラスにあたる前の層からのベクトル (batch_size,)\n",
    "\n",
    "\n",
    "$n_c$ : クラスの数、n_output。今回のMNISTでは10。\n",
    "\n",
    "\n",
    "分母は全てのクラスに相当する値を指数関数に通した上で足し合わせたものです。その中で、分子に $k$ 番目のクラスを持ってくることで、 $k$ 番目のクラスである確率が求まります。\n",
    "\n",
    "\n",
    "これを10クラス分計算し、合わせたものが $Z_3$ です。"
   ]
  },
  {
   "cell_type": "code",
   "execution_count": null,
   "metadata": {},
   "outputs": [],
   "source": []
  },
  {
   "cell_type": "markdown",
   "metadata": {},
   "source": [
    "# 【問題3】交差エントロピー誤差の実装\n",
    "目的関数（損失関数）を作成します。\n",
    "\n",
    "\n",
    "多クラス分類の目的関数である交差エントロピー誤差 $L$ は次の数式です。\n",
    "\n",
    "\n",
    "$L = - \\frac{1}{n_b}\\sum_{j}^{n_b}\\sum_{k}^{n_c}y_{jk} log(z_{3\\_jk})$\n",
    "\n",
    "$y_{ij}$ : $j$ 番目のサンプルの $k$ 番目のクラスの正解ラベル（one-hot表現で0か1のスカラー）\n",
    "\n",
    "\n",
    "$z_{3_ij}$ : $j$ 番目のサンプルの $k$ 番目のクラスの確率（スカラー）\n",
    "\n",
    "\n",
    "$n_{b}$ : バッチサイズ、batch_size\n",
    "\n",
    "\n",
    "$n_{c}$ : クラスの数、n_output（今回のMNISTでは10）\n",
    "\n",
    "\n",
    "サンプル1つあたりの誤差が求まります。"
   ]
  },
  {
   "cell_type": "code",
   "execution_count": null,
   "metadata": {},
   "outputs": [],
   "source": []
  },
  {
   "cell_type": "markdown",
   "metadata": {},
   "source": [
    "# 【問題4】バックプロパゲーションの実装\n",
    "三層のニューラルネットワークのバックプロパゲーションを作成してください。確率的勾配降下法を行う部分です。\n",
    "\n",
    "数式を以下に示します。\n",
    "\n",
    "まず、i層目の重みとバイアスの更新式です。 $W_i$ と $B_i$ に対し、更新後の $W_i^{\\prime}$ と $B_i^{\\prime}$ は次の数式で求められます。\n",
    "\n",
    "\n",
    "$W_i^{\\prime} = W_i - \\alpha \\frac{\\partial L}{\\partial W_i} \\\\\n",
    "B_i^{\\prime} = B_i - \\alpha \\frac{\\partial L}{\\partial B_i}$\n",
    "\n",
    "\n",
    "$\\alpha$ : 学習率（層ごとに変えることも可能だが、基本的には全て同じとする）\n",
    "\n",
    "\n",
    "$\\frac{\\partial L}{\\partial W_i}$ : $W_i$ に関する損失 $L$ の勾配\n",
    "\n",
    "\n",
    "$\\frac{\\partial L}{\\partial B_i}$ : $B_i$ に関する損失 $L$ の勾配\n",
    "\n",
    "\n",
    "＊この勾配はミニバッチのサンプル数分の合計または平均を考えます。ここでは合計を計算します。\n",
    "\n",
    "この更新方法はSprint3線形回帰やsprint4ロジスティック回帰における最急降下法と同様です。より効果的な更新方法が知られており、それは次のSprintで扱います。\n",
    "\n",
    "\n",
    "勾配 $\\frac{\\partial L}{\\partial W_i}$ や $\\frac{\\partial L}{\\partial B_i}$ を求めるために、バックプロパゲーションを行います。以下の数式です。ハイパボリックタンジェント関数を使用した例を載せました。シグモイド関数の場合の数式はその後ろにあります。\n",
    "\n",
    "\n",
    "### 「3層目」\n",
    "\n",
    "\n",
    "$\\frac{\\partial L}{\\partial A_3} = Z_{3} - Y\\\\\n",
    "\\frac{\\partial L}{\\partial B_3} = \\sum_{j}^{n_b}\\frac{\\partial L}{\\partial A_{3\\_j}}\\\\\n",
    "\\frac{\\partial L}{\\partial W_3} = Z_{2}^{T}\\cdot \\frac{\\partial L}{\\partial A_3}\\\\\n",
    "\\frac{\\partial L}{\\partial Z_2} = \\frac{\\partial L}{\\partial A_3} \\cdot W_3^T $\n",
    "\n",
    "$\\frac{\\partial L}{\\partial A_3}$ : $A_3$ に関する損失 $L$ の勾配 (batch_size, n_output)\n",
    "\n",
    "\n",
    "$\\frac{\\partial L}{\\partial A_{3_j}}$ : j番目のサンプルの$A_3$ に関する損失 $L$ の勾配 (n_nodes2,)\n",
    "\n",
    "\n",
    "$\\frac{\\partial L}{\\partial B_3}$ : $B_3$ に関する損失 $L$ の勾配 (n_output,)\n",
    "\n",
    "\n",
    "$\\frac{\\partial L}{\\partial W_3}$ : $W_3$ に関する損失 $L$ の勾配 (n_nodes2, n_output)\n",
    "\n",
    "\n",
    "$\\frac{\\partial L}{\\partial Z_2}$ : $Z_2$ に関する損失 $L$ の勾配 (batch_size, n_nodes2)\n",
    "\n",
    "\n",
    "$Z_{3}$ : ソフトマックス関数の出力 (batch_size, n_nodes2)\n",
    "\n",
    "\n",
    "$Y$ : 正解ラベル (batch_size, n_output)\n",
    "\n",
    "\n",
    "$Z_{2}$ : 2層目の活性化関数の出力 (batch_size, n_nodes2)\n",
    "\n",
    "\n",
    "$W_3$ : 3層目の重み (n_nodes2, n_output)\n",
    "\n",
    "### 「2層目」\n",
    "\n",
    "\n",
    "$\\frac{\\partial L}{\\partial A_2} = \\frac{\\partial L}{\\partial Z_2} \\odot \\{1-tanh^2(A_{2})\\}\\\\\n",
    "\\frac{\\partial L}{\\partial B_2} = \\sum_{j}^{n_b}\\frac{\\partial L}{\\partial A_{2\\_j}}\\\\\n",
    "\\frac{\\partial L}{\\partial W_2} = Z_{1}^T \\cdot \\frac{\\partial L}{\\partial A_2}\\\\\n",
    "\\frac{\\partial L}{\\partial Z_1} = \\frac{\\partial L}{\\partial A_2} \\cdot W_2^T $\n",
    "\n",
    "$\\frac{\\partial L}{\\partial A_2}$ : $A_2$ に関する損失 $L$ の勾配 (batch_size, n_nodes2)\n",
    "\n",
    "\n",
    "$\\frac{\\partial L}{\\partial A_{2_j}}$ : j番目のサンプルの$A_2$ に関する損失 $L$ の勾配 (n_nodes2,)\n",
    "\n",
    "\n",
    "$\\frac{\\partial L}{\\partial B_2}$ : $B_2$ に関する損失 $L$ の勾配 (n_output,)\n",
    "\n",
    "\n",
    "$\\frac{\\partial L}{\\partial W_2}$ : $W_2$ に関する損失 $L$ の勾配 (n_nodes1, n_nodes2)\n",
    "\n",
    "\n",
    "$\\frac{\\partial L}{\\partial Z_2}$ : $Z_2$ に関する損失 $L$ の勾配 (batch_size, n_nodes2)\n",
    "\n",
    "\n",
    "$A_2$ : 2層目の出力 (batch_size, n_nodes2)\n",
    "\n",
    "\n",
    "$Z_{1}$ : 1層目の活性化関数の出力 (batch_size, n_nodes1)\n",
    "\n",
    "\n",
    "$W_2$ : 2層目の重み (n_nodes1, n_nodes2)\n",
    "\n",
    "\n",
    "### 「1層目」\n",
    "\n",
    "\n",
    "$\\frac{\\partial L}{\\partial A_1} = \\frac{\\partial L}{\\partial Z_1} \\odot \\{1-tanh^2(A_{1})\\}\\\\\n",
    "\\frac{\\partial L}{\\partial B_1} = \\sum_{j}^{n_b}\\frac{\\partial L}{\\partial A_{1\\_j}}\\\\\n",
    "\\frac{\\partial L}{\\partial W_1} = X^T \\cdot \\frac{\\partial L}{\\partial A_1}\\\\ $\n",
    "\n",
    "$\\frac{\\partial L}{\\partial A_1}$ : $A_1$ に関する損失 $L$ の勾配 (batch_size, n_nodes1)\n",
    "\n",
    "\n",
    "$\\frac{\\partial L}{\\partial A_{1_j}}$ : j番目のサンプルの$A_1$ に関する損失 $L$ の勾配 (n_nodes1,)\n",
    "\n",
    "\n",
    "$\\frac{\\partial L}{\\partial B_1}$ : $B_1$ に関する損失 $L$ の勾配 (n_output,)\n",
    "\n",
    "\n",
    "$\\frac{\\partial L}{\\partial W_1}$ : $W_1$ に関する損失 $L$ の勾配 (n_features, n_nodes1)\n",
    "\n",
    "\n",
    "$\\frac{\\partial L}{\\partial Z_1}$ : $Z_1$ に関する損失 $L$ の勾配 (batch_size, n_nodes1)\n",
    "\n",
    "\n",
    "$A_1$ : 1層目の出力 (batch_size, n_nodes1)\n",
    "\n",
    "\n",
    "$X$ : 特徴量ベクトル (batch_size, n_features)\n",
    "\n",
    "\n",
    "$W_1$ : 1層目の重み (n_features, n_nodes1)\n",
    "\n",
    "\n",
    "《補足》\n",
    "\n",
    "\n",
    "活性化関数にシグモイド関数を使用した場合は、次のようになります。\n",
    "\n",
    "\n",
    "$\\frac{\\partial L}{\\partial A_2} = \\frac{\\partial L}{\\partial Z_2} \\odot  \\{1-sigmoid(A_{2})\\}sigmoid(A_{2})\n",
    "\\\\\n",
    "\\frac{\\partial L}{\\partial A_1} = \\frac{\\partial L}{\\partial Z_1} \\odot  \\{1-sigmoid(A_{1})\\}sigmoid(A_{1})$\n"
   ]
  },
  {
   "cell_type": "code",
   "execution_count": null,
   "metadata": {},
   "outputs": [],
   "source": []
  },
  {
   "cell_type": "markdown",
   "metadata": {},
   "source": [
    "# 【問題5】推定\n",
    "推定を行うメソッドを作成してください。\n",
    "\n",
    "フォワードプロパゲーションによって出力された10個の確率の中で、最も高いものはどれかを判定します。"
   ]
  },
  {
   "cell_type": "code",
   "execution_count": null,
   "metadata": {},
   "outputs": [],
   "source": []
  },
  {
   "cell_type": "code",
   "execution_count": 18,
   "metadata": {},
   "outputs": [],
   "source": [
    "class ScratchSimpleNeuralNetrowkClassifier():\n",
    "    \"\"\"\n",
    "    シンプルな三層ニューラルネットワーク分類器\n",
    "\n",
    "    Parameters\n",
    "    ----------\n",
    "\n",
    "    Attributes\n",
    "    ----------\n",
    "    \"\"\"\n",
    "    def __init__(self, sigma=0.01, batch_size=20, activation_func=\"tanh\", \n",
    "                           n_nodes1=400, n_nodes2=200, n_layer=3, lr=10**-2, n_epoch=15, verbose = False):\n",
    "        self.sigma = sigma #ガウス分布の標準偏差\n",
    "        self.batch_size = batch_size #バッチサイズ\n",
    "        self.activation_func = activation_func #活性化関数の種類\n",
    "        self.n_nodes1 = n_nodes1 # 1層目のノード数\n",
    "        self.n_nodes2 = n_nodes2 # 2層目のノード数\n",
    "        self.n_layer = n_layer #層の数\n",
    "        self.lr = lr #学習率\n",
    "        self.n_epoch =n_epoch #エポック数\n",
    "        self.verbose = verbose\n",
    "        pass\n",
    "    \n",
    "    def fit(self, X_train, y_train, X_val=None, y_val=None):\n",
    "        \"\"\"\n",
    "        ニューラルネットワーク分類器を学習する。\n",
    "\n",
    "        Parameters\n",
    "        ----------\n",
    "        X : 次の形のndarray, shape (n_samples, n_features)\n",
    "            訓練データの特徴量\n",
    "        y : 次の形のndarray, shape (n_samples, )\n",
    "            訓練データの正解値\n",
    "        X_val : 次の形のndarray, shape (n_samples, n_features)\n",
    "            検証データの特徴量\n",
    "        y_val : 次の形のndarray, shape (n_samples, )\n",
    "            検証データの正解値\n",
    "        \"\"\"\n",
    "        \n",
    "        self.n_output = len((y_train[0])) #クラスの数をインスタンス変数化      \n",
    "        get_mini_batch = GetMiniBatch(X_train, y_train, self.batch_size) #GetMiniBatchクラスでミニバッチを作成\n",
    "        get_mini_batch_val = GetMiniBatch(X_val, y_val, self.batch_size) #GetMiniBatchクラスでミニバッチを作成\n",
    "        \n",
    "        loss_list_epoch = [] # 損失を記録する空のリスト\n",
    "        self.loss_list = loss_list_epoch #損失を記録したリストをインスタンス変数化\n",
    "        loss_list_epoch_val = [] # 損失を記録する空のリスト(検証データ用)\n",
    "        self.loss_list_val = loss_list_epoch_val #損失を記録したリストをインスタンス変数化(検証データ用)\n",
    "        \n",
    "        n_iter = 0\n",
    "        \n",
    "        #検証データの処理\n",
    "        for i in range(self.n_epoch):    \n",
    "            loss_list_val = []\n",
    "            for mini_X_train, mini_y_train in get_mini_batch_val:\n",
    "                # このfor文内でミニバッチが使える\n",
    "                n_iter += 1\n",
    "                self.n_iter = n_iter\n",
    "                \n",
    "                W1, b1, A1, Z1, W2, b2, A2, Z2, W3, b3, A3, Z3 = self.forward_propa(mini_X_train)\n",
    "                W1, b1, W2, b2, W3, b3 = self.back_propa(mini_X_train, mini_y_train, W1, b1, A1, Z1, W2, b2, A2, Z2, W3, b3, A3, Z3)\n",
    "                self.W1 = W1\n",
    "                self.b1 = b1\n",
    "                self.W2 = W2\n",
    "                self.b2 = b2\n",
    "                self.W3 = W3\n",
    "                self.b3 = b3\n",
    "\n",
    "                loss = self.loss(Z3, mini_y_train)\n",
    "                loss_list_val.append(loss)\n",
    "                \n",
    "            loss_list_epoch_val.append(sum(loss_list_val))\n",
    "        \n",
    "        #学習データの処理\n",
    "        for i in range(self.n_epoch):\n",
    "            loss_list = []\n",
    "            for mini_X_train, mini_y_train in get_mini_batch:\n",
    "                # このfor文内でミニバッチが使える\n",
    "                n_iter += 1\n",
    "                self.n_iter = n_iter\n",
    "                \n",
    "                W1, b1, A1, Z1, W2, b2, A2, Z2, W3, b3, A3, Z3 = self.forward_propa(mini_X_train)\n",
    "                W1, b1, W2, b2, W3, b3 = self.back_propa(mini_X_train, mini_y_train, W1, b1, A1, Z1, W2, b2, A2, Z2, W3, b3, A3, Z3)\n",
    "                self.W1 = W1\n",
    "                self.b1 = b1\n",
    "                self.W2 = W2\n",
    "                self.b2 = b2\n",
    "                self.W3 = W3\n",
    "                self.b3 = b3\n",
    "\n",
    "                loss = self.loss(Z3, mini_y_train)\n",
    "                loss_list.append(loss)\n",
    "                \n",
    "            loss_list_epoch.append(sum(loss_list))    \n",
    "    \n",
    "        if self.verbose:\n",
    "            #verboseをTrueにした際は学習過程などを出力する\n",
    "            print(loss_list)\n",
    "            print(loss_list_val)\n",
    "    \n",
    "    #【問題2】フォワードプロパゲーションの実装\n",
    "    def forward_propa(self, mini_X_train):\n",
    "        \n",
    "        #1層目の処理\n",
    "        if self.n_iter == 1:\n",
    "            W1, b1 = self.init_Wb(mini_X_train, layer=1) #init_Wb関数で層の重み・バイアスを算出\n",
    "        else:\n",
    "            W1 = self.W1\n",
    "            b1 = self.b1\n",
    "        \n",
    "        A1 = (mini_X_train @ W1) + b1 #出力サイズ(batch_size, n_nodes or n_output)\n",
    "        Z1 = self.activation(A1) #活性化関数の出力(batch_size, n_nodes)\n",
    "        \n",
    "        #2層目の処理\n",
    "        if self.n_iter == 1:\n",
    "            W2, b2 = self.init_Wb(Z1, layer=2) #init_Wb関数で層の重み・バイアスを算出\n",
    "        else:\n",
    "            W2 = self.W2\n",
    "            b2 = self.b2\n",
    "            \n",
    "        A2 = (Z1 @ W2) + b2 #出力サイズ(batch_size, n_nodes or n_output)\n",
    "        Z2 = self.activation(A2) #活性化関数の出力(batch_size, n_nodes)\n",
    "        \n",
    "        #3層目の処理\n",
    "        if self.n_iter == 1:\n",
    "            W3, b3 = self.init_Wb(Z2, layer=3) #init_Wb関数で層の重み・バイアスを算出\n",
    "        else:\n",
    "            W3 = self.W3\n",
    "            b3 = self.b3\n",
    "\n",
    "        A3 = (Z2 @ W3) + b3 #出力サイズ(batch_size, n_nodes or n_output)\n",
    "        Z3 = self.softmax(A3) #ソフトマックス関数の出力(batch_size, n_output)\n",
    "        \n",
    "        return W1, b1, A1, Z1, W2, b2, A2, Z2, W3, b3, A3, Z3\n",
    "        \n",
    "    #【問題1】重みの初期値を決めるコードの作成\n",
    "    def init_Wb(self, X, layer=1):\n",
    "        if layer == 1:\n",
    "            n_nodes = self.n_nodes1\n",
    "        elif layer == 2:\n",
    "            n_nodes = self.n_nodes2\n",
    "        elif layer == 3:\n",
    "            n_nodes = self.n_output\n",
    "        \n",
    "        np.random.seed(123)\n",
    "        W = self.sigma * np.random.randn(X.shape[1], n_nodes) #重みの初期値\n",
    "        b = self.sigma * np.random.randn(n_nodes) #バイアスの初期値\n",
    "        \n",
    "        return W, b\n",
    "    \n",
    "    #活性化関数\n",
    "    def activation(self, A):\n",
    "   \n",
    "        if self.activation_func == \"tanh\":\n",
    "            activation = np.tanh(A) #ハイパボリックタンジェント関数   \n",
    "            \n",
    "        elif self.activation_func == \"sigmoid\":\n",
    "            activation = 1 / (1 + np.exp(-A)) #シグモイド関数\n",
    "            \n",
    "        return activation\n",
    "     \n",
    "    #ソフトマックス関数\n",
    "    def softmax(self, A):\n",
    "        A = A - np.max(A, axis=1, keepdims=True) #オーバーフロー対策\n",
    "        Z = np.exp(A) / np.sum(np.exp(A), axis=1, keepdims=True)\n",
    "        return Z\n",
    "    \n",
    "    #【問題3】交差エントロピー誤差の実装\n",
    "    def loss(self, Z, mini_y_train):\n",
    "        loss = -1 * np.sum(mini_y_train * np.log(Z + 1e-7)) / self.batch_size\n",
    "        return loss\n",
    "    \n",
    "    #【問題4】バックプロパゲーションの実装\n",
    "    def back_propa(self, mini_X_train, mini_y_train, W1, b1, A1, Z1, W2, b2, A2, Z2, W3, b3, A3, Z3):\n",
    "\n",
    "        #３層目の処理\n",
    "        A3_loss_grad = Z3 -  mini_y_train #A3に関する損失の勾配\n",
    "        b3_loss_grad = np.sum(A3_loss_grad, axis=0) #b3バイアスに関する損失の勾配\n",
    "        W3_loss_grad = Z2.T @ A3_loss_grad #W3重みに関する損失の勾配\n",
    "        Z2_loss_grad = A3_loss_grad @ W3.T #Z2に関する損失の勾配\n",
    "\n",
    "        #バイアスの更新  \n",
    "        b3 = b3 - (self.lr * b3_loss_grad)\n",
    "        #重みの更新\n",
    "        W3 = W3 - (self.lr * W3_loss_grad) \n",
    "\n",
    " \n",
    "        #２層目の処理\n",
    "        if self.activation_func == \"tanh\":\n",
    "            A2_loss_grad = Z2_loss_grad * (1 - np.tanh(A2)**2) #A2に関する損失の勾配\n",
    "        elif self.activation_func == \"sigmoid\":\n",
    "            A2_loss_grad = Z2_loss_grad * ((1 - (1 / (1 + np.exp(-A2)))) * (1 / (1 + np.exp(-A2))))\n",
    "            \n",
    "        b2_loss_grad = np.sum(A2_loss_grad, axis=0) #b2バイアスに関する損失の勾配\n",
    "        W2_loss_grad = Z1.T @ A2_loss_grad #W2重みに関する損失の勾配\n",
    "        Z1_loss_grad = A2_loss_grad @ W2.T #Z1に関する損失の勾配\n",
    "        \n",
    "        #バイアスの更新  \n",
    "        b2 = b2 - (self.lr * b2_loss_grad)\n",
    "        #重みの更新\n",
    "        W2 = W2 - (self.lr * W2_loss_grad)\n",
    "        \n",
    "            \n",
    "        #１層目の処理\n",
    "        if self.activation_func == \"tanh\":\n",
    "            A1_loss_grad = Z1_loss_grad * (1 - np.tanh(A1)**2) #A2に関する損失の勾配\n",
    "        elif self.activation_func == \"sigmoid\":\n",
    "            A1_loss_grad = Z1_loss_grad * ((1 - (1 / (1 + np.exp(-A1)))) * (1 / (1 + np.exp(-A1))))\n",
    "            \n",
    "        b1_loss_grad = np.sum(A1_loss_grad, axis=0) #b1バイアスに関する損失の勾配\n",
    "        W1_loss_grad = mini_X_train.T @ A1_loss_grad #W1重みに関する損失の勾配 \n",
    "        \n",
    "        #バイアスの更新  \n",
    "        b1 = b1 - (self.lr * b1_loss_grad)\n",
    "        #重みの更新\n",
    "        W1 = W1 - (self.lr * W1_loss_grad) \n",
    "\n",
    "        return  W1, b1, W2, b2, W3, b3\n",
    "    \n",
    "    #【問題5】推定\n",
    "    def predict(self, X):\n",
    "        \"\"\"\n",
    "        ニューラルネットワーク分類器を使い推定する。\n",
    "\n",
    "        Parameters\n",
    "        ----------\n",
    "        X : 次の形のndarray, shape (n_samples, n_features)\n",
    "            サンプル\n",
    "\n",
    "        Returns\n",
    "        -------\n",
    "            次の形のndarray, shape (n_samples, 1)\n",
    "            推定結果\n",
    "        \"\"\"\n",
    "        \n",
    "        W1, b1, A1, Z1, W2, b2, A2, Z2, W3, b3, A3, Z3 = self.forward_propa(X)\n",
    "        \n",
    "        pred = np.argmax(Z3, axis=1)\n",
    "\n",
    "        return pred"
   ]
  },
  {
   "cell_type": "code",
   "execution_count": null,
   "metadata": {},
   "outputs": [],
   "source": []
  },
  {
   "cell_type": "markdown",
   "metadata": {},
   "source": [
    "# 【問題6】学習と推定\n",
    "MNISTのデータを学習・推定し、Accuracyを計算してください。"
   ]
  },
  {
   "cell_type": "code",
   "execution_count": 19,
   "metadata": {},
   "outputs": [],
   "source": [
    "from sklearn.metrics import accuracy_score\n",
    "from sklearn.metrics import confusion_matrix\n",
    "from sklearn.metrics import classification_report"
   ]
  },
  {
   "cell_type": "code",
   "execution_count": 20,
   "metadata": {
    "scrolled": true
   },
   "outputs": [],
   "source": [
    "ssnnc = ScratchSimpleNeuralNetrowkClassifier()\n",
    "ssnnc.fit(X_train, y_train_one_hot, X_val, y_val_one_hot)"
   ]
  },
  {
   "cell_type": "code",
   "execution_count": 21,
   "metadata": {},
   "outputs": [
    {
     "name": "stdout",
     "output_type": "stream",
     "text": [
      "正解率：0.99\n",
      "混同行列：\n",
      "[[1168    0    1    1    0    0    5    0    0    3]\n",
      " [   0 1315    3    1    0    1    0    0    1    0]\n",
      " [   1    1 1208    4    2    0    1    3    2    0]\n",
      " [   0    0    2 1202    0    3    0    3    5    1]\n",
      " [   0    2    1    0 1124    0    1    1    2    8]\n",
      " [   0    0    1    6    1 1102    5    0    1    2]\n",
      " [   1    0    0    0    1    1 1174    0    1    0]\n",
      " [   0    2    4    2    3    1    0 1262    1    3]\n",
      " [   0    0    2    1    0    4    2    0 1122    2]\n",
      " [   2    0    0    1    6    1    0    9    5 1193]]\n",
      "classification_report：\n",
      "              precision    recall  f1-score   support\n",
      "\n",
      "           0       1.00      0.99      0.99      1178\n",
      "           1       1.00      1.00      1.00      1321\n",
      "           2       0.99      0.99      0.99      1222\n",
      "           3       0.99      0.99      0.99      1216\n",
      "           4       0.99      0.99      0.99      1139\n",
      "           5       0.99      0.99      0.99      1118\n",
      "           6       0.99      1.00      0.99      1178\n",
      "           7       0.99      0.99      0.99      1278\n",
      "           8       0.98      0.99      0.99      1133\n",
      "           9       0.98      0.98      0.98      1217\n",
      "\n",
      "    accuracy                           0.99     12000\n",
      "   macro avg       0.99      0.99      0.99     12000\n",
      "weighted avg       0.99      0.99      0.99     12000\n",
      "\n"
     ]
    }
   ],
   "source": [
    "#検証データ\n",
    "pred_val = ssnnc.predict(X_val)\n",
    "print(\"正解率：{:.2f}\".format(accuracy_score(y_val, pred_val)))\n",
    "print(\"混同行列：\")\n",
    "print(confusion_matrix(y_val, pred_val))\n",
    "print(\"classification_report：\") #評価をまとめて出力するやつ\n",
    "print(classification_report(y_val, pred_val))"
   ]
  },
  {
   "cell_type": "code",
   "execution_count": 22,
   "metadata": {
    "scrolled": true
   },
   "outputs": [
    {
     "name": "stdout",
     "output_type": "stream",
     "text": [
      "正解率：0.98\n",
      "混同行列：\n",
      "[[ 969    0    2    1    1    0    3    1    2    1]\n",
      " [   0 1123    2    2    0    1    2    1    4    0]\n",
      " [   5    0 1011    6    2    0    0    4    4    0]\n",
      " [   0    0    6  993    1    1    0    5    3    1]\n",
      " [   1    0    2    0  962    1    7    2    0    7]\n",
      " [   3    0    0   12    2  866    5    0    3    1]\n",
      " [   2    2    2    1    6    3  939    0    3    0]\n",
      " [   1    3    7    2    1    0    0 1007    1    6]\n",
      " [   3    1    2    3    4    3    3    4  948    3]\n",
      " [   2    2    0    2    6    4    2    9    2  980]]\n",
      "classification_report：\n",
      "              precision    recall  f1-score   support\n",
      "\n",
      "           0       0.98      0.99      0.99       980\n",
      "           1       0.99      0.99      0.99      1135\n",
      "           2       0.98      0.98      0.98      1032\n",
      "           3       0.97      0.98      0.98      1010\n",
      "           4       0.98      0.98      0.98       982\n",
      "           5       0.99      0.97      0.98       892\n",
      "           6       0.98      0.98      0.98       958\n",
      "           7       0.97      0.98      0.98      1028\n",
      "           8       0.98      0.97      0.98       974\n",
      "           9       0.98      0.97      0.98      1009\n",
      "\n",
      "    accuracy                           0.98     10000\n",
      "   macro avg       0.98      0.98      0.98     10000\n",
      "weighted avg       0.98      0.98      0.98     10000\n",
      "\n"
     ]
    }
   ],
   "source": [
    "#テストデータ\n",
    "pred = ssnnc.predict(X_test)\n",
    "print(\"正解率：{:.2f}\".format(accuracy_score(y_test, pred)))\n",
    "print(\"混同行列：\")\n",
    "print(confusion_matrix(y_test, pred))\n",
    "print(\"classification_report：\") #評価をまとめて出力するやつ\n",
    "print(classification_report(y_test, pred))"
   ]
  },
  {
   "cell_type": "code",
   "execution_count": null,
   "metadata": {},
   "outputs": [],
   "source": []
  },
  {
   "cell_type": "markdown",
   "metadata": {},
   "source": [
    "# 【問題7】学習曲線のプロット\n",
    "学習曲線をプロットしてください。\n",
    "\n",
    "ニューラルネットワークは過学習が発生しやすいため、学習曲線の確認が重要です。訓練データと検証データに対するエポックごとの損失（交差エントロピー誤差）を記録できるようにする必要があります。"
   ]
  },
  {
   "cell_type": "code",
   "execution_count": 28,
   "metadata": {},
   "outputs": [
    {
     "data": {
      "image/png": "[encoded data removed]",
      "text/plain": [
       "<Figure size 432x288 with 1 Axes>"
      ]
     },
     "metadata": {
      "needs_background": "light"
     },
     "output_type": "display_data"
    }
   ],
   "source": [
    "plt.title(\"model loss\")\n",
    "plt.xlabel(\"epoch\")\n",
    "plt.ylabel(\"loss\")\n",
    "plt.plot(np.arange(1, len(ssnnc.loss_list)+1), ssnnc.loss_list, label=\"train_loss\", marker=\"o\", linewidth=3)\n",
    "plt.plot(np.arange(1, len(ssnnc.loss_list_val)+1), ssnnc.loss_list_val, label=\"val_loss\", marker=\"o\", linewidth=3)\n",
    "plt.legend()\n",
    "plt.show()"
   ]
  },
  {
   "cell_type": "code",
   "execution_count": null,
   "metadata": {},
   "outputs": [],
   "source": []
  },
  {
   "cell_type": "markdown",
   "metadata": {},
   "source": [
    "# 【問題8】（アドバンス課題）誤分類の確認\n",
    "誤分類した画像はどのようなものだったかを確認してください。推定値を用意し、以下のコードを実行してください。"
   ]
  },
  {
   "cell_type": "code",
   "execution_count": 27,
   "metadata": {},
   "outputs": [
    {
     "data": {
      "image/png": "[encoded data removed]",
      "text/plain": [
       "<Figure size 432x432 with 36 Axes>"
      ]
     },
     "metadata": {},
     "output_type": "display_data"
    }
   ],
   "source": [
    "\"\"\"\n",
    "語分類結果を並べて表示する。画像の上の表示は「推定結果/正解」である。\n",
    "\n",
    "Parameters:\n",
    "----------\n",
    "y_pred : 推定値のndarray (n_samples,)\n",
    "y_val : 検証データの正解ラベル(n_samples,)\n",
    "X_val : 検証データの特徴量（n_samples, n_features)\n",
    "\"\"\"\n",
    "import numpy as np\n",
    "import matplotlib.pyplot as plt\n",
    "num = 36 # いくつ表示するか\n",
    "true_false = pred_val==y_val\n",
    "false_list = np.where(true_false==False)[0].astype(np.int)\n",
    "if false_list.shape[0] < num:\n",
    "    num = false_list.shape[0]\n",
    "fig = plt.figure(figsize=(6, 6))\n",
    "fig.subplots_adjust(left=0, right=0.8,  bottom=0, top=0.8, hspace=1, wspace=0.5)\n",
    "for i in range(num):\n",
    "    ax = fig.add_subplot(6, 6, i + 1, xticks=[], yticks=[])\n",
    "    ax.set_title(\"{} / {}\".format(pred_val[false_list[i]],y_val[false_list[i]]))\n",
    "    ax.imshow(X_val.reshape(-1,28,28)[false_list[i]], cmap='gray')"
   ]
  },
  {
   "cell_type": "code",
   "execution_count": null,
   "metadata": {},
   "outputs": [],
   "source": []
  },
  {
   "cell_type": "markdown",
   "metadata": {},
   "source": [
    "#### 動きが重いver."
   ]
  },
  {
   "cell_type": "code",
   "execution_count": 26,
   "metadata": {},
   "outputs": [],
   "source": [
    "# class ScratchSimpleNeuralNetrowkClassifier():\n",
    "#     \"\"\"\n",
    "#     シンプルな三層ニューラルネットワーク分類器\n",
    "\n",
    "#     Parameters\n",
    "#     ----------\n",
    "\n",
    "#     Attributes\n",
    "#     ----------\n",
    "#     \"\"\"\n",
    "#     def __init__(self, sigma=0.01, batch_size=20, activation_func=\"tanh\", \n",
    "#                            n_nodes1=400, n_nodes2=200, n_layer=3, lr=0.01, n_epoch=5, verbose = False):\n",
    "#         self.sigma = sigma #ガウス分布の標準偏差\n",
    "#         self.batch_size = batch_size #バッチサイズ\n",
    "#         self.activation_func = activation_func #活性化関数の種類\n",
    "#         self.n_nodes1 = n_nodes1 # 1層目のノード数\n",
    "#         self.n_nodes2 = n_nodes2 # 2層目のノード数\n",
    "#         self.n_layer = n_layer #層の数\n",
    "#         self.lr = lr #学習率\n",
    "#         self.n_epoch =n_epoch #エポック数\n",
    "#         self.verbose = verbose\n",
    "#         pass\n",
    "    \n",
    "#     def fit(self, X_train, y_train, X_val=None, y_val=None):\n",
    "#         \"\"\"\n",
    "#         ニューラルネットワーク分類器を学習する。\n",
    "\n",
    "#         Parameters\n",
    "#         ----------\n",
    "#         X : 次の形のndarray, shape (n_samples, n_features)\n",
    "#             訓練データの特徴量\n",
    "#         y : 次の形のndarray, shape (n_samples, )\n",
    "#             訓練データの正解値\n",
    "#         X_val : 次の形のndarray, shape (n_samples, n_features)\n",
    "#             検証データの特徴量\n",
    "#         y_val : 次の形のndarray, shape (n_samples, )\n",
    "#             検証データの正解値\n",
    "#         \"\"\"\n",
    "        \n",
    "#         self.n_output = len((y_train[0])) #クラスの数をインスタンス変数化      \n",
    "#         get_mini_batch = GetMiniBatch(X_train, y_train, self.batch_size) #GetMiniBatchクラスでミニバッチを作成\n",
    "    \n",
    "#         W_list_New = [] #重みを保持する空のリスト\n",
    "#         self.W_list_New = W_list_New #更新された重みを格納したリストをインスタンス変数化\n",
    "        \n",
    "#         b_list_New = [] #バイアスを保持する空のリスト\n",
    "#         self.b_list_New = b_list_New #更新されたバイアスを格納したリストをインスタンス変数化\n",
    "        \n",
    "#         loss_list = [] # 損失を記録する空のリスト\n",
    "#         self.loss_list = loss_list #損失を記録したリストをインスタンス変数化\n",
    "        \n",
    "#         for i in range(self.n_epoch):\n",
    "#             for mini_X_train, mini_y_train in get_mini_batch:\n",
    "#                 # このfor文内でミニバッチが使える\n",
    "#                 W_list, b_list, A_list, Z_list = self.forward_propa(mini_X_train)\n",
    "#                 W_list_new, b_list_new = self.back_propa(mini_X_train, mini_y_train, W_list, b_list, A_list, Z_list, cnt=self.n_layer)\n",
    "#                 W_list_New.append(W_list_new)\n",
    "#                 b_list_New.append(b_list_new)\n",
    "\n",
    "#                 loss = self.loss(Z_list[-1], mini_y_train)\n",
    "#                 loss_list.append(loss)\n",
    "      \n",
    "#         if self.verbose:\n",
    "#             #verboseをTrueにした際は学習過程などを出力する\n",
    "#             print(loss_list)\n",
    "    \n",
    "#     #【問題2】フォワードプロパゲーションの実装\n",
    "#     def forward_propa(self, mini_X_train, cnt=0, W_list=[], b_list=[], A_list=[], Z_list=[]):\n",
    "#         cnt += 1\n",
    "#         self.cnt = cnt\n",
    "\n",
    "#         if len(self.W_list_New) == 0:\n",
    "#             W, b = self.init_Wb(mini_X_train) #init_Wb関数で層の重み・バイアスを算出\n",
    "#         else:\n",
    "#             W = self.W_list_New[-1][cnt - 1]\n",
    "#             b = self.b_list_New[-1][cnt - 1]\n",
    "            \n",
    "#         W_list.append(W)\n",
    "#         b_list.append(b)    \n",
    "       \n",
    "#         A = (mini_X_train @ W) + b #出力サイズ(batch_size, n_nodes or n_output)\n",
    "#         A_list.append(A)\n",
    "        \n",
    "#         if cnt == self.n_layer:\n",
    "#             Z = self.softmax(A) #ソフトマックス関数の出力(batch_size, n_output)\n",
    "#         else:\n",
    "#             Z = self.activation(A) #活性化関数の出力(batch_size, n_nodes)\n",
    "#         Z_list.append(Z)\n",
    "\n",
    "#         if cnt == self.n_layer:\n",
    "#             return W_list[-3:], b_list[-3:], A_list[-3:], Z_list[-3:]\n",
    "        \n",
    "#         return self.forward_propa(Z, cnt, W_list, b_list, A_list, Z_list)\n",
    "        \n",
    "#     #【問題1】重みの初期値を決めるコードの作成\n",
    "#     def init_Wb(self, X):\n",
    "#         if self.cnt == 1:\n",
    "#             n_nodes = self.n_nodes1\n",
    "#         elif self.cnt == 2:\n",
    "#             n_nodes = self.n_nodes2\n",
    "#         elif self.cnt == self.n_layer:\n",
    "#             n_nodes = self.n_output\n",
    "        \n",
    "#         np.random.seed(123)\n",
    "#         W = self.sigma * np.random.randn(X.shape[1], n_nodes) #重みの初期値\n",
    "#         b = self.sigma * np.random.randn(n_nodes) #バイアスの初期値\n",
    "        \n",
    "#         return W, b\n",
    "    \n",
    "#     #活性化関数\n",
    "#     def activation(self, A):\n",
    "#         tanh = np.tanh(A) #ハイパボリックタンジェント関数\n",
    "#         sigmoid = 1 / (1 + np.exp(-A)) #シグモイド関数\n",
    "        \n",
    "#         if self.activation_func == \"tanh\":\n",
    "#             return tanh      \n",
    "#         elif self.activation_func == \"sigmoid\":\n",
    "#             return sigmoid\n",
    "     \n",
    "#     #ソフトマックス関数\n",
    "#     def softmax(self, A):\n",
    "#         A = A - np.max(A, axis=1, keepdims=True) #オーバーフロー対策\n",
    "#         Z = np.exp(A) / np.sum(np.exp(A), axis=1, keepdims=True)\n",
    "#         return Z\n",
    "    \n",
    "#     #【問題3】交差エントロピー誤差の実装\n",
    "#     def loss(self, Z, mini_y_train):\n",
    "#         loss = -1 * np.sum(mini_y_train * np.log(Z + 1e-7)) / self.batch_size\n",
    "#         return loss\n",
    "    \n",
    "#     #【問題4】バックプロパゲーションの実装\n",
    "#     def back_propa(self, mini_X_train, mini_y_train, W_list, b_list, A_list, Z_list, cnt, W_list_new=[], b_list_new=[]):\n",
    "#         cnt -= 1\n",
    "        \n",
    "#         if cnt == self.n_layer -1: #３層目の処理\n",
    "#             A_loss_grad = Z_list[cnt] -  mini_y_train #Aに関する損失の勾配\n",
    "#             b_loss_grad = np.sum(A_loss_grad, axis=0) #バイアスに関する損失の勾配\n",
    "#             W_loss_grad = Z_list[cnt - 1].T @ A_loss_grad #重みに関する損失の勾配\n",
    " \n",
    "#         elif cnt == self.n_layer -2: #２層目の処理\n",
    "#             A_loss_grad = mini_y_train * (1 - np.tanh(A_list[cnt])**2) #Aに関する損失の勾配\n",
    "#             b_loss_grad = np.sum(A_loss_grad, axis=0) #バイアスに関する損失の勾配\n",
    "#             W_loss_grad = Z_list[cnt - 1].T @ A_loss_grad #重みに関する損失の勾配\n",
    "            \n",
    "#         elif cnt == self.n_layer -3: #１層目の処理\n",
    "#             A_loss_grad = mini_y_train * (1 - np.tanh(A_list[cnt])**2) #Aに関する損失の勾配\n",
    "#             b_loss_grad = np.sum(A_loss_grad, axis=0) #バイアスに関する損失の勾配\n",
    "#             W_loss_grad = mini_X_train.T @ A_loss_grad #重みに関する損失の勾配 \n",
    "        \n",
    "#         #バイアスの更新  \n",
    "#         b_new = b_list[cnt] - (self.lr * b_loss_grad)\n",
    "#         b_list_new.insert(0, b_new)\n",
    "        \n",
    "#         #重みの更新\n",
    "#         W_new = W_list[cnt] - (self.lr * W_loss_grad)\n",
    "#         W_list_new.insert(0, W_new)\n",
    "        \n",
    "#         if cnt == 0:\n",
    "#             return W_list_new[:3], b_list_new[:3]\n",
    "        \n",
    "#         Z_loss_grad = A_loss_grad @ W_list[cnt].T #Zに関する損失の勾配\n",
    "\n",
    "#         return self.back_propa(mini_X_train, Z_loss_grad, W_list, b_list, A_list, Z_list, cnt, W_list_new, b_list_new)\n",
    "    \n",
    "#     #【問題5】推定\n",
    "#     def predict(self, X):\n",
    "#         \"\"\"\n",
    "#         ニューラルネットワーク分類器を使い推定する。\n",
    "\n",
    "#         Parameters\n",
    "#         ----------\n",
    "#         X : 次の形のndarray, shape (n_samples, n_features)\n",
    "#             サンプル\n",
    "\n",
    "#         Returns\n",
    "#         -------\n",
    "#             次の形のndarray, shape (n_samples, 1)\n",
    "#             推定結果\n",
    "#         \"\"\"\n",
    "        \n",
    "#         W_list, b_list, A_list, Z_list = self.forward_propa(X)\n",
    "        \n",
    "#         pred = np.argmax(Z_list[-1], axis=1)\n",
    "\n",
    "#         return pred"
   ]
  },
  {
   "cell_type": "code",
   "execution_count": null,
   "metadata": {},
   "outputs": [],
   "source": []
  },
  {
   "cell_type": "code",
   "execution_count": null,
   "metadata": {},
   "outputs": [],
   "source": []
  },
  {
   "cell_type": "code",
   "execution_count": null,
   "metadata": {},
   "outputs": [],
   "source": []
  }
 ],
 "metadata": {
  "kernelspec": {
   "display_name": "Python 3",
   "language": "python",
   "name": "python3"
  },
  "language_info": {
   "codemirror_mode": {
    "name": "ipython",
    "version": 3
   },
   "file_extension": ".py",
   "mimetype": "text/x-python",
   "name": "python",
   "nbconvert_exporter": "python",
   "pygments_lexer": "ipython3",
   "version": "3.7.7"
  }
 },
 "nbformat": 4,
 "nbformat_minor": 4
}
