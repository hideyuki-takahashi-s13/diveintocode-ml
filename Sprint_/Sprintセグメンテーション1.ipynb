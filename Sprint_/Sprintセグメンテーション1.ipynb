{
  "nbformat": 4,
  "nbformat_minor": 0,
  "metadata": {
    "colab": {
      "name": "Sprintセグメンテーション1.ipynb",
      "provenance": [],
      "collapsed_sections": []
    },
    "kernelspec": {
      "display_name": "Python 3",
      "language": "python",
      "name": "python3"
    },
    "language_info": {
      "codemirror_mode": {
        "name": "ipython",
        "version": 3
      },
      "file_extension": ".py",
      "mimetype": "text/x-python",
      "name": "python",
      "nbconvert_exporter": "python",
      "pygments_lexer": "ipython3",
      "version": "3.7.7"
    }
  },
  "cells": [
    {
      "cell_type": "markdown",
      "metadata": {
        "id": "Cd7Lr4xEfXB-"
      },
      "source": [
        "# 1.このSprintについて\n",
        "\n",
        "Sprintの目的\n",
        "コンピュータビジョンの代表的タスクであるセグメンテーションを学ぶ\n",
        "\n",
        "どのように学ぶか\n",
        "公開されている実装を用いてKaggleコンペティションのデータでセグメンテーションを行います。\n",
        "\n",
        "\n",
        "\n",
        "# 2.セグメンテーション\n",
        "\n",
        "KaggleのTGS Salt Identification Challengeのデータセットを使用し、セグメンテーションを行います。\n",
        "\n",
        "\n",
        "TGS Salt Identification Challenge | Kaggle\n",
        "\n",
        "\n",
        "セグメンテーション手法としてU-Net[1]を使います。\n",
        "\n",
        "\n",
        "[1]O.Ronneberger, P.Fischer, T.Brox. U-Net: Convolutional Networks for Biomedical Image Segmentation. Medical Image Computing and Computer-Assisted Intervention (MICCAI), Springer, LNCS, Vol.9351: 234–241, 2015\n"
      ]
    },
    {
      "cell_type": "code",
      "metadata": {
        "id": "psuqafree-F4",
        "outputId": "51be9f02-fed0-4451-91f6-180be0d1b2d8",
        "colab": {
          "base_uri": "https://localhost:8080/",
          "height": 357
        }
      },
      "source": [
        "!nvidia-smi"
      ],
      "execution_count": null,
      "outputs": [
        {
          "output_type": "stream",
          "text": [
            "Fri Oct  2 04:06:03 2020       \n",
            "+-----------------------------------------------------------------------------+\n",
            "| NVIDIA-SMI 455.23.05    Driver Version: 418.67       CUDA Version: 10.1     |\n",
            "|-------------------------------+----------------------+----------------------+\n",
            "| GPU  Name        Persistence-M| Bus-Id        Disp.A | Volatile Uncorr. ECC |\n",
            "| Fan  Temp  Perf  Pwr:Usage/Cap|         Memory-Usage | GPU-Util  Compute M. |\n",
            "|                               |                      |               MIG M. |\n",
            "|===============================+======================+======================|\n",
            "|   0  Tesla P100-PCIE...  Off  | 00000000:00:04.0 Off |                    0 |\n",
            "| N/A   36C    P0    29W / 250W |      0MiB / 16280MiB |      0%      Default |\n",
            "|                               |                      |                 ERR! |\n",
            "+-------------------------------+----------------------+----------------------+\n",
            "                                                                               \n",
            "+-----------------------------------------------------------------------------+\n",
            "| Processes:                                                                  |\n",
            "|  GPU   GI   CI        PID   Type   Process name                  GPU Memory |\n",
            "|        ID   ID                                                   Usage      |\n",
            "|=============================================================================|\n",
            "|  No running processes found                                                 |\n",
            "+-----------------------------------------------------------------------------+\n"
          ],
          "name": "stdout"
        }
      ]
    },
    {
      "cell_type": "code",
      "metadata": {
        "id": "y9WjC5NDgmmX",
        "outputId": "96db406b-e8d2-4d27-f4c2-742a288e5342",
        "colab": {
          "base_uri": "https://localhost:8080/",
          "height": 51
        }
      },
      "source": [
        "import tensorflow as tf\n",
        "print(tf.__version__)\n",
        "\n",
        "import keras\n",
        "print(keras.__version__)"
      ],
      "execution_count": null,
      "outputs": [
        {
          "output_type": "stream",
          "text": [
            "2.3.0\n",
            "2.4.3\n"
          ],
          "name": "stdout"
        }
      ]
    },
    {
      "cell_type": "code",
      "metadata": {
        "id": "0k0Yv5BrBGUM"
      },
      "source": [
        "import os\n",
        "import shutil"
      ],
      "execution_count": null,
      "outputs": []
    },
    {
      "cell_type": "code",
      "metadata": {
        "id": "K3ZPaEvU-xYK",
        "outputId": "42ae96cd-85f8-42a6-d637-243d2663e741",
        "colab": {
          "base_uri": "https://localhost:8080/",
          "height": 35
        }
      },
      "source": [
        "tf.test.gpu_device_name()"
      ],
      "execution_count": null,
      "outputs": [
        {
          "output_type": "execute_result",
          "data": {
            "application/vnd.google.colaboratory.intrinsic+json": {
              "type": "string"
            },
            "text/plain": [
              "'/device:GPU:0'"
            ]
          },
          "metadata": {
            "tags": []
          },
          "execution_count": 4
        }
      ]
    },
    {
      "cell_type": "code",
      "metadata": {
        "id": "HG-laUaBiBt3",
        "outputId": "b047074d-75d1-447b-9599-c5709aaf2429",
        "colab": {
          "base_uri": "https://localhost:8080/",
          "height": 34
        }
      },
      "source": [
        "from google.colab import drive\n",
        "drive.mount('/content/drive/')"
      ],
      "execution_count": 1,
      "outputs": [
        {
          "output_type": "stream",
          "text": [
            "Mounted at /content/drive/\n"
          ],
          "name": "stdout"
        }
      ]
    },
    {
      "cell_type": "code",
      "metadata": {
        "id": "4eesTiSJnvmj",
        "outputId": "28597353-3ae5-4b7c-b75a-8fc14a6f34db",
        "colab": {
          "base_uri": "https://localhost:8080/",
          "height": 34
        }
      },
      "source": [
        "cd /content/drive/My Drive/Sprintセグメ1"
      ],
      "execution_count": 10,
      "outputs": [
        {
          "output_type": "stream",
          "text": [
            "/content/drive/My Drive/Sprintセグメ1\n"
          ],
          "name": "stdout"
        }
      ]
    },
    {
      "cell_type": "markdown",
      "metadata": {
        "id": "xGlTNJ6gvGlO"
      },
      "source": [
        "# 【問題1】学習・推定\n",
        "以下のKeras実装を使用して学習・推定を行ってください。\n",
        "\n",
        "\n",
        "zhixuhao/unet: unet for image segmentation\n",
        "\n",
        "\n",
        "《GPU環境での学習》\n",
        "\n",
        "\n",
        "大規模なデータセット、大きなモデルになるため、GPUを使用する必要があります。\n",
        "\n",
        "\n",
        "《新たなデータセットの適用》\n",
        "\n",
        "\n",
        "公開されている実装で用意されたものとは異なるデータセットを入力するための準備が必要です。"
      ]
    },
    {
      "cell_type": "code",
      "metadata": {
        "id": "MJJVkYp2vIkq"
      },
      "source": [
        "# !git clone https://github.com/zhixuhao/unet.git"
      ],
      "execution_count": null,
      "outputs": []
    },
    {
      "cell_type": "code",
      "metadata": {
        "id": "Up1X2Feq0-uD",
        "outputId": "17e56bae-376d-4047-b9f1-b588d137d2e2",
        "colab": {
          "base_uri": "https://localhost:8080/",
          "height": 34
        }
      },
      "source": [
        "cd unet"
      ],
      "execution_count": 9,
      "outputs": [
        {
          "output_type": "stream",
          "text": [
            "/content/drive/My Drive/Sprintセグメ1/unet\n"
          ],
          "name": "stdout"
        }
      ]
    },
    {
      "cell_type": "code",
      "metadata": {
        "id": "67ABPHOyHix-"
      },
      "source": [
        "from model import unet\n",
        "from data import trainGenerator\n",
        "from data import testGenerator\n",
        "from data import adjustData\n",
        "from data import saveResult\n",
        "from data import labelVisualize\n",
        "from keras.callbacks import ModelCheckpoint"
      ],
      "execution_count": 6,
      "outputs": []
    },
    {
      "cell_type": "code",
      "metadata": {
        "id": "T1uReBbDPQzG",
        "outputId": "1d6e530b-f45e-447f-b347-b0073bed16d4",
        "colab": {
          "base_uri": "https://localhost:8080/",
          "height": 479
        }
      },
      "source": [
        "data_gen_args = dict(rotation_range=0.2,\n",
        "                    width_shift_range=0.05,\n",
        "                    height_shift_range=0.05,\n",
        "                    shear_range=0.05,\n",
        "                    zoom_range=0.05,\n",
        "                    horizontal_flip=True,\n",
        "                    fill_mode='nearest')\n",
        "myGene = trainGenerator(2,'./competition_data/train','images','masks',data_gen_args,save_to_dir = None)\n",
        "# myGene = trainGenerator(2,'data/membrane/train','image','label',data_gen_args,save_to_dir = None)\n",
        "\n",
        "model = unet()\n",
        "model_checkpoint = ModelCheckpoint('unet_competition_data.hdf5', monitor='loss',verbose=1, save_best_only=True)\n",
        "model.fit_generator(myGene,steps_per_epoch=2000,epochs=5,callbacks=[model_checkpoint])"
      ],
      "execution_count": null,
      "outputs": [
        {
          "output_type": "stream",
          "text": [
            "WARNING:tensorflow:From <ipython-input-26-2239666c6637>:13: Model.fit_generator (from tensorflow.python.keras.engine.training) is deprecated and will be removed in a future version.\n",
            "Instructions for updating:\n",
            "Please use Model.fit, which supports generators.\n",
            "Found 4000 images belonging to 1 classes.\n",
            "Found 4000 images belonging to 1 classes.\n",
            "Epoch 1/5\n",
            "2000/2000 [==============================] - ETA: 0s - loss: 0.5380 - accuracy: 0.7507\n",
            "Epoch 00001: loss improved from inf to 0.53802, saving model to unet_competition_data.hdf5\n",
            "2000/2000 [==============================] - 5613s 3s/step - loss: 0.5380 - accuracy: 0.7507\n",
            "Epoch 2/5\n",
            "2000/2000 [==============================] - ETA: 0s - loss: 0.4215 - accuracy: 0.8123\n",
            "Epoch 00002: loss improved from 0.53802 to 0.42147, saving model to unet_competition_data.hdf5\n",
            "2000/2000 [==============================] - 177s 88ms/step - loss: 0.4215 - accuracy: 0.8123\n",
            "Epoch 3/5\n",
            "2000/2000 [==============================] - ETA: 0s - loss: 0.3796 - accuracy: 0.8635\n",
            "Epoch 00003: loss improved from 0.42147 to 0.37958, saving model to unet_competition_data.hdf5\n",
            "2000/2000 [==============================] - 177s 88ms/step - loss: 0.3796 - accuracy: 0.8635\n",
            "Epoch 4/5\n",
            "2000/2000 [==============================] - ETA: 0s - loss: 0.3774 - accuracy: 0.8654\n",
            "Epoch 00004: loss improved from 0.37958 to 0.37741, saving model to unet_competition_data.hdf5\n",
            "2000/2000 [==============================] - 176s 88ms/step - loss: 0.3774 - accuracy: 0.8654\n",
            "Epoch 5/5\n",
            "2000/2000 [==============================] - ETA: 0s - loss: 0.3613 - accuracy: 0.8807\n",
            "Epoch 00005: loss improved from 0.37741 to 0.36133, saving model to unet_competition_data.hdf5\n",
            "2000/2000 [==============================] - 176s 88ms/step - loss: 0.3613 - accuracy: 0.8807\n"
          ],
          "name": "stdout"
        },
        {
          "output_type": "execute_result",
          "data": {
            "text/plain": [
              "<tensorflow.python.keras.callbacks.History at 0x7fdcc629fa20>"
            ]
          },
          "metadata": {
            "tags": []
          },
          "execution_count": 26
        }
      ]
    },
    {
      "cell_type": "code",
      "metadata": {
        "id": "vpwyPZj2rsD9",
        "outputId": "9f0c3829-c556-4b1a-e9fe-951df89af1e4",
        "colab": {
          "base_uri": "https://localhost:8080/",
          "height": 34
        }
      },
      "source": [
        "files = os.listdir(\"./competition_data/test/images\")\n",
        "num_image = len(files)\n",
        "num_image"
      ],
      "execution_count": null,
      "outputs": [
        {
          "output_type": "execute_result",
          "data": {
            "text/plain": [
              "18000"
            ]
          },
          "metadata": {
            "tags": []
          },
          "execution_count": 27
        }
      ]
    },
    {
      "cell_type": "code",
      "metadata": {
        "id": "AOZNB3kiYVys"
      },
      "source": [
        "import warnings\n",
        "warnings.simplefilter('ignore')"
      ],
      "execution_count": null,
      "outputs": []
    },
    {
      "cell_type": "code",
      "metadata": {
        "id": "2SdGgAd6Hitm",
        "outputId": "a46e38b8-86cc-4380-e50f-17b561e314a7",
        "colab": {
          "base_uri": "https://localhost:8080/",
          "height": 71
        }
      },
      "source": [
        "testGene = testGenerator(\"./competition_data/test/images\", num_image=num_image)\n",
        "model = unet()\n",
        "model.load_weights(\"unet_competition_data.hdf5\")\n",
        "results = model.predict_generator(testGene, num_image, verbose=1)\n",
        "saveResult(\"./competition_data/test/images_pred\",results)"
      ],
      "execution_count": null,
      "outputs": [
        {
          "output_type": "stream",
          "text": [
            "    1/18000 [..............................] - ETA: 0sWARNING:tensorflow:Callbacks method `on_predict_batch_end` is slow compared to the batch time (batch time: 0.0067s vs `on_predict_batch_end` time: 0.0146s). Check your callbacks.\n",
            "18000/18000 [==============================] - 301s 17ms/step\n"
          ],
          "name": "stdout"
        }
      ]
    },
    {
      "cell_type": "code",
      "metadata": {
        "id": "3F7ZMUh9AG6n",
        "outputId": "c2defb75-47aa-4b81-cc29-d71bd9e6d1cf",
        "colab": {
          "base_uri": "https://localhost:8080/",
          "height": 322
        }
      },
      "source": [
        "import matplotlib.pyplot as plt\n",
        "import glob \n",
        "from PIL import Image\n",
        "\n",
        "#セグメンテーション前のtestデータを表示\n",
        "img__list = glob.glob(\"/content/drive/My Drive/Sprintセグメ1/unet/competition_data/test/images/*\")\n",
        "\n",
        "with Image.open(img__list[0]) as img:\n",
        "    plt.rcParams['figure.figsize'] = (5.0, 5.0)\n",
        "    plt.imshow(img)\n",
        "    plt.show()"
      ],
      "execution_count": 14,
      "outputs": [
        {
          "output_type": "display_data",
          "data": {
            "image/png": "[encoded data removed]",
            "text/plain": [
              "<Figure size 360x360 with 1 Axes>"
            ]
          },
          "metadata": {
            "tags": [],
            "needs_background": "light"
          }
        }
      ]
    },
    {
      "cell_type": "code",
      "metadata": {
        "id": "rmBA5ZtFG2-4",
        "outputId": "43a0d12c-2677-4649-d3fa-1ae4b8e72116",
        "colab": {
          "base_uri": "https://localhost:8080/",
          "height": 323
        }
      },
      "source": [
        "#セグメンテーション後のtestデータを表示\n",
        "img__list = glob.glob(\"/content/drive/My Drive/Sprintセグメ1/unet/competition_data/test/images_pred/*\")\n",
        "\n",
        "with Image.open(img__list[0]) as img:\n",
        "    plt.rcParams['figure.figsize'] = (5.0, 5.0)\n",
        "    plt.imshow(img)\n",
        "    plt.show()"
      ],
      "execution_count": 15,
      "outputs": [
        {
          "output_type": "display_data",
          "data": {
            "image/png": "[encoded data removed]",
            "text/plain": [
              "<Figure size 360x360 with 1 Axes>"
            ]
          },
          "metadata": {
            "tags": [],
            "needs_background": "light"
          }
        }
      ]
    },
    {
      "cell_type": "markdown",
      "metadata": {
        "id": "3H6lrnbw_hbA"
      },
      "source": [
        "### セグメンテーションは出来ていないが、学習・推定は完了した。"
      ]
    },
    {
      "cell_type": "code",
      "metadata": {
        "id": "6ZOi3xyV4hRI"
      },
      "source": [
        ""
      ],
      "execution_count": null,
      "outputs": []
    },
    {
      "cell_type": "markdown",
      "metadata": {
        "id": "hMuhEiinp_4y"
      },
      "source": [
        "# 【問題2】コードリーディング\n",
        "論文[1]に目を通した上で、上記実装のコードリーディングを行ってください。"
      ]
    },
    {
      "cell_type": "markdown",
      "metadata": {
        "id": "YiDYSsvNHXy2"
      },
      "source": [
        "- 全層畳み込みネットワーク (Fully Convolution Network)\n",
        "\n",
        "\n",
        "- skip-conectionを用いて畳み込みによって失われる位置情報を保持する<br>\n",
        "model.py 34行目　etc.<br>\n",
        "merge6 = concatenate([drop4,up6], axis = 3)"
      ]
    },
    {
      "cell_type": "code",
      "metadata": {
        "id": "7-XAdyVXuA9z"
      },
      "source": [
        ""
      ],
      "execution_count": null,
      "outputs": []
    }
  ]
}