{
 "cells": [
  {
   "cell_type": "markdown",
   "metadata": {
    "colab_type": "text",
    "id": "lJ1W-6iOCB3I"
   },
   "source": [
    "# 【問題2】（アドバンス課題）様々な手法を実行\n",
    "TensorFLowやGoogle AI ResearchのGitHubリポジトリには、定番のモデルから最新のモデルまで多様なコードが公開されています。これらから興味あるものを選び実行してください。\n",
    "\n",
    "\n",
    "なお、これらのコードは初学者向けではないため、巨大なデータセットのダウンロードが必要な場合など、実行が簡単ではないこともあります。そういった場合は、コードリーディングを行ってください。\n",
    "\n",
    "\n",
    "models/research at master · tensorflow/models\n",
    "\n",
    "\n",
    "google-research/google-research: Google AI Research\n",
    "\n",
    "\n",
    "更新日が古いものはPythonやTensorFlowのバージョンが古く、扱いずらい場合があります。新しいものから見ることを推奨します。\n",
    "\n",
    "## 回答無し"
   ]
  },
  {
   "cell_type": "code",
   "execution_count": null,
   "metadata": {
    "colab": {},
    "colab_type": "code",
    "id": "SuXHY3pICMct"
   },
   "outputs": [],
   "source": []
  },
  {
   "cell_type": "markdown",
   "metadata": {
    "colab_type": "text",
    "id": "mZNK8DmWB5w_"
   },
   "source": [
    "# 問題3】Iris（2値分類）をKerasで学習\n",
    "TensorFlowによるIrisデータセットに対する2値分類をKerasに書き換えてください。"
   ]
  },
  {
   "cell_type": "code",
   "execution_count": 1,
   "metadata": {
    "colab": {},
    "colab_type": "code",
    "id": "sQIUqEipB6Gr",
    "scrolled": true
   },
   "outputs": [
    {
     "name": "stderr",
     "output_type": "stream",
     "text": [
      "Using TensorFlow backend.\n",
      "/Users/takahashihideyuki/.pyenv/versions/anaconda3-2019.10/lib/python3.7/site-packages/tensorflow/python/framework/dtypes.py:516: FutureWarning: Passing (type, 1) or '1type' as a synonym of type is deprecated; in a future version of numpy, it will be understood as (type, (1,)) / '(1,)type'.\n",
      "  _np_qint8 = np.dtype([(\"qint8\", np.int8, 1)])\n",
      "/Users/takahashihideyuki/.pyenv/versions/anaconda3-2019.10/lib/python3.7/site-packages/tensorflow/python/framework/dtypes.py:517: FutureWarning: Passing (type, 1) or '1type' as a synonym of type is deprecated; in a future version of numpy, it will be understood as (type, (1,)) / '(1,)type'.\n",
      "  _np_quint8 = np.dtype([(\"quint8\", np.uint8, 1)])\n",
      "/Users/takahashihideyuki/.pyenv/versions/anaconda3-2019.10/lib/python3.7/site-packages/tensorflow/python/framework/dtypes.py:518: FutureWarning: Passing (type, 1) or '1type' as a synonym of type is deprecated; in a future version of numpy, it will be understood as (type, (1,)) / '(1,)type'.\n",
      "  _np_qint16 = np.dtype([(\"qint16\", np.int16, 1)])\n",
      "/Users/takahashihideyuki/.pyenv/versions/anaconda3-2019.10/lib/python3.7/site-packages/tensorflow/python/framework/dtypes.py:519: FutureWarning: Passing (type, 1) or '1type' as a synonym of type is deprecated; in a future version of numpy, it will be understood as (type, (1,)) / '(1,)type'.\n",
      "  _np_quint16 = np.dtype([(\"quint16\", np.uint16, 1)])\n",
      "/Users/takahashihideyuki/.pyenv/versions/anaconda3-2019.10/lib/python3.7/site-packages/tensorflow/python/framework/dtypes.py:520: FutureWarning: Passing (type, 1) or '1type' as a synonym of type is deprecated; in a future version of numpy, it will be understood as (type, (1,)) / '(1,)type'.\n",
      "  _np_qint32 = np.dtype([(\"qint32\", np.int32, 1)])\n",
      "/Users/takahashihideyuki/.pyenv/versions/anaconda3-2019.10/lib/python3.7/site-packages/tensorflow/python/framework/dtypes.py:525: FutureWarning: Passing (type, 1) or '1type' as a synonym of type is deprecated; in a future version of numpy, it will be understood as (type, (1,)) / '(1,)type'.\n",
      "  np_resource = np.dtype([(\"resource\", np.ubyte, 1)])\n",
      "/Users/takahashihideyuki/.pyenv/versions/anaconda3-2019.10/lib/python3.7/site-packages/tensorboard/compat/tensorflow_stub/dtypes.py:541: FutureWarning: Passing (type, 1) or '1type' as a synonym of type is deprecated; in a future version of numpy, it will be understood as (type, (1,)) / '(1,)type'.\n",
      "  _np_qint8 = np.dtype([(\"qint8\", np.int8, 1)])\n",
      "/Users/takahashihideyuki/.pyenv/versions/anaconda3-2019.10/lib/python3.7/site-packages/tensorboard/compat/tensorflow_stub/dtypes.py:542: FutureWarning: Passing (type, 1) or '1type' as a synonym of type is deprecated; in a future version of numpy, it will be understood as (type, (1,)) / '(1,)type'.\n",
      "  _np_quint8 = np.dtype([(\"quint8\", np.uint8, 1)])\n",
      "/Users/takahashihideyuki/.pyenv/versions/anaconda3-2019.10/lib/python3.7/site-packages/tensorboard/compat/tensorflow_stub/dtypes.py:543: FutureWarning: Passing (type, 1) or '1type' as a synonym of type is deprecated; in a future version of numpy, it will be understood as (type, (1,)) / '(1,)type'.\n",
      "  _np_qint16 = np.dtype([(\"qint16\", np.int16, 1)])\n",
      "/Users/takahashihideyuki/.pyenv/versions/anaconda3-2019.10/lib/python3.7/site-packages/tensorboard/compat/tensorflow_stub/dtypes.py:544: FutureWarning: Passing (type, 1) or '1type' as a synonym of type is deprecated; in a future version of numpy, it will be understood as (type, (1,)) / '(1,)type'.\n",
      "  _np_quint16 = np.dtype([(\"quint16\", np.uint16, 1)])\n",
      "/Users/takahashihideyuki/.pyenv/versions/anaconda3-2019.10/lib/python3.7/site-packages/tensorboard/compat/tensorflow_stub/dtypes.py:545: FutureWarning: Passing (type, 1) or '1type' as a synonym of type is deprecated; in a future version of numpy, it will be understood as (type, (1,)) / '(1,)type'.\n",
      "  _np_qint32 = np.dtype([(\"qint32\", np.int32, 1)])\n",
      "/Users/takahashihideyuki/.pyenv/versions/anaconda3-2019.10/lib/python3.7/site-packages/tensorboard/compat/tensorflow_stub/dtypes.py:550: FutureWarning: Passing (type, 1) or '1type' as a synonym of type is deprecated; in a future version of numpy, it will be understood as (type, (1,)) / '(1,)type'.\n",
      "  np_resource = np.dtype([(\"resource\", np.ubyte, 1)])\n"
     ]
    }
   ],
   "source": [
    "import numpy as np\n",
    "import pandas as pd\n",
    "from sklearn.preprocessing import OneHotEncoder\n",
    "from keras import backend as K"
   ]
  },
  {
   "cell_type": "code",
   "execution_count": 2,
   "metadata": {
    "colab": {},
    "colab_type": "code",
    "id": "1Lgx5CnxCS8E"
   },
   "outputs": [],
   "source": [
    "df = pd.read_csv(\"/Users/takahashihideyuki/dive/diveintocode-ml/Sprint_/datasets_19_420_Iris.csv\", encoding=\"utf-8\")"
   ]
  },
  {
   "cell_type": "code",
   "execution_count": 6,
   "metadata": {
    "colab": {},
    "colab_type": "code",
    "id": "piwmvL_7CUrK"
   },
   "outputs": [],
   "source": [
    "\"\"\"\n",
    "TensorFlowで実装したIris2値分類をKerasに書き換える\n",
    "\"\"\"\n",
    "import numpy as np\n",
    "import pandas as pd\n",
    "from sklearn.model_selection import train_test_split\n",
    "import tensorflow as tf\n",
    "from tensorflow.keras import layers\n",
    "# データセットの読み込み\n",
    "dataset_path =\"/Users/takahashihideyuki/dive/diveintocode-ml/Sprint_/datasets_19_420_Iris.csv\"\n",
    "df = pd.read_csv(dataset_path)\n",
    "# データフレームから条件抽出\n",
    "df = df[(df[\"Species\"] == \"Iris-versicolor\")|(df[\"Species\"] == \"Iris-virginica\")]\n",
    "y = df[\"Species\"]\n",
    "X = df.loc[:, [\"SepalLengthCm\", \"SepalWidthCm\", \"PetalLengthCm\", \"PetalWidthCm\"]]\n",
    "y = np.array(y)\n",
    "X = np.array(X)\n",
    "# ラベルを数値に変換\n",
    "y[y=='Iris-versicolor'] = 0\n",
    "y[y=='Iris-virginica'] = 1\n",
    "y = y.astype(np.int)[:, np.newaxis]\n",
    "# trainとtestに分割\n",
    "X_train, X_test, y_train, y_test = train_test_split(X, y, test_size=0.2, random_state=0)\n",
    "# さらにtrainとvalに分割\n",
    "X_train, X_val, y_train, y_val = train_test_split(X_train, y_train, test_size=0.2, random_state=0)"
   ]
  },
  {
   "cell_type": "code",
   "execution_count": 7,
   "metadata": {
    "colab": {},
    "colab_type": "code",
    "id": "DaMg1G2YCUt0"
   },
   "outputs": [
    {
     "data": {
      "text/plain": [
       "[<tf.Variable 'dense_1/kernel:0' shape=(4, 50) dtype=float32>,\n",
       " <tf.Variable 'dense_1/bias:0' shape=(50,) dtype=float32>,\n",
       " <tf.Variable 'dense_2/kernel:0' shape=(50, 100) dtype=float32>,\n",
       " <tf.Variable 'dense_2/bias:0' shape=(100,) dtype=float32>,\n",
       " <tf.Variable 'dense_3/kernel:0' shape=(100, 1) dtype=float32>,\n",
       " <tf.Variable 'dense_3/bias:0' shape=(1,) dtype=float32>]"
      ]
     },
     "execution_count": 7,
     "metadata": {},
     "output_type": "execute_result"
    }
   ],
   "source": [
    "from keras.models import Sequential\n",
    "from keras.layers import Dense, Activation\n",
    "from keras.optimizers import Adam\n",
    "\n",
    "K.clear_session()\n",
    "\n",
    "model = Sequential()\n",
    "model.add(Dense(50, activation='relu', input_dim=4))\n",
    "model.add(Dense(100, activation='relu'))\n",
    "model.add(Dense(1, activation='sigmoid'))\n",
    "model.weights"
   ]
  },
  {
   "cell_type": "code",
   "execution_count": 8,
   "metadata": {
    "colab": {},
    "colab_type": "code",
    "id": "Pm1ids6uCUyw"
   },
   "outputs": [
    {
     "name": "stdout",
     "output_type": "stream",
     "text": [
      "WARNING:tensorflow:From /Users/takahashihideyuki/.pyenv/versions/anaconda3-2019.10/lib/python3.7/site-packages/tensorflow/python/ops/nn_impl.py:180: add_dispatch_support.<locals>.wrapper (from tensorflow.python.ops.array_ops) is deprecated and will be removed in a future version.\n",
      "Instructions for updating:\n",
      "Use tf.where in 2.0, which has the same broadcast rule as np.where\n",
      "WARNING:tensorflow:From /Users/takahashihideyuki/.pyenv/versions/anaconda3-2019.10/lib/python3.7/site-packages/keras/backend/tensorflow_backend.py:422: The name tf.global_variables is deprecated. Please use tf.compat.v1.global_variables instead.\n",
      "\n",
      "WARNING:tensorflow:From /Users/takahashihideyuki/.pyenv/versions/anaconda3-2019.10/lib/python3.7/site-packages/keras/backend/tensorflow_backend.py:431: The name tf.is_variable_initialized is deprecated. Please use tf.compat.v1.is_variable_initialized instead.\n",
      "\n",
      "WARNING:tensorflow:From /Users/takahashihideyuki/.pyenv/versions/anaconda3-2019.10/lib/python3.7/site-packages/keras/backend/tensorflow_backend.py:438: The name tf.variables_initializer is deprecated. Please use tf.compat.v1.variables_initializer instead.\n",
      "\n",
      "Train on 64 samples, validate on 16 samples\n",
      "Epoch 1/10\n",
      "64/64 [==============================] - 0s 2ms/step - loss: 0.9177 - accuracy: 0.4688 - val_loss: 0.7041 - val_accuracy: 0.3750\n",
      "Epoch 2/10\n",
      "64/64 [==============================] - 0s 249us/step - loss: 0.7300 - accuracy: 0.4688 - val_loss: 0.6840 - val_accuracy: 0.3750\n",
      "Epoch 3/10\n",
      "64/64 [==============================] - 0s 185us/step - loss: 0.6820 - accuracy: 0.5312 - val_loss: 0.7293 - val_accuracy: 0.3750\n",
      "Epoch 4/10\n",
      "64/64 [==============================] - 0s 154us/step - loss: 0.6462 - accuracy: 0.7344 - val_loss: 0.6292 - val_accuracy: 0.8750\n",
      "Epoch 5/10\n",
      "64/64 [==============================] - 0s 140us/step - loss: 0.6208 - accuracy: 0.8125 - val_loss: 0.6469 - val_accuracy: 0.3750\n",
      "Epoch 6/10\n",
      "64/64 [==============================] - 0s 220us/step - loss: 0.6116 - accuracy: 0.5781 - val_loss: 0.5542 - val_accuracy: 1.0000\n",
      "Epoch 7/10\n",
      "64/64 [==============================] - 0s 141us/step - loss: 0.5318 - accuracy: 0.8906 - val_loss: 0.5253 - val_accuracy: 0.8125\n",
      "Epoch 8/10\n",
      "64/64 [==============================] - 0s 171us/step - loss: 0.4867 - accuracy: 0.8281 - val_loss: 0.3924 - val_accuracy: 0.9375\n",
      "Epoch 9/10\n",
      "64/64 [==============================] - 0s 229us/step - loss: 0.4054 - accuracy: 0.9062 - val_loss: 0.3361 - val_accuracy: 1.0000\n",
      "Epoch 10/10\n",
      "64/64 [==============================] - 0s 171us/step - loss: 0.3302 - accuracy: 0.9219 - val_loss: 0.3127 - val_accuracy: 0.8750\n",
      "test_acc : 0.850\n"
     ]
    }
   ],
   "source": [
    "model.compile(optimizer=tf.train.AdamOptimizer(learning_rate=0.01),\n",
    "              loss='binary_crossentropy',\n",
    "              metrics=['accuracy'])\n",
    "\n",
    "model.fit(X_train, y_train, \n",
    "                epochs=10, \n",
    "                batch_size=10, \n",
    "                verbose=1,\n",
    "                validation_data=(X_val, y_val))\n",
    "\n",
    "test_loss, test_acc = model.evaluate(X_test, y_test, verbose=0)\n",
    "print(\"test_acc : {:.3f}\".format(test_acc))"
   ]
  },
  {
   "cell_type": "code",
   "execution_count": 9,
   "metadata": {
    "colab": {},
    "colab_type": "code",
    "id": "kmTNJMrJCU3G"
   },
   "outputs": [
    {
     "name": "stdout",
     "output_type": "stream",
     "text": [
      "y_pred_proba [0.9238287  0.26192927 0.8630837  0.18392542 0.8618723  0.40086013\n",
      " 0.18363306 0.42272404 0.84338677 0.90107894 0.22817048 0.7955256\n",
      " 0.45679164 0.7494339  0.69585955 0.26401073 0.6494695  0.8612722\n",
      " 0.30489427 0.9086689  0.95911026 0.42873815 0.8063606  0.95725054\n",
      " 0.91621494 0.41712517 0.9047372  0.1987614  0.88309646 0.92464745\n",
      " 0.9389838  0.91489154 0.49436113 0.86385447 0.4324171  0.9732386\n",
      " 0.93772995 0.18457231 0.25590533 0.61636597 0.12300527 0.7791576\n",
      " 0.64166325 0.10094157 0.314205   0.47368282 0.9561381  0.9793465\n",
      " 0.19017056 0.43013665 0.21045363 0.9303502  0.9326055  0.9596398\n",
      " 0.95340145 0.8623433  0.38035217 0.90010303 0.7679633  0.9325336\n",
      " 0.20856872 0.42203704 0.86788315 0.73424757]\n",
      "y_pred [1 0 1 0 1 0 0 0 1 1 0 1 0 1 1 0 1 1 0 1 1 0 1 1 1 0 1 0 1 1 1 1 0 1 0 1 1\n",
      " 0 0 1 0 1 1 0 0 0 1 1 0 0 0 1 1 1 1 1 0 1 1 1 0 0 1 1]\n"
     ]
    }
   ],
   "source": [
    "y_pred_proba = model.predict(X_train)[:, 0]\n",
    "# 確率を0, 1に変換\n",
    "y_pred = np.where(y_pred_proba >0.5, 1, 0)\n",
    "print(\"y_pred_proba\", y_pred_proba)\n",
    "print(\"y_pred\", y_pred)"
   ]
  },
  {
   "cell_type": "code",
   "execution_count": null,
   "metadata": {
    "colab": {},
    "colab_type": "code",
    "id": "tNf_8tb4CU5q"
   },
   "outputs": [],
   "source": []
  },
  {
   "cell_type": "markdown",
   "metadata": {
    "colab_type": "text",
    "id": "oiePxLyWDOr5"
   },
   "source": [
    "# 【問題4】Iris（多値分類）をKerasで学習\n",
    "TensorFlowによるIrisデータセットに対する3値分類をKerasに書き換えてください。"
   ]
  },
  {
   "cell_type": "code",
   "execution_count": 10,
   "metadata": {
    "colab": {},
    "colab_type": "code",
    "id": "jTcMMw2uCVAb"
   },
   "outputs": [],
   "source": [
    "\"\"\"\n",
    "TensorFlowで実装したIris多値分類をKerasに書き換える\n",
    "\"\"\"\n",
    "# データセットの読み込み\n",
    "dataset_path =\"/Users/takahashihideyuki/dive/diveintocode-ml/Sprint_/datasets_19_420_Iris.csv\"\n",
    "df = pd.read_csv(dataset_path)\n",
    "# データフレームから条件抽出\n",
    "y = df[\"Species\"]\n",
    "X = df.loc[:, [\"SepalLengthCm\", \"SepalWidthCm\", \"PetalLengthCm\", \"PetalWidthCm\"]]\n",
    "y = np.array(y)\n",
    "X = np.array(X)\n",
    "# ラベルを数値に変換\n",
    "y[y=='Iris-setosa'] = 0 #Iris-setosaを追加\n",
    "y[y=='Iris-versicolor'] = 1\n",
    "y[y=='Iris-virginica'] = 2\n",
    "y = y.astype(np.int) #[:, np.newaxis]\n",
    "enc = OneHotEncoder(handle_unknown='ignore', sparse=False)\n",
    "y = enc.fit_transform(y[:, np.newaxis]) #one-hot処理\n",
    "# trainとtestに分割\n",
    "X_train, X_test, y_train, y_test = train_test_split(X, y, test_size=0.2, random_state=0)\n",
    "# さらにtrainとvalに分割\n",
    "X_train, X_val, y_train, y_val = train_test_split(X_train, y_train, test_size=0.2, random_state=0)"
   ]
  },
  {
   "cell_type": "code",
   "execution_count": 11,
   "metadata": {
    "colab": {},
    "colab_type": "code",
    "id": "jApXWVB1DYgP"
   },
   "outputs": [
    {
     "data": {
      "text/plain": [
       "[<tf.Variable 'dense_1/kernel:0' shape=(4, 50) dtype=float32>,\n",
       " <tf.Variable 'dense_1/bias:0' shape=(50,) dtype=float32>,\n",
       " <tf.Variable 'dense_2/kernel:0' shape=(50, 100) dtype=float32>,\n",
       " <tf.Variable 'dense_2/bias:0' shape=(100,) dtype=float32>,\n",
       " <tf.Variable 'dense_3/kernel:0' shape=(100, 3) dtype=float32>,\n",
       " <tf.Variable 'dense_3/bias:0' shape=(3,) dtype=float32>]"
      ]
     },
     "execution_count": 11,
     "metadata": {},
     "output_type": "execute_result"
    }
   ],
   "source": [
    "K.clear_session()\n",
    "\n",
    "model = Sequential()\n",
    "model.add(Dense(50, activation='relu', input_dim=4))\n",
    "model.add(Dense(100, activation='relu'))\n",
    "model.add(Dense(3, activation='softmax'))\n",
    "model.weights"
   ]
  },
  {
   "cell_type": "code",
   "execution_count": 12,
   "metadata": {
    "colab": {},
    "colab_type": "code",
    "id": "pRfP3Rm_DYlv"
   },
   "outputs": [
    {
     "name": "stdout",
     "output_type": "stream",
     "text": [
      "Train on 96 samples, validate on 24 samples\n",
      "Epoch 1/10\n",
      "96/96 [==============================] - 0s 820us/step - loss: 0.7744 - accuracy: 0.6458 - val_loss: 0.5543 - val_accuracy: 0.6250\n",
      "Epoch 2/10\n",
      "96/96 [==============================] - 0s 166us/step - loss: 0.4650 - accuracy: 0.7396 - val_loss: 0.3914 - val_accuracy: 0.7500\n",
      "Epoch 3/10\n",
      "96/96 [==============================] - 0s 141us/step - loss: 0.2876 - accuracy: 0.8854 - val_loss: 0.4087 - val_accuracy: 0.7083\n",
      "Epoch 4/10\n",
      "96/96 [==============================] - 0s 177us/step - loss: 0.2394 - accuracy: 0.9167 - val_loss: 0.3191 - val_accuracy: 0.7917\n",
      "Epoch 5/10\n",
      "96/96 [==============================] - 0s 142us/step - loss: 0.1639 - accuracy: 0.9062 - val_loss: 0.2486 - val_accuracy: 0.8333\n",
      "Epoch 6/10\n",
      "96/96 [==============================] - 0s 183us/step - loss: 0.1369 - accuracy: 0.9271 - val_loss: 0.2359 - val_accuracy: 0.8333\n",
      "Epoch 7/10\n",
      "96/96 [==============================] - 0s 147us/step - loss: 0.1455 - accuracy: 0.9271 - val_loss: 0.2613 - val_accuracy: 0.8750\n",
      "Epoch 8/10\n",
      "96/96 [==============================] - 0s 152us/step - loss: 0.1518 - accuracy: 0.9375 - val_loss: 0.2807 - val_accuracy: 0.9167\n",
      "Epoch 9/10\n",
      "96/96 [==============================] - 0s 144us/step - loss: 0.1882 - accuracy: 0.9167 - val_loss: 0.2247 - val_accuracy: 0.9167\n",
      "Epoch 10/10\n",
      "96/96 [==============================] - 0s 151us/step - loss: 0.0882 - accuracy: 0.9688 - val_loss: 0.2454 - val_accuracy: 0.9167\n",
      "test_acc : 0.967\n"
     ]
    }
   ],
   "source": [
    "model.compile(optimizer=tf.train.AdamOptimizer(learning_rate=0.01),\n",
    "              loss='categorical_crossentropy',\n",
    "              metrics=['accuracy'])\n",
    "\n",
    "model.fit(X_train, y_train, \n",
    "                epochs=10, \n",
    "                batch_size=10, \n",
    "                verbose=1,\n",
    "                validation_data=(X_val, y_val))\n",
    "\n",
    "test_loss, test_acc = model.evaluate(X_test, y_test, verbose=0)\n",
    "print(\"test_acc : {:.3f}\".format(test_acc))"
   ]
  },
  {
   "cell_type": "code",
   "execution_count": null,
   "metadata": {
    "colab": {},
    "colab_type": "code",
    "id": "TPuPji_5DYjE"
   },
   "outputs": [],
   "source": []
  },
  {
   "cell_type": "markdown",
   "metadata": {
    "colab_type": "text",
    "id": "F5hv2D9sDixI"
   },
   "source": [
    "# 【問題5】House PricesをKerasで学習\n",
    "TensorFlowによるHouse Pricesデータセットに対する回帰をKerasに書き換えてください。"
   ]
  },
  {
   "cell_type": "code",
   "execution_count": 13,
   "metadata": {
    "colab": {},
    "colab_type": "code",
    "id": "MnF7bIIuDfWy"
   },
   "outputs": [],
   "source": [
    "dataset_path =\"/Users/takahashihideyuki/dive/diveintocode-ml/Sprint_/train.csv\"\n",
    "df = pd.read_csv(dataset_path)"
   ]
  },
  {
   "cell_type": "code",
   "execution_count": 14,
   "metadata": {
    "colab": {},
    "colab_type": "code",
    "id": "Qsb6I0_3DfZ0"
   },
   "outputs": [],
   "source": [
    "\"\"\"\n",
    "TensorFlowで実装した回帰問題のデータセットであるHouse Pricesを使用したモデルをKerasに書き換える\n",
    "\"\"\"\n",
    "# データセットの読み込み\n",
    "dataset_path =\"/Users/takahashihideyuki/dive/diveintocode-ml/Sprint_/train.csv\"\n",
    "df = pd.read_csv(dataset_path)\n",
    "# データフレームから条件抽出\n",
    "y = df[\"SalePrice\"]\n",
    "X = df[[\"GrLivArea\", \"YearBuilt\"]]\n",
    "y = np.array(y)\n",
    "X = np.array(X)\n",
    "\n",
    "# 目的変数を対数変換\n",
    "y = np.log1p(y).reshape(-1, 1)\n",
    "\n",
    "#説明変数を標準化\n",
    "from sklearn.preprocessing import StandardScaler\n",
    "scaler = StandardScaler()\n",
    "scaler.fit(X)\n",
    "X = scaler.transform(X)\n",
    "\n",
    "# trainとtestに分割\n",
    "X_train, X_test, y_train, y_test = train_test_split(X, y, test_size=0.2, random_state=0)\n",
    "# さらにtrainとvalに分割\n",
    "X_train, X_val, y_train, y_val = train_test_split(X_train, y_train, test_size=0.2, random_state=0)"
   ]
  },
  {
   "cell_type": "code",
   "execution_count": 15,
   "metadata": {
    "colab": {},
    "colab_type": "code",
    "id": "QA1tY6ANDfT4"
   },
   "outputs": [],
   "source": [
    "K.clear_session()\n",
    "\n",
    "model = Sequential()\n",
    "model.add(Dense(50, activation='relu', input_dim=2))\n",
    "model.add(Dense(100, activation='relu'))\n",
    "model.add(Dense(1))\n",
    "\n",
    "model.compile(optimizer='Adam', loss='mse')"
   ]
  },
  {
   "cell_type": "code",
   "execution_count": 16,
   "metadata": {
    "colab": {},
    "colab_type": "code",
    "id": "NLcZAOU3DpAa"
   },
   "outputs": [
    {
     "name": "stdout",
     "output_type": "stream",
     "text": [
      "Model: \"sequential_1\"\n",
      "_________________________________________________________________\n",
      "Layer (type)                 Output Shape              Param #   \n",
      "=================================================================\n",
      "dense_1 (Dense)              (None, 50)                150       \n",
      "_________________________________________________________________\n",
      "dense_2 (Dense)              (None, 100)               5100      \n",
      "_________________________________________________________________\n",
      "dense_3 (Dense)              (None, 1)                 101       \n",
      "=================================================================\n",
      "Total params: 5,351\n",
      "Trainable params: 5,351\n",
      "Non-trainable params: 0\n",
      "_________________________________________________________________\n"
     ]
    }
   ],
   "source": [
    "model.summary()"
   ]
  },
  {
   "cell_type": "code",
   "execution_count": 17,
   "metadata": {
    "colab": {},
    "colab_type": "code",
    "id": "wQc6xcQXDpCz"
   },
   "outputs": [
    {
     "name": "stdout",
     "output_type": "stream",
     "text": [
      "Train on 934 samples, validate on 234 samples\n",
      "Epoch 1/10\n",
      "934/934 [==============================] - 0s 219us/step - loss: 92.0656 - val_loss: 18.1931\n",
      "Epoch 2/10\n",
      "934/934 [==============================] - 0s 106us/step - loss: 9.5904 - val_loss: 5.1193\n",
      "Epoch 3/10\n",
      "934/934 [==============================] - 0s 93us/step - loss: 5.1703 - val_loss: 3.0398\n",
      "Epoch 4/10\n",
      "934/934 [==============================] - 0s 99us/step - loss: 3.0285 - val_loss: 1.7970\n",
      "Epoch 5/10\n",
      "934/934 [==============================] - 0s 92us/step - loss: 1.8153 - val_loss: 1.0439\n",
      "Epoch 6/10\n",
      "934/934 [==============================] - 0s 98us/step - loss: 1.0775 - val_loss: 0.6645\n",
      "Epoch 7/10\n",
      "934/934 [==============================] - 0s 97us/step - loss: 0.6789 - val_loss: 0.3819\n",
      "Epoch 8/10\n",
      "934/934 [==============================] - 0s 92us/step - loss: 0.4122 - val_loss: 0.2718\n",
      "Epoch 9/10\n",
      "934/934 [==============================] - 0s 102us/step - loss: 0.2698 - val_loss: 0.1578\n",
      "Epoch 10/10\n",
      "934/934 [==============================] - 0s 96us/step - loss: 0.1721 - val_loss: 0.1069\n",
      "test_mse : 0.239\n"
     ]
    }
   ],
   "source": [
    "model.fit(X_train, y_train, \n",
    "                epochs=10, \n",
    "                batch_size=10, \n",
    "                verbose=1,\n",
    "                validation_data=(X_val, y_val))\n",
    "\n",
    "test_mse = model.evaluate(X_test, y_test, verbose=0)\n",
    "print(\"test_mse : {:.3f}\".format(test_mse))"
   ]
  },
  {
   "cell_type": "code",
   "execution_count": null,
   "metadata": {
    "colab": {},
    "colab_type": "code",
    "id": "JIFFqCIXDpJm"
   },
   "outputs": [],
   "source": []
  },
  {
   "cell_type": "markdown",
   "metadata": {
    "colab_type": "text",
    "id": "4nBlyM5DDyfR"
   },
   "source": [
    "# 【問題6】MNISTをKerasで学習\n",
    "TensorFlowによるMNISTデータセットによる画像の多値分類をKerasに書き換えてください。"
   ]
  },
  {
   "cell_type": "code",
   "execution_count": 18,
   "metadata": {
    "colab": {},
    "colab_type": "code",
    "id": "EpMbgzJKDpHy"
   },
   "outputs": [],
   "source": [
    "from keras.datasets import mnist\n",
    "(X_train, y_train), (X_test, y_test) = mnist.load_data()\n",
    "\n",
    "#入力データ（説明変数）を4次元にreshape\n",
    "X_train = X_train.reshape(60000, 28, 28, 1)\n",
    "X_test = X_test.reshape(10000, 28, 28, 1)\n",
    "\n",
    "#正規化\n",
    "X_train = X_train.astype(np.float)\n",
    "X_test = X_test.astype(np.float)\n",
    "X_train /= 255\n",
    "X_test /= 255\n",
    "\n",
    "#one-hot\n",
    "# from sklearn.preprocessing import OneHotEncoder\n",
    "# enc = OneHotEncoder(handle_unknown='ignore', sparse=False)\n",
    "# y_train = enc.fit_transform(y_train[:, np.newaxis])\n",
    "# y_test = enc.fit_transform(y_test[:, np.newaxis])\n",
    "\n",
    "# さらにtrainとvalに分割\n",
    "X_train, X_val, y_train, y_val = train_test_split(X_train, y_train, test_size=0.2, random_state=0)"
   ]
  },
  {
   "cell_type": "code",
   "execution_count": 19,
   "metadata": {
    "colab": {},
    "colab_type": "code",
    "id": "n2Kg6DaTDo9L"
   },
   "outputs": [
    {
     "name": "stdout",
     "output_type": "stream",
     "text": [
      "WARNING:tensorflow:From /Users/takahashihideyuki/.pyenv/versions/anaconda3-2019.10/lib/python3.7/site-packages/keras/backend/tensorflow_backend.py:4070: The name tf.nn.max_pool is deprecated. Please use tf.nn.max_pool2d instead.\n",
      "\n"
     ]
    },
    {
     "data": {
      "text/plain": [
       "[<tf.Variable 'conv2d_1/kernel:0' shape=(3, 3, 1, 50) dtype=float32>,\n",
       " <tf.Variable 'conv2d_1/bias:0' shape=(50,) dtype=float32>,\n",
       " <tf.Variable 'conv2d_2/kernel:0' shape=(3, 3, 50, 100) dtype=float32>,\n",
       " <tf.Variable 'conv2d_2/bias:0' shape=(100,) dtype=float32>,\n",
       " <tf.Variable 'dense_1/kernel:0' shape=(2500, 10) dtype=float32>,\n",
       " <tf.Variable 'dense_1/bias:0' shape=(10,) dtype=float32>]"
      ]
     },
     "execution_count": 19,
     "metadata": {},
     "output_type": "execute_result"
    }
   ],
   "source": [
    "from keras.models import Sequential\n",
    "from keras.layers import Dense, Dropout, Flatten\n",
    "from keras.layers import Conv2D, MaxPooling2D\n",
    "\n",
    "K.clear_session()\n",
    "\n",
    "model = Sequential()\n",
    "model.add(Conv2D(50, (3, 3), activation='relu', input_shape=(28, 28, 1)))\n",
    "model.add(MaxPooling2D((2, 2)))\n",
    "model.add(Conv2D(100, (3, 3), activation='relu'))\n",
    "model.add(MaxPooling2D((2, 2)))\n",
    "model.add(Flatten())\n",
    "model.add(Dense(10, activation='softmax'))\n",
    "model.weights"
   ]
  },
  {
   "cell_type": "code",
   "execution_count": 20,
   "metadata": {
    "colab": {},
    "colab_type": "code",
    "id": "M5gTw1FzDYXk"
   },
   "outputs": [
    {
     "name": "stdout",
     "output_type": "stream",
     "text": [
      "Model: \"sequential_1\"\n",
      "_________________________________________________________________\n",
      "Layer (type)                 Output Shape              Param #   \n",
      "=================================================================\n",
      "conv2d_1 (Conv2D)            (None, 26, 26, 50)        500       \n",
      "_________________________________________________________________\n",
      "max_pooling2d_1 (MaxPooling2 (None, 13, 13, 50)        0         \n",
      "_________________________________________________________________\n",
      "conv2d_2 (Conv2D)            (None, 11, 11, 100)       45100     \n",
      "_________________________________________________________________\n",
      "max_pooling2d_2 (MaxPooling2 (None, 5, 5, 100)         0         \n",
      "_________________________________________________________________\n",
      "flatten_1 (Flatten)          (None, 2500)              0         \n",
      "_________________________________________________________________\n",
      "dense_1 (Dense)              (None, 10)                25010     \n",
      "=================================================================\n",
      "Total params: 70,610\n",
      "Trainable params: 70,610\n",
      "Non-trainable params: 0\n",
      "_________________________________________________________________\n"
     ]
    }
   ],
   "source": [
    "model.summary()"
   ]
  },
  {
   "cell_type": "code",
   "execution_count": 21,
   "metadata": {
    "colab": {},
    "colab_type": "code",
    "id": "43fqhgq8CU-9"
   },
   "outputs": [
    {
     "name": "stdout",
     "output_type": "stream",
     "text": [
      "Train on 48000 samples, validate on 12000 samples\n",
      "Epoch 1/10\n",
      "48000/48000 [==============================] - 45s 928us/step - loss: 0.1378 - accuracy: 0.9580 - val_loss: 0.0482 - val_accuracy: 0.9846\n",
      "Epoch 2/10\n",
      "48000/48000 [==============================] - 56s 1ms/step - loss: 0.0483 - accuracy: 0.9853 - val_loss: 0.0426 - val_accuracy: 0.9869\n",
      "Epoch 3/10\n",
      "48000/48000 [==============================] - 60s 1ms/step - loss: 0.0333 - accuracy: 0.9897 - val_loss: 0.0413 - val_accuracy: 0.9866\n",
      "Epoch 4/10\n",
      "48000/48000 [==============================] - 60s 1ms/step - loss: 0.0240 - accuracy: 0.9923 - val_loss: 0.0378 - val_accuracy: 0.9884\n",
      "Epoch 5/10\n",
      "48000/48000 [==============================] - 60s 1ms/step - loss: 0.0177 - accuracy: 0.9944 - val_loss: 0.0368 - val_accuracy: 0.9887\n",
      "Epoch 6/10\n",
      "48000/48000 [==============================] - 60s 1ms/step - loss: 0.0144 - accuracy: 0.9951 - val_loss: 0.0434 - val_accuracy: 0.9883\n",
      "Epoch 7/10\n",
      "48000/48000 [==============================] - 59s 1ms/step - loss: 0.0105 - accuracy: 0.9964 - val_loss: 0.0371 - val_accuracy: 0.9893\n",
      "Epoch 8/10\n",
      "48000/48000 [==============================] - 58s 1ms/step - loss: 0.0090 - accuracy: 0.9970 - val_loss: 0.0447 - val_accuracy: 0.9883\n",
      "Epoch 9/10\n",
      "48000/48000 [==============================] - 57s 1ms/step - loss: 0.0077 - accuracy: 0.9974 - val_loss: 0.0494 - val_accuracy: 0.9866\n",
      "Epoch 10/10\n",
      "48000/48000 [==============================] - 58s 1ms/step - loss: 0.0064 - accuracy: 0.9979 - val_loss: 0.0501 - val_accuracy: 0.9894\n"
     ]
    },
    {
     "data": {
      "text/plain": [
       "<keras.callbacks.callbacks.History at 0x7fbba63a04d0>"
      ]
     },
     "execution_count": 21,
     "metadata": {},
     "output_type": "execute_result"
    }
   ],
   "source": [
    "model.compile(optimizer='adam',\n",
    "              loss='sparse_categorical_crossentropy',\n",
    "              metrics=['accuracy'])\n",
    "\n",
    "model.fit(X_train, y_train,\n",
    "                epochs=10, \n",
    "                batch_size=20, \n",
    "                verbose=1,\n",
    "                validation_data=(X_val, y_val))"
   ]
  },
  {
   "cell_type": "code",
   "execution_count": 22,
   "metadata": {
    "colab": {},
    "colab_type": "code",
    "id": "eIjwpjvXCUwP"
   },
   "outputs": [
    {
     "name": "stdout",
     "output_type": "stream",
     "text": [
      "test_acc : 0.991\n"
     ]
    }
   ],
   "source": [
    "test_loss, test_acc = model.evaluate(X_test, y_test, verbose=0)\n",
    "print(\"test_acc : {:.3f}\".format(test_acc))"
   ]
  },
  {
   "cell_type": "code",
   "execution_count": null,
   "metadata": {
    "colab": {},
    "colab_type": "code",
    "id": "S_fmaaAgD67q"
   },
   "outputs": [],
   "source": []
  },
  {
   "cell_type": "markdown",
   "metadata": {
    "colab_type": "text",
    "id": "sME3yPe0D_0F"
   },
   "source": [
    "# 【問題7】（アドバンス課題）PyTorchへの書き換え\n",
    "4種類の問題をPyTorchに書き換えてください。\n",
    "\n",
    "## 回答無し"
   ]
  },
  {
   "cell_type": "code",
   "execution_count": null,
   "metadata": {
    "colab": {},
    "colab_type": "code",
    "id": "msMTFpD0D7Hw"
   },
   "outputs": [],
   "source": []
  },
  {
   "cell_type": "markdown",
   "metadata": {
    "colab": {},
    "colab_type": "code",
    "id": "b2is_hpdD7Q1"
   },
   "source": [
    "# 【問題8】（アドバンス課題）フレームワークの比較\n",
    "それぞれのフレームワークにはどのような違いがあるかをまとめてください。\n",
    "\n",
    "《視点例》\n",
    "\n",
    "- 計算速度\n",
    "  PyTorchの方がKerasより早い\n",
    "- コードの行数・可読性\n",
    "  Kerasの方がシンプルに記述でき、可読性は高い\n",
    "- 用意されている機能<br>\n",
    "  Pytorch:\n",
    "  transform機能。入力が画像の場合、「リサイズ、画像読み込み、画素を正規化」というような前処理があるが、transform では、この一連の流れを配列の中に列挙することで一括して処理ができる。<br>\n",
    "  Keras:\n",
    "  model.fitで学習可能"
   ]
  },
  {
   "cell_type": "markdown",
   "metadata": {
    "colab": {},
    "colab_type": "code",
    "id": "kcPKMCmAD7Op"
   },
   "source": []
  },
  {
   "cell_type": "code",
   "execution_count": null,
   "metadata": {
    "colab": {},
    "colab_type": "code",
    "id": "tWrIS5H2D7MM"
   },
   "outputs": [],
   "source": []
  },
  {
   "cell_type": "code",
   "execution_count": null,
   "metadata": {
    "colab": {},
    "colab_type": "code",
    "id": "70dJUwj1D7Eu"
   },
   "outputs": [],
   "source": []
  },
  {
   "cell_type": "code",
   "execution_count": null,
   "metadata": {
    "colab": {},
    "colab_type": "code",
    "id": "8dtPa6KAD7Cu"
   },
   "outputs": [],
   "source": []
  },
  {
   "cell_type": "code",
   "execution_count": null,
   "metadata": {
    "colab": {},
    "colab_type": "code",
    "id": "6dsTB6AWD7Az"
   },
   "outputs": [],
   "source": []
  },
  {
   "cell_type": "code",
   "execution_count": null,
   "metadata": {
    "colab": {},
    "colab_type": "code",
    "id": "9Yv47QILD64r"
   },
   "outputs": [],
   "source": []
  }
 ],
 "metadata": {
  "accelerator": "GPU",
  "colab": {
   "collapsed_sections": [],
   "name": "Sprint ディープラーニングフレームワーク2 ",
   "provenance": []
  },
  "kernelspec": {
   "display_name": "Python 3",
   "language": "python",
   "name": "python3"
  },
  "language_info": {
   "codemirror_mode": {
    "name": "ipython",
    "version": 3
   },
   "file_extension": ".py",
   "mimetype": "text/x-python",
   "name": "python",
   "nbconvert_exporter": "python",
   "pygments_lexer": "ipython3",
   "version": "3.7.7"
  }
 },
 "nbformat": 4,
 "nbformat_minor": 1
}
