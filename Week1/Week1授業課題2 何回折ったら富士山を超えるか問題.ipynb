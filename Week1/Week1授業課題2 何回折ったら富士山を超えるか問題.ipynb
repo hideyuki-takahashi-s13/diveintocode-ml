{
 "cells": [
  {
   "cell_type": "markdown",
   "metadata": {},
   "source": [
    "# 【問題1】富士山を超える最小の折る回数\n",
    "厚さが「富士山(3776m)」を超えるのは何回紙を折った時か計算するプログラムを作成してください。"
   ]
  },
  {
   "cell_type": "code",
   "execution_count": 1,
   "metadata": {},
   "outputs": [
    {
     "name": "stdout",
     "output_type": "stream",
     "text": [
      "富士山(3776m)」を超えるのは、26回紙を折った時です。\n"
     ]
    }
   ],
   "source": [
    "THICKNESS = 0.00008    # 紙の厚さ　　　　単位：m（メートル）\n",
    "HEIGHT_MT_FUJI = 3776    # 富士山の高さ　　　　単位：m（メートル）\n",
    "\n",
    "n_folded = 0    #折った回数\n",
    "folded_thickness = THICKNESS\n",
    "while folded_thickness < HEIGHT_MT_FUJI:\n",
    "    folded_thickness *= 2\n",
    "    n_folded += 1\n",
    "else:\n",
    "    print(\"富士山(3776m)」を超えるのは、{}回紙を折った時です。\".format(n_folded))"
   ]
  },
  {
   "cell_type": "code",
   "execution_count": null,
   "metadata": {},
   "outputs": [],
   "source": []
  },
  {
   "cell_type": "markdown",
   "metadata": {},
   "source": [
    "# 【問題2】任意の厚さに対応した関数を作成\n",
    "距離を入力すると、何回折った時に超えるかを出力する関数を作成してください。引数として、折る前の厚さ $t_{0}$ も設定できるようにしましょう。\n",
    "この関数を利用して、「最も近い太陽以外の恒星」に到達するには紙を何回折る必要があるか計算してください。「最も近い太陽以外の恒星」の距離は調査してください。"
   ]
  },
  {
   "cell_type": "code",
   "execution_count": 2,
   "metadata": {},
   "outputs": [
    {
     "name": "stdout",
     "output_type": "stream",
     "text": [
      "最も近い太陽以外の恒星を超えるのは、69回紙を折った時です。\n"
     ]
    }
   ],
   "source": [
    "def output_distance(thickness, distance):\n",
    "    n_folded = 0    #折った回数\n",
    "    while thickness < distance:\n",
    "        thickness *= 2\n",
    "        n_folded += 1\n",
    "    else:\n",
    "        print(\"最も近い太陽以外の恒星を超えるのは、{}回紙を折った時です。\".format(n_folded))\n",
    "        \n",
    "THICKNESS = 0.00008    # 折る前の紙の厚さ　　　　単位：m（メートル）\n",
    "RANGE_FIXED_STAR = 4.01513 * 10**16    # 「最も近い太陽以外の恒星」　＝　プロキシマ・ケンタウリまでの距離　　　　単位：m（メートル）\n",
    "        \n",
    "output_distance(THICKNESS, RANGE_FIXED_STAR)    # 折る前の紙の厚さと、恒星までの距離を引数として渡す"
   ]
  },
  {
   "cell_type": "code",
   "execution_count": null,
   "metadata": {},
   "outputs": [],
   "source": []
  },
  {
   "cell_type": "markdown",
   "metadata": {},
   "source": [
    "# 【問題3】必要な紙の長さ\n",
    "実際のところ身近にある紙は43回はおろか10回も折れません。しかし、大きな紙ほどたくさん折ることができ、トイレットペーパーのような長い紙を一方向に折ることを考えた時の折れる回数を求める公式が存在します。\n",
    "\n",
    "厚さ $t_{0}$ の紙をn回折るために必要な紙の長さLは以下の公式で求まります。\n",
    "\n",
    "L = πt０　＊　(2^n + 4)　＊　(2^n - 1)　/　６\n",
    "\n",
    "この公式を利用して、実際に紙を折り任意の厚さに到達するために必要な紙の長さを求める関数を作成してください。\n",
    "\n",
    "そしてこれを使って「月」「富士山」「最も近い太陽以外の恒星」に届くために必要な紙の長さを求めてください。"
   ]
  },
  {
   "cell_type": "code",
   "execution_count": 31,
   "metadata": {},
   "outputs": [
    {
     "name": "stdout",
     "output_type": "stream",
     "text": [
      "月に届くために必要な紙の長さは、およそ3,240,919,444,170,781,184キロメートルです。\n",
      "富士山に届くために必要な紙の長さは、およそ188,646,348キロメートルです。\n",
      "最も近い太陽以外の恒星に届くために必要な紙の長さは、およそ14,595,803,601,100,346,839,891,623,748,304,896キロメートルです。\n"
     ]
    }
   ],
   "source": [
    "import math\n",
    "\n",
    "THICKNESS = 0.00008    # 折る前の紙の厚さ　　　　単位：m（メートル）\n",
    "\n",
    "def output_distance(thickness, distance):\n",
    "    n_folded = 0    #折った回数\n",
    "    while thickness < distance:\n",
    "        thickness *= 2\n",
    "        n_folded += 1\n",
    "    else:\n",
    "        paper_length = (math.pi * THICKNESS * (2**n_folded + 4) * (2**n_folded - 1)) / 6\n",
    "        return paper_length\n",
    "\n",
    "RANGE_MOON = 384400 *1000    # 月までの距離　　　　単位：m（メートル）  \n",
    "HEIGHT_MT_FUJI = 3776    # 富士山の高さ　　　　単位：m（メートル）        \n",
    "RANGE_FIXED_STAR = 4.01513 * 10**16    # 「最も近い太陽以外の恒星」　＝　プロキシマ・ケンタウリまでの距離　　　　単位：m（メートル）\n",
    "\n",
    "paper_length_moon = output_distance(THICKNESS, RANGE_MOON)\n",
    "paper_length_mt_fuji = output_distance(THICKNESS, HEIGHT_MT_FUJI)\n",
    "paper_length_fixed_star = output_distance(THICKNESS, RANGE_FIXED_STAR)\n",
    "        \n",
    "print(\"月に届くために必要な紙の長さは、およそ{:,.0f}キロメートルです。\".format(paper_length_moon/1000))\n",
    "print(\"富士山に届くために必要な紙の長さは、およそ{:,.0f}キロメートルです。\".format(paper_length_mt_fuji/1000))\n",
    "print(\"最も近い太陽以外の恒星に届くために必要な紙の長さは、およそ{:,.0f}キロメートルです。\".format(paper_length_fixed_star/1000))"
   ]
  },
  {
   "cell_type": "code",
   "execution_count": null,
   "metadata": {},
   "outputs": [],
   "source": []
  }
 ],
 "metadata": {
  "kernelspec": {
   "display_name": "Python 3",
   "language": "python",
   "name": "python3"
  },
  "language_info": {
   "codemirror_mode": {
    "name": "ipython",
    "version": 3
   },
   "file_extension": ".py",
   "mimetype": "text/x-python",
   "name": "python",
   "nbconvert_exporter": "python",
   "pygments_lexer": "ipython3",
   "version": "3.7.4"
  }
 },
 "nbformat": 4,
 "nbformat_minor": 2
}
