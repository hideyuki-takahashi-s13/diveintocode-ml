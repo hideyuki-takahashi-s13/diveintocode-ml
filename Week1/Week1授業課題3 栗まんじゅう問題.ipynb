{
 "cells": [
  {
   "cell_type": "markdown",
   "metadata": {},
   "source": [
    "# 【問題】栗まんじゅうが太陽系を覆う日\n",
    "漫画ドラえもんには「バイバイン」という道具が登場する、2のn乗に関する有名なエピソード[1]があります。<br>\n",
    "[1] 藤子・Ｆ・不二雄(1979)『ドラえもん（１７）』小学館.<br>\n",
    "「バイバイン」は薬品で、これを振掛けるとその物体は5分ごとに倍に増えるという働きがあります。<br>\n",
    "作中では栗まんじゅうを増やしますが、食べきれなくなったためロケットを使い宇宙に捨てました。<br>\n",
    "ここで度々話題になるのが、栗まんじゅうはその後宇宙でどのように増えていくのかについてです。<br>\n",
    "様々な議論がされていますが、今回は単純に栗まんじゅうの体積がどう増えるかを計算してみましょう。<br>\n",
    "\n",
    "1個の栗まんじゅうにバイバインを振りかけた場合、太陽系が栗まんじゅうで覆われるのは何分後でしょうか。<br>\n",
    "これを計算するプログラムを作成してください。<br>\n",
    "栗まんじゅうや太陽系の体積を調査した上で仮定して計算してください。栗まんじゅうの隙間や重力などは考えず、問題を単純化して構いません。<br>\n",
    "ボールにバイバインを振りかけた時、東京ドームが一杯になる時間など他の状況にも適用できるような汎用的なプログラムを作成してください。<br>\n",
    "また、グラフを表示するなど分かりやすいノートブックを作成してください。"
   ]
  },
  {
   "cell_type": "code",
   "execution_count": 48,
   "metadata": {},
   "outputs": [
    {
     "name": "stdout",
     "output_type": "stream",
     "text": [
      "太陽系が栗まんじゅうで覆われるのは765分後です。\n"
     ]
    },
    {
     "data": {
      "image/png": "[encoded data removed]",
      "text/plain": [
       "<Figure size 432x288 with 1 Axes>"
      ]
     },
     "metadata": {
      "needs_background": "light"
     },
     "output_type": "display_data"
    }
   ],
   "source": [
    "import numpy as np\n",
    "import matplotlib.pyplot as plt\n",
    "%matplotlib inline\n",
    "\n",
    "TAIYOUKEI_R = 45 * 10**9  #太陽系の半径 : ４５億km\n",
    "TAIYOUKEI_VOLUME = 4 * np.pi * TAIYOUKEI_R**3 / 3    #太陽系の体積　:　４５億kmを半径として球体として定義\n",
    "KURIMANJYU_R = 3/100/1000    #栗まんじゅうの半径　：　３cm　をkmへ変換\n",
    "KURIMANJYU_VOLUME = 4 * np.pi * KURIMANJYU_R**3 / 3   #栗まんじゅうの体積　:　3cmを半径として球体として定義\n",
    "MIN_BAI = 5    #「物体は5分ごとに倍に増える」の５分\n",
    "\n",
    "min_bai_list = [MIN_BAI]\n",
    "increase_volume_list = [KURIMANJYU_VOLUME]\n",
    "\n",
    "def cover_time(list_increase_volume, list_any_volume):\n",
    "    increase_volume = list_increase_volume[1]\n",
    "    any_volume = list_any_volume[1]\n",
    "    while increase_volume < any_volume:\n",
    "        increase_volume *= 2    #「物体は5分ごとに倍に増える」の倍\n",
    "        increase_volume_list.append(increase_volume)\n",
    "        min_bai_list.append(min_bai_list[-1] + MIN_BAI)\n",
    "\n",
    "    else:\n",
    "        print(\"{}が{}で覆われるのは{}分後です。\".format(list_any_volume[0], list_increase_volume[0], min_bai_list[-1]))\n",
    "\n",
    "        plt.title(\"increase_volume_transition\")\n",
    "        plt.xlabel(\"time\")\n",
    "        plt.ylabel(\"increase_volume[km^3]\")\n",
    "        plt.plot(min_bai_list, increase_volume_list)\n",
    "        plt.hlines(y = any_volume, xmin=0, xmax=800, color = \"r\")\n",
    "        plt.show()\n",
    "\n",
    "cover_time([\"栗まんじゅう\", KURIMANJYU_VOLUME], [\"太陽系\", TAIYOUKEI_VOLUME])"
   ]
  },
  {
   "cell_type": "code",
   "execution_count": null,
   "metadata": {},
   "outputs": [],
   "source": []
  },
  {
   "cell_type": "code",
   "execution_count": null,
   "metadata": {},
   "outputs": [],
   "source": []
  }
 ],
 "metadata": {
  "kernelspec": {
   "display_name": "Python 3",
   "language": "python",
   "name": "python3"
  },
  "language_info": {
   "codemirror_mode": {
    "name": "ipython",
    "version": 3
   },
   "file_extension": ".py",
   "mimetype": "text/x-python",
   "name": "python",
   "nbconvert_exporter": "python",
   "pygments_lexer": "ipython3",
   "version": "3.7.4"
  }
 },
 "nbformat": 4,
 "nbformat_minor": 2
}
