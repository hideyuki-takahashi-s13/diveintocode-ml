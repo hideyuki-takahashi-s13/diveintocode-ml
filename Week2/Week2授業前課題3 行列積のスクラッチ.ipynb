{
 "cells": [
  {
   "cell_type": "markdown",
   "metadata": {},
   "source": [
    "# 【問題1】行列積を手計算する\n",
    "AとBの行列積を手計算で解いてください。<br>\n",
    "計算過程もマークダウンテキストを用いて説明してください。"
   ]
  },
  {
   "cell_type": "code",
   "execution_count": 1,
   "metadata": {},
   "outputs": [],
   "source": [
    "import numpy as np\n",
    "a_ndarray = np.array([[-1, 2, 3], [4, -5, 6], [7, 8, -9]])\n",
    "b_ndarray = np.array([[0, 2, 1], [0, 2, -8], [2, 9, -1]])"
   ]
  },
  {
   "cell_type": "markdown",
   "metadata": {},
   "source": [
    "$$\n",
    "    % \"boldsymbol\"で太字にしている\n",
    "    \\boldsymbol{A} =\n",
    "        % ベクトルや行列は\"left[\"と\"right]\"でベクトルや行列の括弧を作る\n",
    "        % 括弧内に\"array\"環境を展開する\n",
    "        % {c|cc}の形で中央揃え、縦線、中央揃え*2の並びに出来る\n",
    "        \\left[\\begin{array}{c}\n",
    "            -1 & 2 & 3 \\\\\n",
    "            4 & -5 & 6 \\\\\n",
    "            7 & 8 & 9 \\\\\n",
    "        \\end{array}\\right] \\quad\n",
    "    \\boldsymbol{B} =\n",
    "        \\left[\\begin{array}{c}\n",
    "            0 & 2 & 1 \\\\\n",
    "            0 & 2 & -8 \\\\\n",
    "            2 & 9 & -1 \\\\\n",
    "        \\end{array}\\right] \\quad\n",
    "    \\boldsymbol{AB} =\n",
    "        \\left[\\begin{array}{c}\n",
    "            6 & 29 & -20 \\\\\n",
    "            12 & 52 & 38 \\\\\n",
    "            -18 & -51 & -48 \\\\\n",
    "        \\end{array}\\right] \\quad\n",
    "$$"
   ]
  },
  {
   "cell_type": "markdown",
   "metadata": {},
   "source": [
    "### 行列積AB の計算方法\n",
    "ABの０行０列目　＝　６　の場合：　Aの０行目とBの０列目を積和演算する。　　　➡️　　　　-1 * 0 + 2 * 0 + 3 * 2 = 6<br>\n",
    "ABの０行1列目　＝　29　の場合：　Aの０行目とBの1列目を積和演算する。　　　➡️　　　　-1 * 2 + 2 * 2 + 3 * 9 = 29<br>\n",
    "ABの1行0列目　＝　12　の場合：　Aの1行目とBの0列目を積和演算する。　　　➡️　　　　4 * 0 + -5 * 0 + 6 * 2 = 12<br>\n",
    "\n",
    "他の要素も同様の計算にて求める。"
   ]
  },
  {
   "cell_type": "code",
   "execution_count": null,
   "metadata": {},
   "outputs": [],
   "source": []
  },
  {
   "cell_type": "markdown",
   "metadata": {},
   "source": [
    "# 【問題2】NumPyの関数による計算\n",
    "この行列積はNumPyのnp.matmul()やnp.dot()、または@演算子を使うことで簡単に計算できます。<br>\n",
    "これらを使い行列積を計算してください。"
   ]
  },
  {
   "cell_type": "code",
   "execution_count": 2,
   "metadata": {},
   "outputs": [
    {
     "name": "stdout",
     "output_type": "stream",
     "text": [
      "[[  6  29 -20]\n",
      " [ 12  52  38]\n",
      " [-18 -51 -48]]\n"
     ]
    }
   ],
   "source": [
    "print(np.matmul(a_ndarray, b_ndarray))"
   ]
  },
  {
   "cell_type": "code",
   "execution_count": 3,
   "metadata": {},
   "outputs": [
    {
     "name": "stdout",
     "output_type": "stream",
     "text": [
      "[[  6  29 -20]\n",
      " [ 12  52  38]\n",
      " [-18 -51 -48]]\n"
     ]
    }
   ],
   "source": [
    "print(np.dot(a_ndarray, b_ndarray))"
   ]
  },
  {
   "cell_type": "code",
   "execution_count": 4,
   "metadata": {},
   "outputs": [
    {
     "name": "stdout",
     "output_type": "stream",
     "text": [
      "[[  6  29 -20]\n",
      " [ 12  52  38]\n",
      " [-18 -51 -48]]\n"
     ]
    }
   ],
   "source": [
    "print(a_ndarray @ b_ndarray)"
   ]
  },
  {
   "cell_type": "code",
   "execution_count": null,
   "metadata": {},
   "outputs": [],
   "source": []
  },
  {
   "cell_type": "markdown",
   "metadata": {},
   "source": [
    "# 【問題3】ある要素の計算を実装\n",
    "手計算をする際はまず行列Aの0行目と行列Bの0列目に注目し、以下の計算を行ったかと思います。\n",
    "1. 行列Aの(0,0)の要素と行列Bの(0,0)の要素を掛け合わせる<br>\n",
    "2. 行列Aの(0,1)の要素と行列Bの(1,0)の要素を掛け合わせる<br>\n",
    "3. 行列Aの(0,2)の要素と行列Bの(2,0)の要素を掛け合わせる<br>\n",
    "4. それらの値を全て足し合わせる<br>\n",
    "\n",
    "この計算をnp.matmul()やnp.dot()、または@演算子を使わずに行うコードを書いてください。"
   ]
  },
  {
   "cell_type": "code",
   "execution_count": 5,
   "metadata": {},
   "outputs": [
    {
     "name": "stdout",
     "output_type": "stream",
     "text": [
      "6\n"
     ]
    }
   ],
   "source": [
    "element = []\n",
    "\n",
    "for i in range(a_ndarray.shape[0]):\n",
    "    for j in range(a_ndarray.shape[1]):\n",
    "        element.append(a_ndarray[i][j] * b_ndarray[j][i])\n",
    "    break\n",
    "\n",
    "print(sum(element))"
   ]
  },
  {
   "cell_type": "code",
   "execution_count": null,
   "metadata": {},
   "outputs": [],
   "source": []
  },
  {
   "cell_type": "markdown",
   "metadata": {},
   "source": [
    "# 【問題4】行列積を行う関数の作成\n",
    "問題3のコードを拡張し、行列積のスクラッチ実装を完成させてください。<br>\n",
    "行列AとBを引数に受け取り、行列積を返す関数としてください。"
   ]
  },
  {
   "cell_type": "code",
   "execution_count": 6,
   "metadata": {},
   "outputs": [
    {
     "name": "stdout",
     "output_type": "stream",
     "text": [
      "[[  6.  29. -20.]\n",
      " [ 12.  52.  38.]\n",
      " [-18. -51. -48.]]\n"
     ]
    }
   ],
   "source": [
    "def re_matrix_product(matrix_a, matrix_b):\n",
    "    matrix_ndarray = np.array([])\n",
    "    for i in range(matrix_a.shape[0]):\n",
    "        for j in range(matrix_b.shape[1]):\n",
    "            element = 0\n",
    "            for k in range(matrix_b.shape[0]):\n",
    "                element += matrix_a[i][k] * matrix_b[k][j]\n",
    "            matrix_ndarray = np.append(matrix_ndarray, element)\n",
    "\n",
    "    return matrix_ndarray.reshape(matrix_a.shape[0], matrix_b.shape[1])    #出力するサイズに変換して返す\n",
    "\n",
    "print(re_matrix_product(a_ndarray, b_ndarray))    #行列AとBを引数に入れて行列積を返す"
   ]
  },
  {
   "cell_type": "code",
   "execution_count": null,
   "metadata": {},
   "outputs": [],
   "source": []
  },
  {
   "cell_type": "markdown",
   "metadata": {},
   "source": [
    "# 【問題5】計算が定義されない入力を判定する\n",
    "問題4で作成した関数は、実装方法によってはこのDとEの配列を入力しても動いてしまう可能性があります。<br>\n",
    "この場合、不適切な計算が行われることになります。また、途中でエラーになる場合でも、<br>\n",
    "なぜエラーになったかが直接的には分かりづらいメッセージが表示されます。<br>\n",
    "if文などによってこれを防ぎ、入力される形に問題があることをprint()を使い表示するコードを書き加えてください。"
   ]
  },
  {
   "cell_type": "code",
   "execution_count": 7,
   "metadata": {},
   "outputs": [
    {
     "name": "stdout",
     "output_type": "stream",
     "text": [
      "[[-1  2  3]\n",
      " [ 4 -5  6]]\n",
      "[[-9  8  7]\n",
      " [ 6 -5  4]]\n"
     ]
    }
   ],
   "source": [
    "d_ndarray = np.array([[-1, 2, 3], [4, -5, 6]])\n",
    "e_ndarray = np.array([[-9, 8, 7], [6, -5, 4]])\n",
    "\n",
    "print(d_ndarray)\n",
    "print(e_ndarray)"
   ]
  },
  {
   "cell_type": "code",
   "execution_count": 8,
   "metadata": {},
   "outputs": [
    {
     "name": "stdout",
     "output_type": "stream",
     "text": [
      "matrix_aの列数とmatrix_bの行数が異なる為、計算ができません。\n"
     ]
    }
   ],
   "source": [
    "def re_matrix_product(matrix_a, matrix_b):\n",
    "    if matrix_a.shape[1] == matrix_b.shape[0]:\n",
    "        matrix_ndarray = np.array([])\n",
    "        for i in range(matrix_a.shape[0]):\n",
    "            for j in range(matrix_b.shape[1]):\n",
    "                element = 0\n",
    "                for k in range(matrix_b.shape[0]):\n",
    "                    element += matrix_a[i][k] * matrix_b[k][j]\n",
    "                matrix_ndarray = np.append(matrix_ndarray, element)\n",
    "\n",
    "        return matrix_ndarray.reshape(matrix_a.shape[0], matrix_b.shape[1])    #出力するサイズに変換して返す\n",
    "    \n",
    "    else:\n",
    "        return \"matrix_aの列数とmatrix_bの行数が異なる為、計算ができません。\"\n",
    "\n",
    "print(re_matrix_product(d_ndarray, e_ndarray)) "
   ]
  },
  {
   "cell_type": "code",
   "execution_count": null,
   "metadata": {},
   "outputs": [],
   "source": []
  },
  {
   "cell_type": "markdown",
   "metadata": {},
   "source": [
    "# 【問題6】転置\n",
    "片方の行列を転置することで、行列積が計算できるようになります。<br>\n",
    "np.transpose()や.Tアトリビュートを用いて転置し、行列積を計算してください。"
   ]
  },
  {
   "cell_type": "code",
   "execution_count": 9,
   "metadata": {},
   "outputs": [
    {
     "name": "stdout",
     "output_type": "stream",
     "text": [
      "[[ 33. -28.   9.]\n",
      " [-48.  41.  -6.]\n",
      " [  9.  -6.  45.]]\n"
     ]
    }
   ],
   "source": [
    "# 　d_ndarrayを転置\n",
    "\n",
    "def re_matrix_product(matrix_a, matrix_b):\n",
    "    if matrix_a.shape[1] == matrix_b.shape[0]:\n",
    "        matrix_ndarray = np.array([])\n",
    "        for i in range(matrix_a.shape[0]):\n",
    "            for j in range(matrix_b.shape[1]):\n",
    "                element = 0\n",
    "                for k in range(matrix_b.shape[0]):\n",
    "                    element += matrix_a[i][k] * matrix_b[k][j]\n",
    "                matrix_ndarray = np.append(matrix_ndarray, element)\n",
    "\n",
    "        return matrix_ndarray.reshape(matrix_a.shape[0], matrix_b.shape[1])    #出力するサイズに変換して返す\n",
    "    \n",
    "    else:\n",
    "        return \"matrix_aの列数とmatrix_bの行数が異なる為、計算ができません。\"\n",
    "\n",
    "print(re_matrix_product(d_ndarray.T, e_ndarray))    #d_ndarrayを転置"
   ]
  },
  {
   "cell_type": "code",
   "execution_count": 10,
   "metadata": {},
   "outputs": [
    {
     "name": "stdout",
     "output_type": "stream",
     "text": [
      "[[ 33 -28   9]\n",
      " [-48  41  -6]\n",
      " [  9  -6  45]]\n"
     ]
    }
   ],
   "source": [
    "print(d_ndarray.T @ e_ndarray)"
   ]
  },
  {
   "cell_type": "code",
   "execution_count": 11,
   "metadata": {},
   "outputs": [
    {
     "name": "stdout",
     "output_type": "stream",
     "text": [
      "[[ 46.  -4.]\n",
      " [-34.  73.]]\n"
     ]
    }
   ],
   "source": [
    "# 　e_ndarrayを転置\n",
    "\n",
    "def re_matrix_product(matrix_a, matrix_b):\n",
    "    if matrix_a.shape[1] == matrix_b.shape[0]:\n",
    "        matrix_ndarray = np.array([])\n",
    "        for i in range(matrix_a.shape[0]):\n",
    "            for j in range(matrix_b.shape[1]):\n",
    "                element = 0\n",
    "                for k in range(matrix_b.shape[0]):\n",
    "                    element += matrix_a[i][k] * matrix_b[k][j]\n",
    "                matrix_ndarray = np.append(matrix_ndarray, element)\n",
    "\n",
    "        return matrix_ndarray.reshape(matrix_a.shape[0], matrix_b.shape[1])    #出力するサイズに変換して返す\n",
    "    \n",
    "    else:\n",
    "        return \"matrix_aの列数とmatrix_bの行数が異なる為、計算ができません。\"\n",
    "\n",
    "print(re_matrix_product(d_ndarray, e_ndarray.T))    #e_ndarrayを転置"
   ]
  },
  {
   "cell_type": "code",
   "execution_count": 12,
   "metadata": {},
   "outputs": [
    {
     "name": "stdout",
     "output_type": "stream",
     "text": [
      "[[ 46  -4]\n",
      " [-34  73]]\n"
     ]
    }
   ],
   "source": [
    "print(d_ndarray @ e_ndarray.T)"
   ]
  },
  {
   "cell_type": "code",
   "execution_count": null,
   "metadata": {},
   "outputs": [],
   "source": []
  }
 ],
 "metadata": {
  "kernelspec": {
   "display_name": "Python 3",
   "language": "python",
   "name": "python3"
  },
  "language_info": {
   "codemirror_mode": {
    "name": "ipython",
    "version": 3
   },
   "file_extension": ".py",
   "mimetype": "text/x-python",
   "name": "python",
   "nbconvert_exporter": "python",
   "pygments_lexer": "ipython3",
   "version": "3.7.4"
  }
 },
 "nbformat": 4,
 "nbformat_minor": 2
}
