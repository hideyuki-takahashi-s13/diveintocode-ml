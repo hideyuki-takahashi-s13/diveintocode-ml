{
 "cells": [
  {
   "cell_type": "markdown",
   "metadata": {},
   "source": [
    "# 【問題1】ダーツのまとを選ぶ\n",
    "ダーツのまとを選ぶためにサイコロを実装しましょう。<br>\n",
    "《ヒント》<br>\n",
    "「サイコロを振る」動作を表現するのにnp.random.choice()を用います。こうすることで配列の中からランダムに要素を1つ選ぶことができます。"
   ]
  },
  {
   "cell_type": "code",
   "execution_count": 1,
   "metadata": {},
   "outputs": [
    {
     "name": "stdout",
     "output_type": "stream",
     "text": [
      "1\n"
     ]
    }
   ],
   "source": [
    "import numpy as np\n",
    "\n",
    "list_dice = list(range(1, 7))\n",
    "roll_dice = np.random.choice(list_dice)\n",
    "print(roll_dice)"
   ]
  },
  {
   "cell_type": "code",
   "execution_count": null,
   "metadata": {},
   "outputs": [],
   "source": []
  },
  {
   "cell_type": "markdown",
   "metadata": {},
   "source": [
    "# 【問題2】ダーツを投げて、刺さった場所を記録する\n",
    "ダーツの刺さった場所(x座標、y座標)を正規分布から値を発生させることで表現しましょう。<br>\n",
    "正規分布のx方向の「中心」は問題1で出たサイコロの番号、「標準偏差」は0.1としてください。<br>\n",
    "刺さった場所（座標）は、配列で保持するようにしてください。"
   ]
  },
  {
   "cell_type": "code",
   "execution_count": 2,
   "metadata": {},
   "outputs": [
    {
     "name": "stdout",
     "output_type": "stream",
     "text": [
      "[[ 1.0596  -0.09341]\n",
      " [ 0.91019  0.01569]\n",
      " [ 0.89    -0.11098]\n",
      " [ 1.01074 -0.04012]\n",
      " [ 1.13928  0.01071]\n",
      " [ 1.19258 -0.13216]\n",
      " [ 1.11129  0.01591]\n",
      " [ 1.06583  0.025  ]\n",
      " [ 0.88402  0.05831]\n",
      " [ 1.04354  0.04501]]\n"
     ]
    }
   ],
   "source": [
    "STD = 0.1    #標準偏差\n",
    "n_darts = 10    #ダーツを投げる回数\n",
    "\n",
    "x_normal = np.random.normal(roll_dice, STD, n_darts)    #x座標\n",
    "y_normal = np.random.normal(0, STD, n_darts)    #y座標\n",
    "\n",
    "coordinate_darts = []\n",
    "for i in range(n_darts):\n",
    "    coordinate_elements = [x_normal[i]]\n",
    "    coordinate_elements.append(y_normal[i])\n",
    "    coordinate_darts.append(coordinate_elements)\n",
    "\n",
    "np.set_printoptions(precision=5)\n",
    "# print(x_normal)\n",
    "# print(y_normal)\n",
    "\n",
    "coordinate_darts = np.array([coordinate_darts])\n",
    "\n",
    "print(coordinate_darts.reshape(n_darts, 2))"
   ]
  },
  {
   "cell_type": "code",
   "execution_count": 3,
   "metadata": {},
   "outputs": [
    {
     "data": {
      "text/plain": [
       "array([[-0.00879, -0.06668],\n",
       "       [ 0.10194, -0.06099],\n",
       "       [-0.06518, -0.02949],\n",
       "       [ 0.10282,  0.15538],\n",
       "       [-0.05561, -0.14405],\n",
       "       [ 0.06597, -0.09561],\n",
       "       [ 0.06235, -0.05707],\n",
       "       [-0.01405,  0.0303 ],\n",
       "       [-0.00823, -0.01966],\n",
       "       [ 0.04878,  0.03564]])"
      ]
     },
     "execution_count": 3,
     "metadata": {},
     "output_type": "execute_result"
    }
   ],
   "source": [
    "# np.random.multivariate_normal()　の場合\n",
    "\n",
    "mean = [0, 0]\n",
    "cov = [[0.01, 0], [0, 0.01]]\n",
    "\n",
    "np.random.multivariate_normal(mean, cov, 10)"
   ]
  },
  {
   "cell_type": "code",
   "execution_count": null,
   "metadata": {},
   "outputs": [],
   "source": []
  },
  {
   "cell_type": "markdown",
   "metadata": {},
   "source": [
    "# 【問題3】ダーツをたくさん投げて、まとの番号と紐付けた状態で記録する\n",
    "ダーツを1000回投げて、全てのダーツの刺さった位置をディクショナリに格納してください。<br>\n",
    "ディクショナリのkeyはダーツのまとの番号になります。<br>\n",
    "《ヒント》<br>\n",
    "「ダーツを1000回投げる」というのは 問題1のサイコロを1000回振る　ことに相当します。<br>\n",
    "問題1と問題2に加えディクショナリに座標を格納する操作をfor文の中に実装することになります。"
   ]
  },
  {
   "cell_type": "code",
   "execution_count": 10,
   "metadata": {},
   "outputs": [
    {
     "name": "stdout",
     "output_type": "stream",
     "text": [
      "defaultdict(<class 'list'>, {5: [[4.851180377632138, 0.21255038886926864], [4.93688091028355, -0.08249618676233844]], 6: [[5.975318814263906, 0.0026017150614960002], [6.046688298042437, -0.03057975123690774], [6.024770713943199, 0.022083055280767358]], 1: [[1.1052830741823274, -0.2167840923354489], [0.9704150119739312, -0.08978805008525034]], 4: [[3.99052598405838, -0.004182837134525569]], 3: [[2.9913952667610757, -0.17707221658869726]], 2: [[2.034489079940917, 0.0915579141390821]]})\n"
     ]
    }
   ],
   "source": [
    "from collections import defaultdict\n",
    "\n",
    "STD = 0.1    #標準偏差\n",
    "n_darts = 10    #ダーツを投げる回数\n",
    "\n",
    "position_darts = defaultdict(list)\n",
    "for i in range(n_darts):\n",
    "    list_dice = list(range(1, 7))\n",
    "    roll_dice = np.random.choice(list_dice)    #サイコロの目\n",
    "    xy_normal = []    #　ダーツの座標(x, y)\n",
    "    xy_normal.append(np.random.normal(roll_dice, STD))    #x座標\n",
    "    xy_normal.append(np.random.normal(0, STD))    #y座標\n",
    "    position_darts[roll_dice].append(xy_normal)    #まとの番号と座標を紐付けて辞書へ追加\n",
    "\n",
    "print(position_darts)"
   ]
  },
  {
   "cell_type": "code",
   "execution_count": null,
   "metadata": {},
   "outputs": [],
   "source": []
  },
  {
   "cell_type": "markdown",
   "metadata": {},
   "source": [
    "# 【問題4】ダーツのまとと刺さった位置を描画する\n",
    "問題3で作成したディクショナリからkeyごとに値を取り出し、まとごとに刺さった場所を描画してみましょう。<br>\n",
    "ダーツのまとを表現するためここではmatplotlibのpatchesクラスを用いてください。"
   ]
  },
  {
   "cell_type": "code",
   "execution_count": 5,
   "metadata": {},
   "outputs": [
    {
     "name": "stderr",
     "output_type": "stream",
     "text": [
      "/Users/takahashihideyuki/.pyenv/versions/anaconda3-2019.10/lib/python3.7/site-packages/ipykernel_launcher.py:22: MatplotlibDeprecationWarning: Adding an axes using the same arguments as a previous axes currently reuses the earlier instance.  In a future version, a new instance will always be created and returned.  Meanwhile, this warning can be suppressed, and the future behavior ensured, by passing a unique label to each axes instance.\n"
     ]
    },
    {
     "data": {
      "image/png": "[encoded data removed]",
      "text/plain": [
       "<Figure size 432x288 with 1 Axes>"
      ]
     },
     "metadata": {
      "needs_background": "light"
     },
     "output_type": "display_data"
    }
   ],
   "source": [
    "import matplotlib.patches as patches\n",
    "import matplotlib.pyplot as plt\n",
    "%matplotlib inline\n",
    "\n",
    "keys_list = list(position_darts.keys())\n",
    "\n",
    "for i in keys_list:\n",
    "    value_list = position_darts.get(i)\n",
    "    value_list_x = []\n",
    "    value_list_y = []\n",
    "    for j in range(len(value_list)):\n",
    "        value_list_x.append(value_list[j][0])\n",
    "        value_list_y.append(value_list[j][1])\n",
    "        \n",
    "    plt.xlabel(\"x1\")\n",
    "    plt.ylabel(\"x2\")\n",
    "    plt.title(\"scatter\")\n",
    "    plt.scatter(value_list_x, value_list_y) \n",
    "    \n",
    "   \n",
    "    \n",
    "    ax = plt.axes()\n",
    "\n",
    "    c1 = patches.Circle(xy=(i, 0), radius=0.05, color='r', fill=True)\n",
    "    c2 = patches.Circle(xy=(i, 0), radius=0.2, ec='b', fill=False)\n",
    "    c3 = patches.Circle(xy=(i, 0), radius=0.5, ec='b', fill=False)\n",
    "    ax.add_patch(c1)\n",
    "    ax.add_patch(c2)\n",
    "    ax.add_patch(c3)\n",
    "\n",
    "    plt.axis('scaled')\n",
    "    ax.set_aspect('equal')\n",
    "    \n",
    "plt.show()"
   ]
  },
  {
   "cell_type": "markdown",
   "metadata": {},
   "source": [
    "# 問題5】関数化\n",
    "ダーツを投げる回数、ダーツのまとの数が変わっても描画できるように、問題1~問題4で作成したコードを関数化しましょう。<br>\n",
    "《ヒント》<br>\n",
    "ダーツの投げる回数とダーツのまとの数を関数の引数にしましょう。"
   ]
  },
  {
   "cell_type": "code",
   "execution_count": 6,
   "metadata": {},
   "outputs": [
    {
     "name": "stderr",
     "output_type": "stream",
     "text": [
      "/Users/takahashihideyuki/.pyenv/versions/anaconda3-2019.10/lib/python3.7/site-packages/ipykernel_launcher.py:33: MatplotlibDeprecationWarning: Adding an axes using the same arguments as a previous axes currently reuses the earlier instance.  In a future version, a new instance will always be created and returned.  Meanwhile, this warning can be suppressed, and the future behavior ensured, by passing a unique label to each axes instance.\n"
     ]
    },
    {
     "data": {
      "image/png": "[encoded data removed]",
      "text/plain": [
       "<Figure size 432x288 with 1 Axes>"
      ]
     },
     "metadata": {
      "needs_background": "light"
     },
     "output_type": "display_data"
    }
   ],
   "source": [
    "import numpy as np\n",
    "from collections import defaultdict\n",
    "import matplotlib.patches as patches\n",
    "import matplotlib.pyplot as plt\n",
    "%matplotlib inline\n",
    "\n",
    "STD = 0.1    #標準偏差\n",
    "\n",
    "def darts(n_darts, n_target):\n",
    "    position_darts = defaultdict(list)\n",
    "    for i in range(n_darts):\n",
    "        list_target = list(range(1, n_target + 1))\n",
    "        roll_dice = np.random.choice(list_target)    #的の数\n",
    "        xy_normal = []    #　ダーツの座標(x, y)\n",
    "        xy_normal.append(np.random.normal(roll_dice, STD))    #x座標\n",
    "        xy_normal.append(np.random.normal(0, STD))    #y座標\n",
    "        position_darts[roll_dice].append(xy_normal)    #まとの番号と座標を紐付けて辞書へ追加\n",
    "\n",
    "    keys_list = list(position_darts.keys())\n",
    "    for i in keys_list:\n",
    "        value_list = position_darts.get(i)\n",
    "        value_list_x = []\n",
    "        value_list_y = []\n",
    "        for j in range(len(value_list)):\n",
    "            value_list_x.append(value_list[j][0])\n",
    "            value_list_y.append(value_list[j][1])\n",
    "\n",
    "        plt.xlabel(\"x1\")\n",
    "        plt.ylabel(\"x2\")\n",
    "        plt.title(\"scatter\")\n",
    "        plt.scatter(value_list_x, value_list_y) \n",
    "\n",
    "        ax = plt.axes()\n",
    "\n",
    "        c1 = patches.Circle(xy=(i, 0), radius=0.05, color='r', fill=True)\n",
    "        c2 = patches.Circle(xy=(i, 0), radius=0.2, ec='b', fill=False)\n",
    "        c3 = patches.Circle(xy=(i, 0), radius=0.5, ec='b', fill=False)\n",
    "        ax.add_patch(c1)\n",
    "        ax.add_patch(c2)\n",
    "        ax.add_patch(c3)\n",
    "\n",
    "        plt.axis('scaled')\n",
    "        ax.set_aspect('equal')\n",
    "\n",
    "    plt.show()\n",
    "    \n",
    "darts(n_darts=1000, n_target=10)    #ダーツを投げる回数と的の数を引数に設定"
   ]
  },
  {
   "cell_type": "code",
   "execution_count": null,
   "metadata": {},
   "outputs": [],
   "source": []
  }
 ],
 "metadata": {
  "kernelspec": {
   "display_name": "Python 3",
   "language": "python",
   "name": "python3"
  },
  "language_info": {
   "codemirror_mode": {
    "name": "ipython",
    "version": 3
   },
   "file_extension": ".py",
   "mimetype": "text/x-python",
   "name": "python",
   "nbconvert_exporter": "python",
   "pygments_lexer": "ipython3",
   "version": "3.7.4"
  }
 },
 "nbformat": 4,
 "nbformat_minor": 2
}
