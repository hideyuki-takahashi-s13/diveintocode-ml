{
 "cells": [
  {
   "cell_type": "markdown",
   "metadata": {},
   "source": [
    "# 【問題1】1次関数\n",
    "xが-50から50の範囲で次の式を考えます。<br>\n",
    "y = (1/2)*x + 1   (-50 ≦ x ≦ 50)<br>\n",
    "-50から50まで0.1間隔のxを表すndarrayと、各要素に対するyを表すndarrayを作成してください。"
   ]
  },
  {
   "cell_type": "code",
   "execution_count": 1,
   "metadata": {},
   "outputs": [
    {
     "name": "stdout",
     "output_type": "stream",
     "text": [
      "[-50.  -49.9 -49.8 ...  49.8  49.9  50. ]\n",
      "[-24.   -23.95 -23.9  ...  25.9   25.95  26.  ]\n"
     ]
    }
   ],
   "source": [
    "import numpy as np\n",
    "\n",
    "x = np.arange(-50, 50.1, 0.1)\n",
    "\n",
    "y = np.array((1/2)*x + 1)\n",
    "\n",
    "print(x) \n",
    "print(y)"
   ]
  },
  {
   "cell_type": "code",
   "execution_count": null,
   "metadata": {},
   "outputs": [],
   "source": []
  },
  {
   "cell_type": "markdown",
   "metadata": {},
   "source": [
    "# 【問題2】配列の結合\n",
    "問題1で作成したndarrayを結合し、(1001, 2)の形の配列にしてください。<br>\n",
    "0列目にx、1列目にyが来るようにします。"
   ]
  },
  {
   "cell_type": "code",
   "execution_count": 2,
   "metadata": {
    "scrolled": false
   },
   "outputs": [
    {
     "name": "stdout",
     "output_type": "stream",
     "text": [
      "[[-50.   -24.  ]\n",
      " [-49.9  -23.95]\n",
      " [-49.8  -23.9 ]\n",
      " ...\n",
      " [ 49.8   25.9 ]\n",
      " [ 49.9   25.95]\n",
      " [ 50.    26.  ]]\n",
      "(1001, 2)\n",
      "[[-50.   -24.  ]\n",
      " [-49.9  -23.95]\n",
      " [-49.8  -23.9 ]\n",
      " ...\n",
      " [ 49.8   25.9 ]\n",
      " [ 49.9   25.95]\n",
      " [ 50.    26.  ]]\n",
      "(1001, 2)\n",
      "[[-50.   -24.  ]\n",
      " [-49.9  -23.95]\n",
      " [-49.8  -23.9 ]\n",
      " ...\n",
      " [ 49.8   25.9 ]\n",
      " [ 49.9   25.95]\n",
      " [ 50.    26.  ]]\n",
      "(1001, 2)\n"
     ]
    }
   ],
   "source": [
    "x_rsp = x.reshape(-1, 1)\n",
    "y_rsp = y.reshape(-1, 1)\n",
    "\n",
    "# x_rsp と　y_rspをnp.concatenateで結合\n",
    "z = np.concatenate([x_rsp, y_rsp], axis=1)\n",
    "print(z)\n",
    "print(z.shape)\n",
    "\n",
    "# x_rsp と　y_rspをnp.hstackで結合\n",
    "z_2 = np.hstack([x_rsp, y_rsp])\n",
    "print(z_2)\n",
    "print(z_2.shape)\n",
    "\n",
    "# xと　yをnp.vstackで結合して転置\n",
    "z_3 = np.vstack([x, y]).T \n",
    "print(z_3)\n",
    "print(z_3.shape)"
   ]
  },
  {
   "cell_type": "markdown",
   "metadata": {},
   "source": [
    "# 【問題3】勾配を求める\n",
    "各x座標における勾配を求めます。ここで勾配はyの変化量をxの変化量で割ることで計算します。<br>\n",
    "各変化量は以下の図のように隣同士の要素の差から近似的に求めます。<br>\n",
    "《注意》<rb>\n",
    "厳密に各点における勾配を求めるには極限（微分）を利用する必要があります。<br>\n",
    "勾配はx座標の間隔を使うので、xの要素数に対して一つ少なくなります。<br>"
   ]
  },
  {
   "cell_type": "code",
   "execution_count": 3,
   "metadata": {},
   "outputs": [
    {
     "name": "stdout",
     "output_type": "stream",
     "text": [
      "<class 'numpy.ndarray'>\n"
     ]
    }
   ],
   "source": [
    "d_x = x[1:] - x[:-1]    # xの変化量\n",
    "# print(d_x)\n",
    "\n",
    "d_y = y[1:] - y[:-1]    # yの変化量\n",
    "# print(d_y)\n",
    "\n",
    "slope = d_y / d_x    # 勾配\n",
    "print(type(slope))"
   ]
  },
  {
   "cell_type": "code",
   "execution_count": null,
   "metadata": {},
   "outputs": [],
   "source": []
  },
  {
   "cell_type": "markdown",
   "metadata": {},
   "source": [
    "# 【問題4】グラフを描く\n",
    "1次関数のグラフをMatplotlibを用いて描いてください。<br>\n",
    "また、それとは別に横軸をx、縦軸を勾配としたグラフも描いてください。"
   ]
  },
  {
   "cell_type": "code",
   "execution_count": 4,
   "metadata": {},
   "outputs": [
    {
     "data": {
      "image/png": "[encoded data removed]",
      "text/plain": [
       "<Figure size 432x288 with 1 Axes>"
      ]
     },
     "metadata": {
      "needs_background": "light"
     },
     "output_type": "display_data"
    }
   ],
   "source": [
    "import matplotlib.pyplot as plt\n",
    "%matplotlib inline\n",
    "\n",
    "# １次関数のグラフ\n",
    "plt.title(\"function\")\n",
    "plt.plot(x, y)\n",
    "plt.show()"
   ]
  },
  {
   "cell_type": "code",
   "execution_count": 5,
   "metadata": {},
   "outputs": [
    {
     "data": {
      "image/png": "[encoded data removed]",
      "text/plain": [
       "<Figure size 432x288 with 1 Axes>"
      ]
     },
     "metadata": {
      "needs_background": "light"
     },
     "output_type": "display_data"
    }
   ],
   "source": [
    "slope_1001 = np.append(slope, 0.5)    # slopeの要素数をxに合わせる（１０００→1001）\n",
    "\n",
    "# 勾配のグラフ\n",
    "plt.title(\"gradient\")\n",
    "plt.plot(x, slope_1001)\n",
    "plt.show()"
   ]
  },
  {
   "cell_type": "code",
   "execution_count": null,
   "metadata": {},
   "outputs": [],
   "source": []
  },
  {
   "cell_type": "markdown",
   "metadata": {},
   "source": [
    "# 【問題5】Pythonの関数化\n",
    "問題1から問題3までの範囲をまとめて行うPythonの関数を雛形を参考に作成してください。<br>\n",
    "そして、以下の3式の勾配を0.1間隔で求めてndarrayで出力してください。<br>\n",
    "y = x ** 2                      (-50 ≦ x ≦ 50)<br>\n",
    "y = 2 * x ** 2 + 2 ** x       (-50 ≦ x ≦ 50)<br>\n",
    "y = sin(x ** (1/2))           (0 ≦ x ≦ 50)<br>\n",
    "また、問題4と同様にグラフを描いてください。<br>\n",
    "ndarrayに対して三角関数のsinの計算を行うには np.sin()を用います。"
   ]
  },
  {
   "cell_type": "code",
   "execution_count": 6,
   "metadata": {},
   "outputs": [
    {
     "name": "stdout",
     "output_type": "stream",
     "text": [
      "(1001, 2)\n",
      "(1000,)\n"
     ]
    },
    {
     "data": {
      "image/png": "[encoded data removed]",
      "text/plain": [
       "<Figure size 432x288 with 1 Axes>"
      ]
     },
     "metadata": {
      "needs_background": "light"
     },
     "output_type": "display_data"
    },
    {
     "data": {
      "image/png": "[encoded data removed]",
      "text/plain": [
       "<Figure size 432x288 with 1 Axes>"
      ]
     },
     "metadata": {
      "needs_background": "light"
     },
     "output_type": "display_data"
    }
   ],
   "source": [
    "# 問題1から問題3までの範囲をまとめて行う関数\n",
    "\n",
    "def compute_gradient(function, x_range=(-50, 50.1, 0.1)):\n",
    "    \n",
    "#   \"\"\"\n",
    "#   変化量を使い勾配を計算する。\n",
    "\n",
    "#   Parameters\n",
    "#   ----------------\n",
    "#   function : function\n",
    "#     求めたい関数、xのndarrayを入れるとyのndarrayを返すもの。\n",
    "#   x_range : tuple\n",
    "#     np.arange()の引数と同じ方法で範囲を指定する。\n",
    "\n",
    "#   Returns\n",
    "#   ----------------\n",
    "#   array_xy : ndarray, shape(n, 2)\n",
    "#     xとyを結合したもの。nはx_rangeに依存する。\n",
    "#   gradient : ndarray, shape(n-1,)\n",
    "#     関数の勾配。差をとるため要素は1つ減る\n",
    "#   \"\"\"\n",
    "\n",
    "    array_x = np.arange(x_range[0], x_range[1], x_range[2])\n",
    "    array_y = function(array_x)\n",
    "    array_xy = np.vstack([array_x, array_y]).T    # xと　yをnp.vstackで結合して転置 \n",
    "    \n",
    "    \n",
    "    d_x = array_x[1:] - array_x[:-1]    # xの変化量\n",
    "    d_y = array_y[1:] - array_y[:-1]    # yの変化量\n",
    "    gradient = d_y / d_x    # 勾配   \n",
    "    \n",
    "    return array_xy, gradient\n",
    "\n",
    "def function1(array_x):\n",
    "    array_y = np.array((1/2)*array_x + 1)\n",
    "    return array_y\n",
    "\n",
    "array_xy, gradient = compute_gradient(function1)\n",
    "print(array_xy.shape)\n",
    "print(gradient.shape)\n",
    "\n",
    "# 関数のグラフ\n",
    "plt.title(\"function\")\n",
    "plt.plot(array_xy.T[0], array_xy.T[1])\n",
    "plt.show()\n",
    "\n",
    "# 勾配のグラフ\n",
    "plt.title(\"gradient\")\n",
    "plt.plot(array_xy.T[0][1:], gradient)\n",
    "plt.show()"
   ]
  },
  {
   "cell_type": "code",
   "execution_count": 7,
   "metadata": {},
   "outputs": [
    {
     "name": "stdout",
     "output_type": "stream",
     "text": [
      "<class 'numpy.ndarray'>\n",
      "<class 'numpy.ndarray'>\n"
     ]
    },
    {
     "data": {
      "image/png": "[encoded data removed]",
      "text/plain": [
       "<Figure size 432x288 with 1 Axes>"
      ]
     },
     "metadata": {
      "needs_background": "light"
     },
     "output_type": "display_data"
    },
    {
     "data": {
      "image/png": "[encoded data removed]",
      "text/plain": [
       "<Figure size 432x288 with 1 Axes>"
      ]
     },
     "metadata": {
      "needs_background": "light"
     },
     "output_type": "display_data"
    }
   ],
   "source": [
    "# y = x**2   (-50 ≦ x ≦ 50)\n",
    "\n",
    "def function1(array_x):\n",
    "    array_y = np.array(array_x**2)    # y = x**2 \n",
    "    return array_y\n",
    "\n",
    "array_xy, gradient = compute_gradient(function1)\n",
    "print(type(array_xy))\n",
    "print(type(gradient))\n",
    "\n",
    "# 関数のグラフ\n",
    "plt.title(\"function\")\n",
    "plt.plot(array_xy.T[0], array_xy.T[1])\n",
    "plt.show()\n",
    "\n",
    "# 勾配のグラフ\n",
    "plt.title(\"gradient\")\n",
    "plt.plot(array_xy.T[0][1:], gradient)\n",
    "plt.show()"
   ]
  },
  {
   "cell_type": "code",
   "execution_count": 8,
   "metadata": {},
   "outputs": [
    {
     "name": "stdout",
     "output_type": "stream",
     "text": [
      "<class 'numpy.ndarray'>\n",
      "<class 'numpy.ndarray'>\n"
     ]
    },
    {
     "data": {
      "image/png": "[encoded data removed]",
      "text/plain": [
       "<Figure size 432x288 with 1 Axes>"
      ]
     },
     "metadata": {
      "needs_background": "light"
     },
     "output_type": "display_data"
    },
    {
     "data": {
      "image/png": "[encoded data removed]",
      "text/plain": [
       "<Figure size 432x288 with 1 Axes>"
      ]
     },
     "metadata": {
      "needs_background": "light"
     },
     "output_type": "display_data"
    }
   ],
   "source": [
    "# y = 2 * x**2 + 2**x  (-50 ≦ x ≦ 50)\n",
    "\n",
    "def function1(array_x):\n",
    "    array_y = np.array(2 * array_x**2 + 2**array_x)    # y = 2 * x**2 + 2**x \n",
    "    return array_y\n",
    "\n",
    "array_xy, gradient = compute_gradient(function1)\n",
    "print(type(array_xy))\n",
    "print(type(gradient))\n",
    "\n",
    "# 関数のグラフ\n",
    "plt.title(\"function\")\n",
    "plt.plot(array_xy.T[0], array_xy.T[1])\n",
    "plt.show()\n",
    "\n",
    "# 勾配のグラフ\n",
    "plt.title(\"gradient\")\n",
    "plt.plot(array_xy.T[0][1:], gradient)\n",
    "plt.show()"
   ]
  },
  {
   "cell_type": "code",
   "execution_count": 9,
   "metadata": {},
   "outputs": [
    {
     "name": "stdout",
     "output_type": "stream",
     "text": [
      "<class 'numpy.ndarray'>\n",
      "<class 'numpy.ndarray'>\n"
     ]
    },
    {
     "data": {
      "image/png": "[encoded data removed]",
      "text/plain": [
       "<Figure size 432x288 with 1 Axes>"
      ]
     },
     "metadata": {
      "needs_background": "light"
     },
     "output_type": "display_data"
    },
    {
     "data": {
      "image/png": "[encoded data removed]",
      "text/plain": [
       "<Figure size 432x288 with 1 Axes>"
      ]
     },
     "metadata": {
      "needs_background": "light"
     },
     "output_type": "display_data"
    }
   ],
   "source": [
    "# y = sin(x**(1/2))    (0 ≦ x ≦ 50)\n",
    "\n",
    "def function1(array_x):\n",
    "    array_y = np.array(np.sin(array_x**(1/2)))    # y = sin(x**(1/2))\n",
    "    return array_y\n",
    "\n",
    "array_xy, gradient = compute_gradient(function1, x_range=(0, 50.1, 0.1))    # 0 ≦ x ≦ 50に変更\n",
    "print(type(array_xy))\n",
    "print(type(gradient))\n",
    "\n",
    "# 関数のグラフ\n",
    "plt.title(\"function\")\n",
    "plt.plot(array_xy.T[0], array_xy.T[1])\n",
    "plt.show()\n",
    "\n",
    "# 勾配のグラフ\n",
    "plt.title(\"gradient\")\n",
    "plt.plot(array_xy.T[0][1:], gradient)\n",
    "plt.show()"
   ]
  },
  {
   "cell_type": "code",
   "execution_count": null,
   "metadata": {},
   "outputs": [],
   "source": []
  },
  {
   "cell_type": "markdown",
   "metadata": {},
   "source": [
    "# 【問題6】最小値を求める\n",
    "問題5で扱った関数のyの最小値を求めます。xの範囲も問題5と同様とします。<br>\n",
    "今回は勾配降下法ではなく、ndarrayのminメソッド、argminメソッドを用いてください。<br>\n",
    "minメソッドは最小値を、argminメソッドは最小値のインデックスを取得することができます。<br>\n",
    "また、最小のyをとる前後の勾配を表示してください。"
   ]
  },
  {
   "cell_type": "code",
   "execution_count": 10,
   "metadata": {},
   "outputs": [
    {
     "name": "stdout",
     "output_type": "stream",
     "text": [
      "関数：y = (1/2)*x + 1   (-50 ≦ x ≦ 50)   の最小値は-24.0、そのインデックスは0です。\n",
      "最小のyをとる前後の勾配は、前は「無し」、後ろは0.5です。\n"
     ]
    }
   ],
   "source": [
    "# y = (1/2)*x + 1   (-50 ≦ x ≦ 50)\n",
    "x = np.arange(-50, 50.1, 0.1)\n",
    "y = np.array((1/2)*x + 1)\n",
    "y_min = y.min()\n",
    "y_argmin = y.argmin()\n",
    "print(\"関数：{}   の最小値は{}、そのインデックスは{}です。\".format(\"y = (1/2)*x + 1   (-50 ≦ x ≦ 50)\", y_min, y_argmin))\n",
    "\n",
    "gradient_r = (y[y_argmin + 1] - y[y_argmin]) / (x[y_argmin + 1] - x[y_argmin])    # 勾配の計算（後ろ）\n",
    "print(\"最小のyをとる前後の勾配は、前は{}、後ろは{}です。\".format(\"「無し」\", gradient_r))"
   ]
  },
  {
   "cell_type": "code",
   "execution_count": 11,
   "metadata": {},
   "outputs": [
    {
     "name": "stdout",
     "output_type": "stream",
     "text": [
      "関数：y = x**2   (-50 ≦ x ≦ 50)   の最小値は5.048709793414476e-25、そのインデックスは500です。\n",
      "最小のyをとる前後の勾配は、前は-0.09999999999858034、後ろは0.1000000000014225です。\n"
     ]
    }
   ],
   "source": [
    "# y = x**2   (-50 ≦ x ≦ 50)\n",
    "x = np.arange(-50, 50.1, 0.1)\n",
    "y = np.array(x**2)\n",
    "y_min = y.min()\n",
    "y_argmin = y.argmin()\n",
    "print(\"関数：{}   の最小値は{}、そのインデックスは{}です。\".format(\"y = x**2   (-50 ≦ x ≦ 50)\", y_min, y_argmin))\n",
    "\n",
    "gradient_f = (y[y_argmin - 1] - y[y_argmin]) / (x[y_argmin - 1] - x[y_argmin])    # 勾配の計算（前）             \n",
    "gradient_r = (y[y_argmin + 1] - y[y_argmin]) / (x[y_argmin + 1] - x[y_argmin])    # 勾配の計算（後ろ）\n",
    "print(\"最小のyをとる前後の勾配は、前は{}、後ろは{}です。\".format(gradient_f, gradient_r))"
   ]
  },
  {
   "cell_type": "code",
   "execution_count": 12,
   "metadata": {},
   "outputs": [
    {
     "name": "stdout",
     "output_type": "stream",
     "text": [
      "関数：y = 2 * x**2 + 2**x  (-50 ≦ x ≦ 50)   の最小値は0.9505505632959851、そのインデックスは498です。\n",
      "最小のyをとる前後の勾配は、前は-0.4170183305979998、後ろは0.024824282409972788です。\n"
     ]
    }
   ],
   "source": [
    "# y = 2 * x**2 + 2**x  (-50 ≦ x ≦ 50)\n",
    "x = np.arange(-50, 50.1, 0.1)\n",
    "y = np.array(2 * x**2 + 2**x)\n",
    "y_min = y.min()\n",
    "y_argmin = y.argmin()\n",
    "print(\"関数：{}   の最小値は{}、そのインデックスは{}です。\".format(\"y = 2 * x**2 + 2**x  (-50 ≦ x ≦ 50)\", y_min, y_argmin))\n",
    "\n",
    "gradient_f = (y[y_argmin - 1] - y[y_argmin]) / (x[y_argmin - 1] - x[y_argmin])    # 勾配の計算（前）             \n",
    "gradient_r = (y[y_argmin + 1] - y[y_argmin]) / (x[y_argmin + 1] - x[y_argmin])    # 勾配の計算（後ろ）\n",
    "print(\"最小のyをとる前後の勾配は、前は{}、後ろは{}です。\".format(gradient_f, gradient_r))"
   ]
  },
  {
   "cell_type": "code",
   "execution_count": 13,
   "metadata": {},
   "outputs": [
    {
     "name": "stdout",
     "output_type": "stream",
     "text": [
      "関数：y = sin(x**(1/2))    (0 ≦ x ≦ 50)   の最小値は-0.9999997540298113、そのインデックスは222です。\n",
      "最小のyをとる前後の勾配は、前は-0.0006388422559544435、後ろは0.0004874477930660974です。\n"
     ]
    }
   ],
   "source": [
    "# y = sin(x**(1/2))    (0 ≦ x ≦ 50)\n",
    "x = np.arange(0, 50.1, 0.1)\n",
    "y = np.array(np.sin(x**(1/2)))\n",
    "y_min = y.min()\n",
    "y_argmin = y.argmin()\n",
    "print(\"関数：{}   の最小値は{}、そのインデックスは{}です。\".format(\"y = sin(x**(1/2))    (0 ≦ x ≦ 50)\", y_min, y_argmin))\n",
    "\n",
    "gradient_f = (y[y_argmin - 1] - y[y_argmin]) / (x[y_argmin - 1] - x[y_argmin])    # 勾配の計算（前）             \n",
    "gradient_r = (y[y_argmin + 1] - y[y_argmin]) / (x[y_argmin + 1] - x[y_argmin])    # 勾配の計算（後ろ）\n",
    "print(\"最小のyをとる前後の勾配は、前は{}、後ろは{}です。\".format(gradient_f, gradient_r))"
   ]
  },
  {
   "cell_type": "code",
   "execution_count": null,
   "metadata": {},
   "outputs": [],
   "source": []
  },
  {
   "cell_type": "code",
   "execution_count": null,
   "metadata": {},
   "outputs": [],
   "source": []
  },
  {
   "cell_type": "code",
   "execution_count": null,
   "metadata": {},
   "outputs": [],
   "source": []
  }
 ],
 "metadata": {
  "kernelspec": {
   "display_name": "Python 3",
   "language": "python",
   "name": "python3"
  },
  "language_info": {
   "codemirror_mode": {
    "name": "ipython",
    "version": 3
   },
   "file_extension": ".py",
   "mimetype": "text/x-python",
   "name": "python",
   "nbconvert_exporter": "python",
   "pygments_lexer": "ipython3",
   "version": "3.7.4"
  }
 },
 "nbformat": 4,
 "nbformat_minor": 2
}
